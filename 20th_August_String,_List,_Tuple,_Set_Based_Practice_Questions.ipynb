{
 "cells": [
  {
   "cell_type": "code",
   "execution_count": 1,
   "id": "1611d351-1b74-4d75-9f26-66741cb62d39",
   "metadata": {},
   "outputs": [
    {
     "name": "stdin",
     "output_type": "stream",
     "text": [
      "Enter the String :  pwskills is best platform to learn data-science\n"
     ]
    },
    {
     "name": "stdout",
     "output_type": "stream",
     "text": [
      "ecneics-atad nrael ot mroftalp tseb si sllikswp\n"
     ]
    }
   ],
   "source": [
    "#TOPIC: String Based Assignment Problem\n",
    "#1. Write a program to reverse a string.\n",
    "\n",
    "string = input(\"Enter the String : \")\n",
    "print(string[::-1])"
   ]
  },
  {
   "cell_type": "code",
   "execution_count": 2,
   "id": "0957d079-aff3-432c-83df-6759209c7864",
   "metadata": {},
   "outputs": [
    {
     "name": "stdin",
     "output_type": "stream",
     "text": [
      "Enter the String. :  nitin\n"
     ]
    },
    {
     "name": "stdout",
     "output_type": "stream",
     "text": [
      "Given string 'nitin' is PALINDROME STRING.\n"
     ]
    }
   ],
   "source": [
    "#TOPIC: String Based Assignment Problem\n",
    "#2. Check if a string is a palindrome.\n",
    "\n",
    "def palindromeChecker(string):\n",
    "    if string[::-1].lower() == string.lower():\n",
    "        return True\n",
    "    else:\n",
    "        return False\n",
    "    \n",
    "def main():\n",
    "    user_string = input(\"Enter the String. : \")\n",
    "    if palindromeChecker(user_string):\n",
    "        print(\"Given string '{}' is PALINDROME STRING.\".format(user_string))\n",
    "    else:\n",
    "        print(\"Given string '{}' is NOT PALINDROME STRING.\".format(user_string))\n",
    "        \n",
    "if __name__=='__main__':\n",
    "    main()"
   ]
  },
  {
   "cell_type": "code",
   "execution_count": 3,
   "id": "7eb1438c-325b-43e4-ac1a-1cd90b34489e",
   "metadata": {},
   "outputs": [
    {
     "name": "stdin",
     "output_type": "stream",
     "text": [
      "Enter the String :  pwskills\n"
     ]
    },
    {
     "name": "stdout",
     "output_type": "stream",
     "text": [
      "Reversed String :  PWSKILLS\n"
     ]
    }
   ],
   "source": [
    "#TOPIC: String Based Assignment Problem\n",
    "#3. Convert a string to uppercase.\n",
    "\n",
    "user_input = input(\"Enter the String : \")\n",
    "print(\"Reversed String : \",user_input.upper())\n"
   ]
  },
  {
   "cell_type": "code",
   "execution_count": 4,
   "id": "7e60bfda-7ca7-4329-a0b0-42236001059a",
   "metadata": {},
   "outputs": [
    {
     "name": "stdin",
     "output_type": "stream",
     "text": [
      "Enter the String :  PWSKILLS\n"
     ]
    },
    {
     "name": "stdout",
     "output_type": "stream",
     "text": [
      "Reversed String :  pwskills\n"
     ]
    }
   ],
   "source": [
    "#TOPIC: String Based Assignment Problem\n",
    "#4. Convert a string to lowercase.\n",
    "\n",
    "user_input = input(\"Enter the String : \")\n",
    "print(\"Reversed String : \",user_input.lower())"
   ]
  },
  {
   "cell_type": "code",
   "execution_count": 5,
   "id": "baa16135-2b3d-4014-b3f3-107d1f04fb9e",
   "metadata": {},
   "outputs": [
    {
     "name": "stdin",
     "output_type": "stream",
     "text": [
      "Enter the String:  pwskills is best platform to learn data-science\n"
     ]
    },
    {
     "name": "stdout",
     "output_type": "stream",
     "text": [
      "There are 13 Vowels in Given String.\n",
      "Indexwise Position of Vowels. :\n",
      " {4: 'i', 13: 'e', 19: 'a', 22: 'o'}\n"
     ]
    }
   ],
   "source": [
    "#TOPIC: String Based Assignment Problem.\n",
    "#5. Count the number of vowels in a string.\n",
    "\n",
    "def vowels_Checker(string):\n",
    "    vowels = ['a','e','i','o','u']\n",
    "    vowels_counter = 0\n",
    "    vowels_position = {}\n",
    "    for i in string:\n",
    "        if i.lower() in vowels:\n",
    "            vowels_counter += 1\n",
    "            vowels_position[string.index(i)] = i\n",
    "    return vowels_counter,vowels_position\n",
    "\n",
    "def main():\n",
    "    user_string = input(\"Enter the String: \")\n",
    "    vowels_qty,posi_dict = vowels_Checker(user_string)\n",
    "    print(f\"There are {vowels_qty} Vowels in Given String.\")\n",
    "    print(\"Indexwise Position of Vowels. :\\n\",posi_dict)\n",
    "    \n",
    "if __name__ == '__main__':\n",
    "    main()\n",
    "                \n",
    "            "
   ]
  },
  {
   "cell_type": "code",
   "execution_count": 6,
   "id": "501a67dc-1b8f-4137-878a-c85e150975cf",
   "metadata": {},
   "outputs": [
    {
     "name": "stdin",
     "output_type": "stream",
     "text": [
      "Enter the String:  pwskills is best platform to learn data-science\n"
     ]
    },
    {
     "name": "stdout",
     "output_type": "stream",
     "text": [
      "There are 34 Consonants in Given String.\n",
      "Indexwise Position of Consonants. :\n",
      " {0: 'p', 1: 'w', 2: 's', 3: 'k', 5: 'l', 8: ' ', 12: 'b', 15: 't', 21: 'f', 23: 'r', 24: 'm', 33: 'n', 35: 'd', 39: '-', 41: 'c'}\n"
     ]
    }
   ],
   "source": [
    "#TOPIC: String Based Assignment Problem.\n",
    "#6. Count the number of consonants in a string.\n",
    "\n",
    "def consonents_Checker(string):\n",
    "    vowels = ['a','e','i','o','u']\n",
    "    consonants_counter = 0\n",
    "    consonants_position = {}\n",
    "    for i in string:\n",
    "        if i.lower() not in vowels:\n",
    "            consonants_counter += 1\n",
    "            consonants_position[string.index(i)] = i\n",
    "    return consonants_counter,consonants_position\n",
    "\n",
    "def main():\n",
    "    user_string = input(\"Enter the String: \")\n",
    "    consonants_qty,posi_dict = consonents_Checker(user_string)\n",
    "    print(f\"There are {consonants_qty} Consonants in Given String.\")\n",
    "    print(\"Indexwise Position of Consonants. :\\n\",posi_dict)\n",
    "    \n",
    "if __name__ == '__main__':\n",
    "    main()\n",
    "              "
   ]
  },
  {
   "cell_type": "code",
   "execution_count": 7,
   "id": "a6b57a2b-6cad-4c84-914a-eadeaa8e1358",
   "metadata": {},
   "outputs": [
    {
     "name": "stdin",
     "output_type": "stream",
     "text": [
      "Enter the String :  pwskills is best platform to learn data-science\n"
     ]
    },
    {
     "name": "stdout",
     "output_type": "stream",
     "text": [
      "After removing Whitespaces: \n",
      " pwskillsisbestplatformtolearndata-science\n"
     ]
    }
   ],
   "source": [
    "#TOPIC: String Based Assignment Problem.\n",
    "#7. Remove all whitespaces from a string.\n",
    "\n",
    "def space_remover(string):\n",
    "    return string.replace(\" \",\"\")\n",
    "\n",
    "def main():\n",
    "    userInput = input(\"Enter the String : \")\n",
    "    print(\"After removing Whitespaces: \\n\",space_remover(userInput))\n",
    "    \n",
    "if __name__ == \"__main__\":\n",
    "    main()\n",
    "\n"
   ]
  },
  {
   "cell_type": "code",
   "execution_count": 8,
   "id": "a17e9f4b-2554-49c0-a1b7-ccd5c709278c",
   "metadata": {},
   "outputs": [
    {
     "name": "stdin",
     "output_type": "stream",
     "text": [
      "Enter the string :  pwskills is best platform to learn data-science\n"
     ]
    },
    {
     "name": "stdout",
     "output_type": "stream",
     "text": [
      "Length of string :  47\n"
     ]
    }
   ],
   "source": [
    "#TOPIC: String Based Assignment Problem.\n",
    "#8. Find the length of a string without using the `len()` function.\n",
    "\n",
    "def Len(string):\n",
    "    char_counter = 0\n",
    "    for i in string:\n",
    "        char_counter +=1\n",
    "    return char_counter    \n",
    "        \n",
    "def main():\n",
    "    u_input = input(\"Enter the string : \")\n",
    "    print(\"Length of string : \",Len(u_input))\n",
    "    \n",
    "if __name__ == \"__main__\":\n",
    "    main()\n",
    "    \n",
    "    "
   ]
  },
  {
   "cell_type": "code",
   "execution_count": 9,
   "id": "5b62d056-c0c0-4945-b9f7-67b5d84ac2f9",
   "metadata": {},
   "outputs": [
    {
     "name": "stdin",
     "output_type": "stream",
     "text": [
      "Enter a string:  pwskills is best platform to learn data-science\n",
      "Enter the word you want to check for:  best\n"
     ]
    },
    {
     "name": "stdout",
     "output_type": "stream",
     "text": [
      "The string contains the word 'best'.\n"
     ]
    }
   ],
   "source": [
    "#TOPIC: String Based Assignment Problem.\n",
    "#9. Check if a string contains a specific word.\n",
    "\n",
    "def contains_word(text, word):\n",
    "    return word in text\n",
    "def main():\n",
    "    input_text = input(\"Enter a string: \")\n",
    "    target_word = input(\"Enter the word you want to check for: \")\n",
    "\n",
    "    if contains_word(input_text, target_word):\n",
    "        print(f\"The string contains the word '{target_word}'.\")\n",
    "    else:\n",
    "        print(f\"The string does not contain the word '{target_word}'.\")\n",
    "\n",
    "if __name__=='__main__':\n",
    "    main()\n",
    "        "
   ]
  },
  {
   "cell_type": "code",
   "execution_count": 10,
   "id": "5f4e81b1-8d57-48fe-8c9f-043eaf4942c0",
   "metadata": {},
   "outputs": [
    {
     "name": "stdin",
     "output_type": "stream",
     "text": [
      "Enter the string :  pwskills is best platform to learn data-science\n",
      "Enter the word you want to replace :  best\n",
      "Now enter the New word you want to replace against 'best' :  no.1\n"
     ]
    },
    {
     "name": "stdout",
     "output_type": "stream",
     "text": [
      "So the Modified String : \n",
      "-  pwskills is no.1 platform to learn data-science\n"
     ]
    }
   ],
   "source": [
    "#TOPIC: String Based Assignment Problem.\n",
    "#10. Replace a word in a string with another word.\n",
    "\n",
    "def replace_Word(string,target_word,new_word):\n",
    "    if target_word in string:\n",
    "        return string.replace(target_word,new_word)\n",
    "    else:\n",
    "        return \"Targeted word not found in given String\"\n",
    "    \n",
    "def main():\n",
    "    user_string = input(\"Enter the string : \")\n",
    "    target_word = input(\"Enter the word you want to replace : \")\n",
    "    new_word = input(f\"Now enter the New word you want to replace against '{target_word}' : \")\n",
    "    print(\"So the Modified String : \\n- \" ,replace_Word(user_string,target_word,new_word))\n",
    "    \n",
    "if __name__ == '__main__':\n",
    "    main()\n"
   ]
  },
  {
   "cell_type": "code",
   "execution_count": 11,
   "id": "a7714ac0-828e-4e63-9a34-e8639757a359",
   "metadata": {},
   "outputs": [
    {
     "name": "stdin",
     "output_type": "stream",
     "text": [
      "Enter the String :  pwskills is best platform to learn data-science pwskills.\n",
      "Enter the character you want to count the occurance :  pwskills\n"
     ]
    },
    {
     "name": "stdout",
     "output_type": "stream",
     "text": [
      "So, the occurance of 'pwskills' in string is : 1\n"
     ]
    }
   ],
   "source": [
    "#TOPIC: String Based Assignment Problem.\n",
    "#11. Count the occurrences of a word in a string.\n",
    "\n",
    "def char_occurance_counter(string,char):\n",
    "    char_counter = 1\n",
    "    for i in string:\n",
    "        if i.lower() == char.lower():\n",
    "            char_counter += 1\n",
    "    return char_counter\n",
    "\n",
    "def main():\n",
    "    strInput = input(\"Enter the String : \")\n",
    "    character = input(\"Enter the character you want to count the occurance : \")\n",
    "    print(f\"So, the occurance of '{character}' in string is : {char_occurance_counter(strInput,character)}\")\n",
    "    \n",
    "if __name__ == '__main__':\n",
    "    main()"
   ]
  },
  {
   "cell_type": "code",
   "execution_count": 12,
   "id": "72f201d5-ea7b-4a5d-9c5e-a544b70f0310",
   "metadata": {},
   "outputs": [
    {
     "name": "stdin",
     "output_type": "stream",
     "text": [
      "Enter the string :  pwskills\n",
      "Enter the char you want to find first occurance of :  w\n"
     ]
    },
    {
     "name": "stdout",
     "output_type": "stream",
     "text": [
      "So the first occurance of 'w' in string is at index : 1 \n"
     ]
    }
   ],
   "source": [
    "#TOPIC: String Based Assignment Problem.\n",
    "#12. Find the first occurrence of a word in a string.\n",
    "\n",
    "def first_occurance(string,char):\n",
    "    if char.lower() in string.lower():\n",
    "        return string.lower().find(char.lower())\n",
    "    else:\n",
    "        return f\"Sorry, The char '{char}' does no exists given in string.\"\n",
    "inputstr = input(\"Enter the string : \")\n",
    "char = input(\"Enter the char you want to find first occurance of : \")\n",
    "print(f\"So the first occurance of '{char}' in string is at index : {first_occurance(inputstr,char)} \")\n",
    "    "
   ]
  },
  {
   "cell_type": "code",
   "execution_count": null,
   "id": "5d80ef76-9d6a-444a-9e28-45bd9c306dbc",
   "metadata": {},
   "outputs": [
    {
     "name": "stdin",
     "output_type": "stream",
     "text": [
      "Enter the string :  pwskills is best platform to learn data-science pwskills\n",
      "Enter the char you want to find last occurance of :  l\n"
     ]
    },
    {
     "name": "stdout",
     "output_type": "stream",
     "text": [
      "So the last occurance of 'l' in string is at index : 54 \n"
     ]
    }
   ],
   "source": [
    "#TOPIC: String Based Assignment Problem.\n",
    "#13. Find the last occurrence of a word in a string.\n",
    "\n",
    "def last_occurance(string,char):\n",
    "    if char.lower() in string.lower():\n",
    "        indexpos = 0\n",
    "        for index,character in enumerate (string.lower()):\n",
    "            if character == char.lower():\n",
    "                indexpos = index\n",
    "        return indexpos        \n",
    "    else:\n",
    "        return f\"Sorry, The char '{char}' does no exists given in string.\"\n",
    "def main():    \n",
    "    inputstr = input(\"Enter the string : \")\n",
    "    char = input(\"Enter the char you want to find last occurance of : \")\n",
    "    print(f\"So the last occurance of '{char}' in string is at index : {last_occurance(inputstr,char)} \")\n",
    "    \n",
    "if __name__ == '__main__':\n",
    "    main()"
   ]
  },
  {
   "cell_type": "code",
   "execution_count": null,
   "id": "a36ed887-38f6-472e-808b-25e46111e44b",
   "metadata": {},
   "outputs": [
    {
     "name": "stdin",
     "output_type": "stream",
     "text": [
      "Enter the string :  pwskills is best platform to learn data-science pwskills\n"
     ]
    },
    {
     "name": "stdout",
     "output_type": "stream",
     "text": [
      "String split list :  ['pwskills', 'is', 'best', 'platform', 'to', 'learn', 'data-science', 'pwskills']\n"
     ]
    }
   ],
   "source": [
    "#TOPIC: String Based Assignment Problem.\n",
    "#14. Split a string into a list of words.\n",
    "string = input(\"Enter the string : \")\n",
    "print(\"String split list : \",string.split())"
   ]
  },
  {
   "cell_type": "code",
   "execution_count": 15,
   "id": "c6ddf5bc-b341-4ab0-86da-9c94be24aced",
   "metadata": {},
   "outputs": [
    {
     "name": "stdin",
     "output_type": "stream",
     "text": [
      "Enter the List elements separated by only commas not space :  pwskills,is,best,platform,to,learn,data-science,pwskills.\n"
     ]
    },
    {
     "name": "stdout",
     "output_type": "stream",
     "text": [
      "['pwskills', 'is', 'best', 'platform', 'to', 'learn', 'data-science', 'pwskills.']\n",
      "String of concated list:  pwskills is best platform to learn data-science pwskills.\n"
     ]
    }
   ],
   "source": [
    "#TOPIC: String Based Assignment Problem.\n",
    "#15. Join a list of words into a string.\n",
    "\n",
    "\n",
    "inputlist = input(\"Enter the List elements separated by only commas not space : \")\n",
    "list = inputlist.split(',')\n",
    "print(list)\n",
    "print(\"String of concated list: \",' '.join(list))\n"
   ]
  },
  {
   "cell_type": "code",
   "execution_count": 16,
   "id": "5d150d19-641a-457d-9b46-4ecb22891977",
   "metadata": {},
   "outputs": [
    {
     "name": "stdin",
     "output_type": "stream",
     "text": [
      "Enter the String :  pwskills is best platform to learn data-science pwskills\n"
     ]
    },
    {
     "name": "stdout",
     "output_type": "stream",
     "text": [
      "Modified String :  pwskills_is_best_platform_to_learn_data-science_pwskills\n"
     ]
    }
   ],
   "source": [
    "#TOPIC: String Based Assignment Problem.\n",
    "#16. Convert a string where words are separated by spaces to one where words\n",
    "#    are separated by underscores.\n",
    "\n",
    "string = input(\"Enter the String : \")\n",
    "print(\"Modified String : \",string.replace(\" \",'_'))"
   ]
  },
  {
   "cell_type": "code",
   "execution_count": 17,
   "id": "b07265d0-b298-43ef-9cb8-f95f0120e397",
   "metadata": {},
   "outputs": [
    {
     "name": "stdin",
     "output_type": "stream",
     "text": [
      "Enter the String :  pwskills is best platform to learn data-science pwskills\n",
      "Enter the Starting word to check within the string :  pwskills\n"
     ]
    },
    {
     "name": "stdout",
     "output_type": "stream",
     "text": [
      "Yes, Given string STARTS WITH 'pwskills'..\n"
     ]
    }
   ],
   "source": [
    "#TOPIC: String Based Assignment Problem.\n",
    "#17. Check if a string starts with a specific word or phrase.\n",
    "\n",
    "def check_startwith(string,startword):\n",
    "    word = string.split()[0]\n",
    "    if len(startword)>1:\n",
    "        if word.lower() == startword.lower():\n",
    "            return True\n",
    "        else:\n",
    "            return False\n",
    "    else:\n",
    "        if word[0].lower() == startword.lower():\n",
    "            return True\n",
    "        else:\n",
    "            return False\n",
    "        \n",
    "        \n",
    "def main():\n",
    "    string = input(\"Enter the String : \")\n",
    "    startword = input(\"Enter the Starting word to check within the string : \")\n",
    "    \n",
    "    if check_startwith(string,startword) == True:\n",
    "        print(f\"Yes, Given string STARTS WITH '{startword}'..\")\n",
    "        \n",
    "    else:\n",
    "        print(\"No, Given string does NOT STARTS WITH '{0}'..\".format(startword))\n",
    "\n",
    "\n",
    "if __name__ == '__main__':\n",
    "    main()\n",
    "\n"
   ]
  },
  {
   "cell_type": "code",
   "execution_count": 18,
   "id": "f3220872-23b3-4cd9-a518-5e25bd1d5078",
   "metadata": {},
   "outputs": [
    {
     "name": "stdin",
     "output_type": "stream",
     "text": [
      "Enter the String :  pwskills is best platform to learn data-science pwskills\n",
      "Enter the Last word to check within the string :  data\n"
     ]
    },
    {
     "name": "stdout",
     "output_type": "stream",
     "text": [
      "No, Given string does NOT ENDS WITH 'data'..\n"
     ]
    }
   ],
   "source": [
    "#TOPIC: String Based Assignment Problem.\n",
    "#18. Check if a string ends with a specific word or phrase.\n",
    "\n",
    "def check_endswith(string,lastword):\n",
    "    word = string.split()[-1]\n",
    "    if len(lastword)>1:\n",
    "        if word.lower() == lastword.lower():\n",
    "            return True\n",
    "        else:\n",
    "            return False\n",
    "    else:\n",
    "        if word[-1].lower() == lastword.lower():\n",
    "            return True\n",
    "        else:\n",
    "            return False\n",
    "        \n",
    "        \n",
    "def main():\n",
    "    string = input(\"Enter the String : \")\n",
    "    lastword = input(\"Enter the Last word to check within the string : \")\n",
    "    \n",
    "    if check_endswith(string,lastword) == True:\n",
    "        print(f\"Yes, Given string ENDS WITH '{lastword}'..\")\n",
    "        \n",
    "    else:\n",
    "        print(\"No, Given string does NOT ENDS WITH '{0}'..\".format(lastword))\n",
    "\n",
    "\n",
    "if __name__ == '__main__':\n",
    "    main()\n",
    "\n",
    "\n",
    "\n"
   ]
  },
  {
   "cell_type": "code",
   "execution_count": 19,
   "id": "dbbf9031-9261-45c3-8af0-7a7fa1946402",
   "metadata": {},
   "outputs": [
    {
     "name": "stdin",
     "output_type": "stream",
     "text": [
      "Enter the string :  pwskills is best platform to learn data-science pwskills\n"
     ]
    },
    {
     "name": "stdout",
     "output_type": "stream",
     "text": [
      "Pwskills Is Best Platform To Learn Data-Science Pwskills\n"
     ]
    }
   ],
   "source": [
    "#TOPIC: String Based Assignment Problem.\n",
    "#19. Convert a string to title case (e.g., \"hello world\" to \"Hello World\").\n",
    "\n",
    "sentence = input(\"Enter the string : \")\n",
    "print(sentence.title())\n"
   ]
  },
  {
   "cell_type": "code",
   "execution_count": 20,
   "id": "6f8e98a0-01c7-4d61-bbe0-a6de5387a035",
   "metadata": {},
   "outputs": [
    {
     "name": "stdin",
     "output_type": "stream",
     "text": [
      "Enter the string :  pwskills is best platform to learn data-science pwskills\n"
     ]
    },
    {
     "name": "stdout",
     "output_type": "stream",
     "text": [
      "The LONGEST word in given string is :  data-science\n"
     ]
    }
   ],
   "source": [
    "#TOPIC: String Based Assignment Problem.\n",
    "#20. Find the longest word in a string.\n",
    "\n",
    "def find_longest(string):\n",
    "    longword = ''\n",
    "    stringlist = string.split()\n",
    "    for word in stringlist:\n",
    "        if len(word) > len(longword):\n",
    "            longword = word\n",
    "            \n",
    "    return longword\n",
    "\n",
    "\n",
    "def main():\n",
    "    sent = input(\"Enter the string : \")\n",
    "    print(\"The LONGEST word in given string is : \",find_longest(sent))\n",
    "    \n",
    "if __name__ == '__main__':\n",
    "    main()  \n",
    "            \n",
    "            "
   ]
  },
  {
   "cell_type": "code",
   "execution_count": 21,
   "id": "32c2e98f-5267-46e9-b383-4c03eb439018",
   "metadata": {},
   "outputs": [
    {
     "name": "stdin",
     "output_type": "stream",
     "text": [
      "Enter the string :  pwskills is best platform to learn data-science pwskills\n"
     ]
    },
    {
     "name": "stdout",
     "output_type": "stream",
     "text": [
      "The SHORTEST word in given string is :  is\n"
     ]
    }
   ],
   "source": [
    "#TOPIC: String Based Assignment Problem.\n",
    "#21. Find the shortest word in a string.\n",
    "\n",
    "def find_shortest(phrase):\n",
    "    stringlist = phrase.split()\n",
    "    shortword = stringlist[1]\n",
    "    for char in stringlist:\n",
    "        if len(char) < len(shortword):\n",
    "            shortword = char\n",
    "            \n",
    "    return shortword\n",
    "\n",
    "\n",
    "def main():\n",
    "    phrase = input(\"Enter the string : \")\n",
    "    print(\"The SHORTEST word in given string is : \",find_shortest(phrase))\n",
    "    \n",
    "if __name__ == '__main__':\n",
    "    main()  \n"
   ]
  },
  {
   "cell_type": "code",
   "execution_count": 22,
   "id": "3926ffcd-2793-454c-be4c-c4cdcc511c50",
   "metadata": {},
   "outputs": [
    {
     "name": "stdin",
     "output_type": "stream",
     "text": [
      "Enter the string :  pwskills is best platform to learn data-science pwskills\n"
     ]
    },
    {
     "name": "stdout",
     "output_type": "stream",
     "text": [
      "Reverse ordered string :  pwskills data-science learn to platform best is pwskills\n"
     ]
    }
   ],
   "source": [
    "#TOPIC: String Based Assignment Problem.\n",
    "#22. Reverse the order of words in a string.\n",
    "\n",
    "def reverse_order(string):\n",
    "    newstring = ''\n",
    "    for element in string.split()[::-1]:\n",
    "        if len(newstring) > 0:\n",
    "            newstring = newstring +' '+ element\n",
    "        else:\n",
    "            newstring = element\n",
    "    return newstring        \n",
    "\n",
    "def main():\n",
    "    string = input(\"Enter the string : \")\n",
    "    print(\"Reverse ordered string : \",reverse_order(string))\n",
    "\n",
    "if __name__ == '__main__':\n",
    "    main()  \n"
   ]
  },
  {
   "cell_type": "code",
   "execution_count": null,
   "id": "9e93fb89-626b-4203-98a0-57ed31f39054",
   "metadata": {},
   "outputs": [
    {
     "name": "stdin",
     "output_type": "stream",
     "text": [
      "Enter the string :  pwskills2023\n"
     ]
    },
    {
     "name": "stdout",
     "output_type": "stream",
     "text": [
      "Given string is ALPHANUMERIC..\n"
     ]
    }
   ],
   "source": [
    "#TOPIC: String Based Assignment Problem.\n",
    "#23. Check if a string is alphanumeric.\n",
    "\n",
    "def main():\n",
    "    stri = input(\"Enter the string : \")\n",
    "    if stri.isalnum():\n",
    "        print(\"Given string is ALPHANUMERIC..\")\n",
    "        \n",
    "    else:\n",
    "        print(\"Given string is NON- ALPHANUMERIC..\")\n",
    "\n",
    "if __name__ == '__main__':\n",
    "    main()  \n",
    "    "
   ]
  },
  {
   "cell_type": "code",
   "execution_count": 24,
   "id": "e245f141-8d64-4276-a0da-c9355d3b8cb1",
   "metadata": {},
   "outputs": [
    {
     "name": "stdin",
     "output_type": "stream",
     "text": [
      "Enter the String :  pwskills2023 batches starts from 12-08-2023\n"
     ]
    },
    {
     "name": "stdout",
     "output_type": "stream",
     "text": [
      "['2', '0', '2', '3', '1', '2', '0', '8', '2', '0', '2', '3']\n"
     ]
    }
   ],
   "source": [
    "#TOPIC: String Based Assignment Problem.\n",
    "#24. Extract all digits from a string.\n",
    "\n",
    "def main():\n",
    "    string = input(\"Enter the String : \")\n",
    "    digits = [char for char in string if char.isnumeric()]\n",
    "    print(digits)\n",
    "            \n",
    "if __name__ == '__main__':\n",
    "    main()            \n",
    "    \n",
    "    "
   ]
  },
  {
   "cell_type": "code",
   "execution_count": 25,
   "id": "b14bdbdc-8f7a-4025-9023-427805e4725b",
   "metadata": {},
   "outputs": [
    {
     "name": "stdin",
     "output_type": "stream",
     "text": [
      "Enter the String :  pwskills2023 batches starts from 12-08-2023\n"
     ]
    },
    {
     "name": "stdout",
     "output_type": "stream",
     "text": [
      "['p', 'w', 's', 'k', 'i', 'l', 'l', 's', 'b', 'a', 't', 'c', 'h', 'e', 's', 's', 't', 'a', 'r', 't', 's', 'f', 'r', 'o', 'm']\n"
     ]
    }
   ],
   "source": [
    "#TOPIC: String Based Assignment Problem.\n",
    "#25. Extract all alphabets from a string.\n",
    "\n",
    "def main():\n",
    "    string = input(\"Enter the String : \")\n",
    "    alphabetics = [char for char in string if char.isalpha()]\n",
    "    print(alphabetics)\n",
    "            \n",
    "if __name__ == '__main__':\n",
    "    main()            \n",
    "    "
   ]
  },
  {
   "cell_type": "code",
   "execution_count": 26,
   "id": "2a780f73-0a5b-4c5c-aec6-3df58378eb6b",
   "metadata": {},
   "outputs": [
    {
     "name": "stdin",
     "output_type": "stream",
     "text": [
      "Enter the String :  PWwskills2023 batches STARTS from 12-08-2023\n"
     ]
    },
    {
     "name": "stdout",
     "output_type": "stream",
     "text": [
      "There are total '8' uppercase characters in given string..\n",
      "i.e. ['P', 'W', 'S', 'T', 'A', 'R', 'T', 'S']\n"
     ]
    }
   ],
   "source": [
    "##TOPIC: String Based Assignment Problem.\n",
    "#26. Count the number of uppercase letters in a string.\n",
    "\n",
    "def main():\n",
    "    string = input(\"Enter the String : \")\n",
    "    count = 0\n",
    "    upper_alphabetics = []\n",
    "    for char in string:\n",
    "        if char.isupper():\n",
    "            upper_alphabetics.append(char)\n",
    "            count+=1\n",
    "    print(f\"There are total '{count}' uppercase characters in given string..\\ni.e. {upper_alphabetics}\")\n",
    "            \n",
    "if __name__ == '__main__':\n",
    "    main()       "
   ]
  },
  {
   "cell_type": "code",
   "execution_count": 27,
   "id": "48681366-3bd8-4614-bbc9-8774a8c3c014",
   "metadata": {},
   "outputs": [
    {
     "name": "stdin",
     "output_type": "stream",
     "text": [
      "Enter the String :  PWwskills2023 batches STARTS from 12-08-2023\n"
     ]
    },
    {
     "name": "stdout",
     "output_type": "stream",
     "text": [
      "There are total '18' lowercase characters in given string..\n",
      "i.e. ['w', 's', 'k', 'i', 'l', 'l', 's', 'b', 'a', 't', 'c', 'h', 'e', 's', 'f', 'r', 'o', 'm']\n"
     ]
    }
   ],
   "source": [
    "#TOPIC: String Based Assignment Problem.\n",
    "#27. Count the number of lowercase letters in a string.\n",
    "\n",
    "def main():\n",
    "    string = input(\"Enter the String : \")\n",
    "    count = 0\n",
    "    lower_alphabetics = []\n",
    "    for char in string:\n",
    "        if char.islower():\n",
    "            lower_alphabetics.append(char)\n",
    "            count+=1\n",
    "    print(f\"There are total '{count}' lowercase characters in given string..\\ni.e. {lower_alphabetics}\")\n",
    "            \n",
    "if __name__ == '__main__':\n",
    "    main()       "
   ]
  },
  {
   "cell_type": "code",
   "execution_count": 28,
   "id": "cd425216-da66-49e7-b112-2bd94e18b3e3",
   "metadata": {},
   "outputs": [
    {
     "name": "stdin",
     "output_type": "stream",
     "text": [
      "Enter the String :  PWwskills2023 batches STARTS from 12-08-2023\n"
     ]
    },
    {
     "name": "stdout",
     "output_type": "stream",
     "text": [
      "The swapped String is-\n",
      " pwWSKILLS2023 BATCHES starts FROM 12-08-2023\n"
     ]
    }
   ],
   "source": [
    "#TOPIC: String Based Assignment Problem.\n",
    "#28. Swap the case of each character in a string.\n",
    "\n",
    "def main():\n",
    "    string = input(\"Enter the String : \")\n",
    "    print(\"The swapped String is-\\n\",string.swapcase())\n",
    "    \n",
    "if __name__ == '__main__':\n",
    "    main()          "
   ]
  },
  {
   "cell_type": "code",
   "execution_count": 29,
   "id": "1a9a01ce-a351-4b8b-9d5b-a90971b9d95d",
   "metadata": {},
   "outputs": [
    {
     "name": "stdin",
     "output_type": "stream",
     "text": [
      "Enter the String :  PWwskills2023 batches STARTS from 12-08-2023\n",
      "Enter the word :  batches\n"
     ]
    },
    {
     "name": "stdout",
     "output_type": "stream",
     "text": [
      "After Removing : PWwskills2023  STARTS from 12-08-2023\n"
     ]
    }
   ],
   "source": [
    "#TOPIC: String Based Assignment Problem.\n",
    "#29. Remove a specific word from a string.\n",
    "\n",
    "def main():\n",
    "    string = input(\"Enter the String : \")\n",
    "    word = input(\"Enter the word : \")\n",
    "    print(\"After Removing :\", string.replace(word,\"\"))   \n",
    "        \n",
    "if __name__ == '__main__':\n",
    "    main()    "
   ]
  },
  {
   "cell_type": "code",
   "execution_count": 30,
   "id": "e54574ee-35ed-49de-a0e1-b4867b64c83b",
   "metadata": {},
   "outputs": [
    {
     "name": "stdin",
     "output_type": "stream",
     "text": [
      "Enter your Email Address :  sagarambhore007@pwskills.com\n"
     ]
    },
    {
     "name": "stdout",
     "output_type": "stream",
     "text": [
      "Congratulation, The email 'sagarambhore007@pwskills.com' matches the pattern of email.\n"
     ]
    }
   ],
   "source": [
    "#TOPIC: String Based Assignment Problem.\n",
    "#30. Check if a string is a valid email address.\n",
    "\n",
    "import re \n",
    "def main():\n",
    "       \n",
    "    email_pattern = \"^[a-z]+[\\._]?[a-z 0-9]+[@]\\w+[.]\\w{2,3}$\"\n",
    "    user_email = input(\"Enter your Email Address : \")\n",
    "\n",
    "    if re.match(email_pattern,user_email):\n",
    "        print(f\"Congratulation, The email '{user_email}' matches the pattern of email.\")\n",
    "    else:\n",
    "        print(f\"Sorry, The email '{user_email}' does not matches the pattern of email.\")    \n",
    "    \n",
    "    \n",
    "if __name__=='__main__':\n",
    "    main()    \n",
    "    "
   ]
  },
  {
   "cell_type": "code",
   "execution_count": 31,
   "id": "c1486d97-7117-4485-b084-a53ed0fdbb2b",
   "metadata": {},
   "outputs": [
    {
     "name": "stdin",
     "output_type": "stream",
     "text": [
      "Enter your Email Address :  sagarambhore007@pwskills.com\n"
     ]
    },
    {
     "name": "stdout",
     "output_type": "stream",
     "text": [
      "Username :  sagarambhore007\n"
     ]
    }
   ],
   "source": [
    "#TOPIC: String Based Assignment Problem.\n",
    "#31. Extract the username from an email address string.\n",
    "\n",
    "import re \n",
    "def email_validate(string):\n",
    "    email_pattern = \"^[a-z]+[\\._]?[a-z 0-9]+[@]\\w+[.]\\w{2,3}$\"\n",
    "    if re.match(email_pattern,string):\n",
    "        return True\n",
    "    else:\n",
    "        return False\n",
    "def main():\n",
    "    user_email = input(\"Enter your Email Address : \")\n",
    "    if email_validate(user_email):\n",
    "        print(\"Username : \",user_email.split('@')[0])\n",
    "    else:\n",
    "        print(\"Given mail is not a valid email add...\")\n",
    "        \n",
    "if __name__=='__main__':\n",
    "    main()    \n",
    "    "
   ]
  },
  {
   "cell_type": "code",
   "execution_count": 32,
   "id": "cc0a8d69-4ff5-4553-9cd1-ee5a9589c596",
   "metadata": {},
   "outputs": [
    {
     "name": "stdin",
     "output_type": "stream",
     "text": [
      "Enter your Email Address :  sagarambhore007@pwskills.com\n"
     ]
    },
    {
     "name": "stdout",
     "output_type": "stream",
     "text": [
      "domain_name :  pwskills.com\n"
     ]
    }
   ],
   "source": [
    "#TOPIC: String Based Assignment Problem.\n",
    "#32. Extract the domain name from an email address string.\n",
    "\n",
    "import re \n",
    "def email_validate(string):\n",
    "    email_pattern = \"^[a-z]+[\\._]?[a-z 0-9]+[@]\\w+[.]\\w{2,3}$\"\n",
    "    if re.match(email_pattern,string):\n",
    "        return True\n",
    "    else:\n",
    "        return False\n",
    "def main():\n",
    "    user_email = input(\"Enter your Email Address : \")\n",
    "    if email_validate(user_email):\n",
    "        print(\"domain_name : \",user_email.split('@')[1])\n",
    "    else:\n",
    "        print(\"Given mail is not a valid email add...\")\n",
    "        \n",
    "if __name__=='__main__':\n",
    "    main()    \n",
    "\n"
   ]
  },
  {
   "cell_type": "code",
   "execution_count": 33,
   "id": "d7e3e73c-1efc-468f-8ddf-ad40e938895a",
   "metadata": {},
   "outputs": [
    {
     "name": "stdin",
     "output_type": "stream",
     "text": [
      "Enter the String :  pw    skills  data    science\n"
     ]
    },
    {
     "name": "stdout",
     "output_type": "stream",
     "text": [
      "After Removing multiple spaces :  pw skills data science\n"
     ]
    }
   ],
   "source": [
    "#TOPIC: String Based Assignment Problem.\n",
    "#33. Replace multiple spaces in a string with a single space.\n",
    "\n",
    "def main():\n",
    "    string = input(\"Enter the String : \")\n",
    "    strlist = string.split()\n",
    "    string2 = \" \".join(strlist)\n",
    "    print(\"After Removing multiple spaces : \",string2)   \n",
    "    \n",
    "if __name__ == '__main__':\n",
    "    main()    \n"
   ]
  },
  {
   "cell_type": "code",
   "execution_count": 2,
   "id": "e5d65b5d-a9e6-4528-9721-b23d39c1439b",
   "metadata": {},
   "outputs": [
    {
     "name": "stdin",
     "output_type": "stream",
     "text": [
      "Enter the URL :  https://salmon-author-dxgsl.pwskills.app/lab/tree/work\n"
     ]
    },
    {
     "name": "stdout",
     "output_type": "stream",
     "text": [
      "Given URL is VALID URL...\n"
     ]
    }
   ],
   "source": [
    "#TOPIC: String Based Assignment Problem.\n",
    "#34. Check if a string is a valid URL.\n",
    "\n",
    "def is_valid_url(user_url):\n",
    "    validProtocols = [\"http://\", \"https://\", \"ftp://\"]\n",
    "    \n",
    "    for protocol in validProtocols:\n",
    "        if user_url.startswith(protocol):\n",
    "            url = user_url[len(protocol):]\n",
    "            break\n",
    "    else:\n",
    "        return false\n",
    "    \n",
    "    if \".\" not in url:\n",
    "        return False\n",
    "    \n",
    "    if \" \" in url:\n",
    "        return False\n",
    "    \n",
    "    valid_chars = \"ABCDEFGHIJKLMNOPQRSTUVWXYZabcdefghijklmnopqrstuvwxyz0123456789-._~:/?#[]@!$&'()*+,;=%\"\n",
    "    for char in url:\n",
    "        if char not in valid_chars:\n",
    "            return False\n",
    "\n",
    "    return True\n",
    "\n",
    "def main():\n",
    "    user_url = input(\"Enter the URL : \")\n",
    "    \n",
    "    if is_valid_url(user_url):\n",
    "        print(\"Given URL is VALID URL...\")\n",
    "    else:    \n",
    "        print(\"Given URL is NON VALID URL...\")\n",
    "        \n",
    "if __name__ == '__main__':\n",
    "    main()         \n"
   ]
  },
  {
   "cell_type": "code",
   "execution_count": 3,
   "id": "65da7446-ac62-4bba-859d-db282a9f6371",
   "metadata": {},
   "outputs": [
    {
     "name": "stdin",
     "output_type": "stream",
     "text": [
      "Enter the URL :  https://salmon-author-dxgsl.pwskills.app/lab/tree/work\n"
     ]
    },
    {
     "name": "stdout",
     "output_type": "stream",
     "text": [
      "Protocol of given string :  https://\n"
     ]
    }
   ],
   "source": [
    "#TOPIC: String Based Assignment Problem.\n",
    "#35. Extract the protocol (http or https) from a URL string.\n",
    "\n",
    "def extract_url(user_url):\n",
    "    validProtocols = [\"http://\", \"https://\", \"ftp://\"]\n",
    "    \n",
    "    for protocol in validProtocols:\n",
    "        if user_url.startswith(protocol):\n",
    "            protocol = user_url[:len(protocol)]\n",
    "            break\n",
    "    else:\n",
    "        return \"given url is not a valid url\"\n",
    "    \n",
    "    return protocol\n",
    "\n",
    "\n",
    "def main():\n",
    "    user_url = input(\"Enter the URL : \")\n",
    "    result = extract_url(user_url)\n",
    "    print(\"Protocol of given string : \",result)\n",
    "    \n",
    "if __name__ == '__main__':\n",
    "    main()     "
   ]
  },
  {
   "cell_type": "code",
   "execution_count": 1,
   "id": "158c5f42-39ef-4bc0-8ade-5bfdbbb7d823",
   "metadata": {},
   "outputs": [
    {
     "name": "stdin",
     "output_type": "stream",
     "text": [
      "Enter the String :  pwskills is best platform to learn data-science\n"
     ]
    },
    {
     "name": "stdout",
     "output_type": "stream",
     "text": [
      "Frequency of each word in given string :\n",
      " {'p': 2, 'w': 1, 's': 5, 'k': 1, 'i': 3, 'l': 4, 'b': 1, 'e': 4, 't': 4, 'a': 4, 'f': 1, 'o': 2, 'r': 2, 'm': 1, 'n': 2, 'd': 1, 'c': 2}\n"
     ]
    }
   ],
   "source": [
    "#TOPIC: String Based Assignment Problem.\n",
    "#36. Find the frequency of each character in a string.\n",
    "\n",
    "def frequency_counter(string):\n",
    "    freq_dict = {}\n",
    "    for char in string:\n",
    "        if char.isalnum():\n",
    "            char = char.lower()\n",
    "            if char.lower() in freq_dict:\n",
    "                freq_dict[char.lower()] += 1\n",
    "            else:\n",
    "                freq_dict[char.lower()] = 1\n",
    "            \n",
    "    return freq_dict    \n",
    "\n",
    "def main():\n",
    "    user_string = input(\"Enter the String : \")\n",
    "    frequency = frequency_counter(user_string)\n",
    "    print(\"Frequency of each word in given string :\\n\",frequency)\n",
    "\n",
    "if __name__ == '__main__':\n",
    "    main()         "
   ]
  },
  {
   "cell_type": "code",
   "execution_count": 8,
   "id": "484fc9c6-f00b-43d2-9aff-5a0de273e8f2",
   "metadata": {},
   "outputs": [
    {
     "name": "stdin",
     "output_type": "stream",
     "text": [
      "Enter the string :  Wow! What,.$#a wonderful@&(day*)+-\n"
     ]
    },
    {
     "name": "stdout",
     "output_type": "stream",
     "text": [
      "After removing punctions :  Wow Whata wonderfulday\n"
     ]
    }
   ],
   "source": [
    "#TOPIC: String Based Assignment Problem.\n",
    "#37. Remove all punctuation from a string.\n",
    "\n",
    "def punctuation_remover(string):\n",
    "    punctuations = [',', ':', ';', '!', '?', '-', '.', '...', '\"', '-', '(', ')', '{', '}', '[', ']', '/', '~', '&',\"'\",\"$\",\"#\",\"@\",\"*\",\"+\",\"=\",\"%\"]\n",
    "    string2 = \"\" \n",
    "    for char in string:\n",
    "        if char not in punctuations:\n",
    "            string2+=char\n",
    "    return string2      \n",
    "\n",
    "def main():\n",
    "    string = input(\"Enter the string : \")\n",
    "    print(\"After removing punctions : \",punctuation_remover(string))\n",
    "    \n",
    "if __name__ == '__main__':\n",
    "    main() \n",
    "\n",
    "#Without using any inbuilt package,In another problem I am using package \"string\".\n",
    "#Please go through the another example also.\n",
    "\n"
   ]
  },
  {
   "cell_type": "code",
   "execution_count": 13,
   "id": "64d79b2d-3fa3-4c5f-a8fc-4edbe9fac3be",
   "metadata": {},
   "outputs": [
    {
     "name": "stdin",
     "output_type": "stream",
     "text": [
      "Enter the string :  Wow! What,.$#a wonderful@&(day*)+-\n"
     ]
    },
    {
     "name": "stdout",
     "output_type": "stream",
     "text": [
      "After removing punctions :  Wow Whata wonderfulday\n"
     ]
    }
   ],
   "source": [
    "#TOPIC: String Based Assignment Problem.\n",
    "#37. Remove all punctuation from a string.\n",
    "\n",
    "import string\n",
    "\n",
    "def punctuation_remover(phrase):\n",
    "    phrase2 = ''\n",
    "    for i in phrase:\n",
    "        if i in string.punctuation:             \n",
    "            i = \"\"\n",
    "        phrase2 = phrase2+i\n",
    "    return phrase2\n",
    "    \n",
    "def main():    \n",
    "\n",
    "    phrase = input(\"Enter the string : \")\n",
    "    print(\"After removing punctions : \", punctuation_remover(phrase)) \n",
    "\n",
    "if __name__ == '__main__':\n",
    "    main()     "
   ]
  },
  {
   "cell_type": "code",
   "execution_count": 2,
   "id": "f8368db7-7f49-443d-acaa-e441ace35183",
   "metadata": {},
   "outputs": [
    {
     "name": "stdin",
     "output_type": "stream",
     "text": [
      "Enter the String :  215452413\n"
     ]
    },
    {
     "name": "stdout",
     "output_type": "stream",
     "text": [
      "Given string contains ONLY DIGIT..\n"
     ]
    }
   ],
   "source": [
    "#TOPIC: String Based Assignment Problem.\n",
    "#38. Check if a string contains only digits.\n",
    "\n",
    "def digit_checker(string):\n",
    "    for char in string:\n",
    "        if char.isnumeric():\n",
    "            continue\n",
    "        else:\n",
    "            return False\n",
    "            break\n",
    "    else:\n",
    "        return True\n",
    "\n",
    "def main():\n",
    "    string = input(\"Enter the String : \")\n",
    "    if digit_checker(string):\n",
    "        print(\"Given string contains ONLY DIGIT..\")\n",
    "    \n",
    "    else:\n",
    "        print(\"Given string contains ALPHANUMERIC Characters..\")\n",
    "\n",
    "if __name__ == '__main__':\n",
    "    main()    "
   ]
  },
  {
   "cell_type": "code",
   "execution_count": 5,
   "id": "4541063d-101f-4255-b17e-97b9e517ee9c",
   "metadata": {},
   "outputs": [
    {
     "name": "stdin",
     "output_type": "stream",
     "text": [
      "Enter the String :  pwskills\n"
     ]
    },
    {
     "name": "stdout",
     "output_type": "stream",
     "text": [
      "Given string contains ONLY ALPHABETIC characters..\n"
     ]
    }
   ],
   "source": [
    "#TOPIC: String Based Assignment Problem.\n",
    "#39. Check if a string contains only alphabets.\n",
    "\n",
    "def alphabetic_checker(string):\n",
    "    for char in string:\n",
    "        if char.isalpha():\n",
    "            continue\n",
    "        else:\n",
    "            return False\n",
    "            break\n",
    "    else:\n",
    "        return True\n",
    "    \n",
    "def main(): \n",
    "    inputstring = input(\"Enter the String : \")\n",
    "    if alphabetic_checker(inputstring):\n",
    "        print(\"Given string contains ONLY ALPHABETIC characters..\")\n",
    "    else:\n",
    "        print(\"Given string contains ALPHANUMERIC Characters..\")\n",
    "    \n",
    "    \n",
    "if __name__ == '__main__':\n",
    "    main()   \n",
    "    "
   ]
  },
  {
   "cell_type": "code",
   "execution_count": 10,
   "id": "b419b186-f017-43b7-87fb-24a7c1970a87",
   "metadata": {},
   "outputs": [
    {
     "name": "stdin",
     "output_type": "stream",
     "text": [
      "Enter the String  :  pwskills is best platform to learn data-science\n"
     ]
    },
    {
     "name": "stdout",
     "output_type": "stream",
     "text": [
      "List of given string character :  ['p', 'w', 's', 'k', 'i', 'l', 'l', 's', 'i', 's', 'b', 'e', 's', 't', 'p', 'l', 'a', 't', 'f', 'o', 'r', 'm', 't', 'o', 'l', 'e', 'a', 'r', 'n', 'd', 'a', 't', 'a', '-', 's', 'c', 'i', 'e', 'n', 'c', 'e']\n"
     ]
    }
   ],
   "source": [
    "#TOPIC: String Based Assignment Problem.\n",
    "#40. Convert a string to a list of characters.\n",
    "\n",
    "def main():\n",
    "    inputstr = input(\"Enter the String  : \")\n",
    "    strlist = []\n",
    "    for i in inputstr:\n",
    "        if i != \" \":\n",
    "            strlist.append(i)\n",
    "\n",
    "    print(\"List of given string character : \",strlist)\n",
    "    \n",
    "if __name__ == '__main__':\n",
    "    main() \n",
    "    "
   ]
  },
  {
   "cell_type": "code",
   "execution_count": 19,
   "id": "8d5b50af-2bda-41d3-abb4-15fb2bc56281",
   "metadata": {},
   "outputs": [
    {
     "name": "stdin",
     "output_type": "stream",
     "text": [
      "Enter the first word  :  LiStEn\n",
      "Enter the second word  :  silENT\n"
     ]
    },
    {
     "name": "stdout",
     "output_type": "stream",
     "text": [
      "Given Strings are ANAGRAMS.... \n"
     ]
    }
   ],
   "source": [
    "#TOPIC: String Based Assignment Problem.\n",
    "#41. Check if two strings are anagrams.\n",
    "\n",
    "def str_to_list(string):   #string to list converter function\n",
    "    strlist = []\n",
    "    for i in string:\n",
    "        if i != \" \":\n",
    "            strlist.append(i)\n",
    "    return strlist\n",
    "\n",
    "def anagramcheck(str1,str2):\n",
    "    \n",
    "    str1list = str_to_list(str1)         # Creating list of string\n",
    "    str2list = str_to_list(str2)\n",
    "    \n",
    "    if len(str1list) == len(str1list): # checking length of both string\n",
    "        for char in str1list:           #iterating on any one strlist and matching the each chractor with another strlist\n",
    "            if char in str2list:\n",
    "                str1list.remove(char)     # removing same character from both strlists\n",
    "                str2list.remove(char)\n",
    "            else:\n",
    "                return False           \n",
    "                break\n",
    "        else:                             # after iterating all characters and matching successfully with each other of both string \n",
    "            return True                    # returning True..\n",
    "    else:\n",
    "        return False\n",
    "    \n",
    "def main():\n",
    "    \n",
    "    word1 = input(\"Enter the first word  : \")\n",
    "    word2 = input(\"Enter the second word  : \")\n",
    "    \n",
    "    if anagramcheck(word1.lower(),word2.lower()):\n",
    "        print(\"Given Strings are ANAGRAMS.... \")\n",
    "    else:\n",
    "        print(\"Given Strings are NON-ANAGRAMS.... \")\n",
    "        \n",
    "if __name__ == '__main__':\n",
    "    main()   \n",
    "    "
   ]
  },
  {
   "cell_type": "code",
   "execution_count": 14,
   "id": "638f8669-0bd8-47d9-a436-d3523ecfef3b",
   "metadata": {},
   "outputs": [
    {
     "name": "stdin",
     "output_type": "stream",
     "text": [
      "Enter the String :  Pw-Skills\n",
      "Enter the shift no :  6\n"
     ]
    },
    {
     "name": "stdout",
     "output_type": "stream",
     "text": [
      "Vc-Yqorry\n"
     ]
    }
   ],
   "source": [
    "#TOPIC: String Based Assignment Problem.\n",
    "#42. Encode a string using a Caesar cipher.\n",
    "\n",
    "def caesar_cipher_encode(text, shift):\n",
    "    result = \"\"\n",
    "    \n",
    "    for char in text:\n",
    "        if char.isalpha():\n",
    "            \n",
    "            if char.isupper():                           \n",
    "                result += chr((ord(char) + shift-65) % 26 + 65)\n",
    "            else:\n",
    "                result += chr((ord(char) + shift - 97) % 26 + 97)\n",
    "                \n",
    "        else:\n",
    "            result += char\n",
    "    \n",
    "    return result\n",
    "\n",
    "def main():\n",
    "    \n",
    "    string = input(\"Enter the String : \")\n",
    "    shift = int(input(\"Enter the shift no : \"))\n",
    "    encoded_text = caesar_cipher_encode(string, shift)\n",
    "    print(encoded_text)\n",
    "\n",
    "if __name__ == '__main__':\n",
    "    main()     \n",
    "    "
   ]
  },
  {
   "cell_type": "code",
   "execution_count": 15,
   "id": "3246b3e9-c48a-4bfc-9561-452a4ba65c7f",
   "metadata": {},
   "outputs": [
    {
     "name": "stdin",
     "output_type": "stream",
     "text": [
      "Enter the String :  Vc-Yqorry\n",
      "Enter the shift no :  6\n"
     ]
    },
    {
     "name": "stdout",
     "output_type": "stream",
     "text": [
      "Pw-Skills\n"
     ]
    }
   ],
   "source": [
    "#TOPIC: String Based Assignment Problem.\n",
    "#43. Decode a Caesar cipher encoded string.\n",
    "\n",
    "def caesar_cipher_decode(string, skip):\n",
    "    result = \"\"\n",
    "    \n",
    "    for word in string:\n",
    "        if word.isalpha():\n",
    "            \n",
    "            if word.isupper():\n",
    "                result += chr((ord(word) - skip - 65) % 26 + 65)\n",
    "            else:\n",
    "                result += chr((ord(word) - skip - 97) % 26 + 97)\n",
    "\n",
    "            \n",
    "        else:\n",
    "            result += word\n",
    "    return result  \n",
    "    \n",
    "def main():\n",
    "    \n",
    "    sentence = input(\"Enter the String : \")\n",
    "    skip = int(input(\"Enter the shift no : \"))\n",
    "    decoded_text = caesar_cipher_decode(sentence, skip)\n",
    "    print(decoded_text)\n",
    "\n",
    "if __name__ == '__main__':\n",
    "    main()         \n",
    "    \n",
    "    \n",
    "    "
   ]
  },
  {
   "cell_type": "code",
   "execution_count": 3,
   "id": "63629d81-1136-4c5e-8765-013f80037792",
   "metadata": {},
   "outputs": [
    {
     "name": "stdin",
     "output_type": "stream",
     "text": [
      "Enter the String :  pwskills is best platform to learn datascience. pwskills\n"
     ]
    },
    {
     "name": "stdout",
     "output_type": "stream",
     "text": [
      "pwskills\n"
     ]
    }
   ],
   "source": [
    "#TOPIC: String Based Assignment Problem.\n",
    "#44. Find the most frequent word in a string.\n",
    "\n",
    "def frequent_word(string):\n",
    "    stringlist = string.split()\n",
    "    word_dict = {}\n",
    "    \n",
    "    for word in stringlist:\n",
    "        if word not in word_dict:\n",
    "            word_dict[word] = 1\n",
    "        else:\n",
    "            word_dict[word] += 1\n",
    "            \n",
    "    \n",
    "    count =  0\n",
    "    frequent_word = ''\n",
    "    \n",
    "    for key, value in word_dict.items():\n",
    "        if value > count:\n",
    "            count = value\n",
    "            frequent_word = key\n",
    "            \n",
    "    \n",
    "    if count > 1:         \n",
    "        return frequent_word\n",
    "    else:\n",
    "        return \"Frequency of all words are same\"\n",
    "    \n",
    "    \n",
    "def main():\n",
    "    \n",
    "    sentence = input(\"Enter the String : \")\n",
    "    \n",
    "    print(frequent_word(sentence))\n",
    "\n",
    "if __name__ == '__main__':\n",
    "    main()         "
   ]
  },
  {
   "cell_type": "code",
   "execution_count": 1,
   "id": "9a852871-7a62-423b-b13a-9dfc599ff219",
   "metadata": {},
   "outputs": [
    {
     "name": "stdin",
     "output_type": "stream",
     "text": [
      "Enter the String :  Pwskills is the best platform to learn Data Science. Pwskills 2023 batches STARTS from 12-08-2023.\n"
     ]
    },
    {
     "name": "stdout",
     "output_type": "stream",
     "text": [
      "['is', 'the', 'best', 'platform', 'to', 'learn', 'Data', 'Science.', '2023', 'batches', 'STARTS', 'from', '12-08-2023.']\n"
     ]
    }
   ],
   "source": [
    "#TOPIC: String Based Assignment Problem.\n",
    "#45. Find all unique words in a string.\n",
    "\n",
    "def unique_word(string):\n",
    "    stringlist = string.split()\n",
    "    worddict = {}\n",
    "\n",
    "    for i in stringlist:\n",
    "        if i not in worddict:\n",
    "            worddict[i] = 1\n",
    "        else:\n",
    "            worddict[i] += 1\n",
    "    \n",
    "    \n",
    "    unique_words = []\n",
    "    for word, count in worddict.items():\n",
    "        if count == 1:\n",
    "            unique_words.append(word)\n",
    "        \n",
    "    return unique_words\n",
    "\n",
    "def main():\n",
    "    \n",
    "    sentence = input(\"Enter the String : \")\n",
    "    \n",
    "    print(unique_word(sentence))\n",
    "\n",
    "if __name__ == '__main__':\n",
    "    main()             \n"
   ]
  },
  {
   "cell_type": "code",
   "execution_count": 3,
   "id": "8769c2c1-b859-4735-9ee9-8707d23740e0",
   "metadata": {},
   "outputs": [
    {
     "name": "stdin",
     "output_type": "stream",
     "text": [
      "Enter the Word :  maharaja\n"
     ]
    },
    {
     "name": "stdout",
     "output_type": "stream",
     "text": [
      "4\n"
     ]
    }
   ],
   "source": [
    "#TOPIC: String Based Assignment Problem.\n",
    "#46. Count the number of syllables in a string.\n",
    "\n",
    "def count_syllables(word):\n",
    "    \n",
    "    vowels = \"AEIOUaeiou\"\n",
    "    count = 0\n",
    "    prev_char_vowel = False\n",
    "\n",
    "    for char in word:                            #checking vowels and counting syllable \n",
    "        if char in vowels:\n",
    "            if not prev_char_vowel:\n",
    "                count += 1\n",
    "            prev_char_vowel = True\n",
    "        else:\n",
    "            prev_char_vowel = False\n",
    "\n",
    "   \n",
    "    if word.endswith(('e', 'es', 'ed')) and not word.endswith(('le', 'es', 'ed')):   # work on other syllable conditions\n",
    "        count -= 1\n",
    "\n",
    "    \n",
    "    if len(word) <= 1:\n",
    "        return 0\n",
    "\n",
    "    return count\n",
    "\n",
    "\n",
    "def main():\n",
    "    word = input(\"Enter the Word : \")\n",
    "    print(count_syllables(word))\n",
    "\n",
    "if __name__ == '__main__':\n",
    "    main()      \n",
    "\n",
    "\n"
   ]
  },
  {
   "cell_type": "code",
   "execution_count": 19,
   "id": "550e2cb1-6927-4d6e-9dd1-2f0671ae33cb",
   "metadata": {},
   "outputs": [
    {
     "name": "stdin",
     "output_type": "stream",
     "text": [
      "Enter the String :  Sagar @mabhore\n"
     ]
    },
    {
     "name": "stdout",
     "output_type": "stream",
     "text": [
      "YES, This String Contains Special Characters:\n",
      " @\n"
     ]
    }
   ],
   "source": [
    "#TOPIC: String Based Assignment Problem.\n",
    "#47. Check if a string contains any special characters.\n",
    "\n",
    "def check_Spcharacter(string):\n",
    "    spcharacters = []\n",
    "    for char in string:\n",
    "        ascival = ord(char)\n",
    "        if ascival in range(32, 48) or ascival in range(58, 65) or ascival in range(91, 97) or ascival in range(123, 127):\n",
    "            spcharacters.append(char)\n",
    "        \n",
    "        \n",
    "    if not spcharacters:\n",
    "        return \"NO, This String DOES NOT contain any Special Character.\"\n",
    "    else:\n",
    "        return f\"YES, This String Contains Special Characters:\\n{''.join(spcharacters)}\"\n",
    "\n",
    "    \n",
    "def main():\n",
    "    \n",
    "    sentence = input(\"Enter the String : \")\n",
    "    \n",
    "    print(check_Spcharacter(sentence))\n",
    "\n",
    "if __name__ == '__main__':\n",
    "    main()             \n",
    "\n",
    "    \n",
    "    "
   ]
  },
  {
   "cell_type": "code",
   "execution_count": 2,
   "id": "237aae9b-6d07-4b3b-a82f-1ae566b6677f",
   "metadata": {},
   "outputs": [
    {
     "name": "stdin",
     "output_type": "stream",
     "text": [
      "Enter the string :  Pwskills is the best platform to learn Data Science. Pwskills 2023 batches STARTS from 12-08-2023.\n",
      "Enter the no. of word you want to remove :  5\n"
     ]
    },
    {
     "name": "stdout",
     "output_type": "stream",
     "text": [
      "After removing word : \n",
      " Pwskills is the best to learn Data Science. Pwskills 2023 batches STARTS from 12-08-2023.\n"
     ]
    }
   ],
   "source": [
    "#TOPIC: String Based Assignment Problem.\n",
    "#48. Remove the nth word from a string.\n",
    "\n",
    "def remove_word(string,position):\n",
    "    strlist = string.split()\n",
    "    strlist.pop(position-1)\n",
    "    return \" \".join(strlist)\n",
    "\n",
    "def main():    \n",
    "\n",
    "    phrase = input(\"Enter the string : \")\n",
    "    position = int(input(\"Enter the no. of word you want to remove : \"))\n",
    "    print(\"After removing word : \\n\",remove_word(phrase,position)) \n",
    "\n",
    "if __name__ == '__main__':\n",
    "    main()     \n",
    "    \n",
    "    "
   ]
  },
  {
   "cell_type": "code",
   "execution_count": 3,
   "id": "627ad6fa-f813-47d4-981b-254ea5b90941",
   "metadata": {},
   "outputs": [
    {
     "name": "stdin",
     "output_type": "stream",
     "text": [
      "Enter the string :  Pwskills is the best to learn Data Science. Pwskills 2023 batches STARTS from 12-08-2023.\n",
      "Enter the word you want to add in string :  platform\n",
      "Enter the no. of word you want to remove :  5\n"
     ]
    },
    {
     "name": "stdout",
     "output_type": "stream",
     "text": [
      "After adding word : \n",
      " Pwskills is the best platform to learn Data Science. Pwskills 2023 batches STARTS from 12-08-2023.\n"
     ]
    }
   ],
   "source": [
    "#TOPIC: String Based Assignment Problem.\n",
    "#49. Insert a word at the nth position in a string.\n",
    "\n",
    "def add_word(string,new_word,position):\n",
    "    strlist = string.split()\n",
    "    strlist.insert(position-1,new_word)\n",
    "    return \" \".join(strlist)\n",
    "\n",
    "def main():    \n",
    "\n",
    "    phrase = input(\"Enter the string : \")\n",
    "    new_word = input(\"Enter the word you want to add in string : \")\n",
    "    position = int(input(\"Enter the no. of word you want to remove : \"))\n",
    "    print(\"After adding word : \\n\",add_word(phrase,new_word,position)) \n",
    "\n",
    "if __name__ == '__main__':\n",
    "    main()     \n"
   ]
  },
  {
   "cell_type": "code",
   "execution_count": 6,
   "id": "483411a3-eda8-41cb-ab71-2f3a37a5feaf",
   "metadata": {},
   "outputs": [
    {
     "name": "stdin",
     "output_type": "stream",
     "text": [
      "Enter the String :  Pwskills,is,the,best,to,learn,Data,Science\n"
     ]
    },
    {
     "name": "stdout",
     "output_type": "stream",
     "text": [
      "List of lists of word in string is : \n",
      " [['P', 'w', 's', 'k', 'i', 'l', 'l', 's'], ['i', 's'], ['t', 'h', 'e'], ['b', 'e', 's', 't'], ['t', 'o'], ['l', 'e', 'a', 'r', 'n'], ['D', 'a', 't', 'a'], ['S', 'c', 'i', 'e', 'n', 'c', 'e']]\n"
     ]
    }
   ],
   "source": [
    "#TOPIC: String Based Assignment Problem.\n",
    "#50. Convert a CSV string to a list of lists.\n",
    "def string_to_list(string):\n",
    "    stringwords = string.split(',')\n",
    "    main_list = []\n",
    "    for word in stringwords:\n",
    "        temp = []\n",
    "        for item in word:\n",
    "            temp.append(item)\n",
    "        main_list.append(temp)\n",
    "    return main_list       \n",
    "\n",
    "\n",
    "def main():\n",
    "    string = input(\"Enter the String : \")\n",
    "    print(\"List of lists of word in string is : \\n\",string_to_list(string))\n",
    "    \n",
    "if __name__ == '__main__':\n",
    "    main()\n",
    "\n",
    "    \n",
    "#for more practice I have solved this question again in another logic please checkout that also.\n"
   ]
  },
  {
   "cell_type": "code",
   "execution_count": 5,
   "id": "c4085915-cbed-4609-b001-41ef7ed3474e",
   "metadata": {},
   "outputs": [
    {
     "name": "stdin",
     "output_type": "stream",
     "text": [
      "Enter the String :  Pwskills,is,the,best,to,learn,Data,Science\n"
     ]
    },
    {
     "name": "stdout",
     "output_type": "stream",
     "text": [
      "List of lists of word in string is : \n",
      " [['P', 'w', 's', 'k', 'i', 'l', 'l', 's'], ['i', 's'], ['t', 'h', 'e'], ['b', 'e', 's', 't'], ['t', 'o'], ['l', 'e', 'a', 'r', 'n'], ['D', 'a', 't', 'a'], ['S', 'c', 'i', 'e', 'n', 'c', 'e']]\n"
     ]
    }
   ],
   "source": [
    "#TOPIC: String Based Assignment Problem.\n",
    "#50. Convert a CSV string to a list of lists.\n",
    "\n",
    "def string_to_list(string):\n",
    "    mainlist = []\n",
    "    temp = []\n",
    "    for item in string:\n",
    "        if item != ',':\n",
    "            temp.append(item)\n",
    "        else:\n",
    "            mainlist.append(temp.copy())       \n",
    "            temp.clear()\n",
    "            \n",
    "    if temp:\n",
    "        mainlist.append(temp.copy())\n",
    "        temp.clear() \n",
    "    return mainlist       \n",
    "\n",
    "\n",
    "def main():\n",
    "    string = input(\"Enter the String : \")\n",
    "    print(\"List of lists of word in string is : \\n\",string_to_list(string))\n",
    "    \n",
    "if __name__ == '__main__':\n",
    "    main()\n",
    "        "
   ]
  },
  {
   "cell_type": "code",
   "execution_count": 2,
   "id": "3040b6c5-f33f-40b9-aef7-9c3ea339b045",
   "metadata": {},
   "outputs": [
    {
     "name": "stdout",
     "output_type": "stream",
     "text": [
      "[1, 2, 3, 4, 5, 6, 7, 8, 9, 10]\n"
     ]
    }
   ],
   "source": [
    "#List Based Practice Problem :\n",
    "#1. Create a list with integers from 1 to 10.\n",
    "\n",
    "def main():\n",
    "    numlist = []\n",
    "    for num in range(1,11):\n",
    "        numlist.append(num)\n",
    "    print(numlist)\n",
    "    \n",
    "if __name__ == '__main__':\n",
    "    main()    "
   ]
  },
  {
   "cell_type": "code",
   "execution_count": 4,
   "id": "58a7c62f-961d-4a29-9a8d-849002e71e59",
   "metadata": {},
   "outputs": [
    {
     "name": "stdout",
     "output_type": "stream",
     "text": [
      "length of list :  14\n"
     ]
    }
   ],
   "source": [
    "#List Based Practice Problem :\n",
    "#2. Find the length of a list without using the `len()` function.\n",
    "\n",
    "def main():\n",
    "    num_list = [1, 2,34,3,67,13,4, 51, 6, 7, 8, 9, 10,13]\n",
    "    length = 0\n",
    "    for i in num_list:\n",
    "        length += 1\n",
    "    print(\"length of list : \",length)\n",
    "    \n",
    "if __name__ == '__main__':\n",
    "    main()      "
   ]
  },
  {
   "cell_type": "code",
   "execution_count": 6,
   "id": "309cce5d-d63e-447f-86b1-8a8e6c3e5f49",
   "metadata": {},
   "outputs": [
    {
     "name": "stdin",
     "output_type": "stream",
     "text": [
      "enter the element to append in list :  pwskills\n"
     ]
    },
    {
     "name": "stdout",
     "output_type": "stream",
     "text": [
      "After appending :  [1, 2, 34, 3, 67, 13, 4, 51, 6, 7, 8, 9, 10, 13, 'pwskills']\n"
     ]
    }
   ],
   "source": [
    "#List Based Practice Problem :\n",
    "#3. Append an element to the end of a list\n",
    "\n",
    "def main():\n",
    "    my_list = [1, 2,34,3,67,13,4, 51, 6, 7, 8, 9, 10,13]\n",
    "    element = input(\"enter the element to append in list : \")\n",
    "    my_list.append(element)\n",
    "    print(\"After appending : \",my_list)\n",
    "    \n",
    "if __name__ == '__main__':\n",
    "    main()      "
   ]
  },
  {
   "cell_type": "code",
   "execution_count": 1,
   "id": "505ddf8d-62da-4152-aee3-dd8a4395b400",
   "metadata": {},
   "outputs": [
    {
     "name": "stdin",
     "output_type": "stream",
     "text": [
      "enter the element to append in list :  data\n",
      "Enter the index value :  5\n"
     ]
    },
    {
     "name": "stdout",
     "output_type": "stream",
     "text": [
      "After appending :  [1, 2, 34, 3, 67, 'data', 13, 4, 51, 6, 7, 8, 9, 10, 13]\n"
     ]
    }
   ],
   "source": [
    "#List Based Practice Problem :\n",
    "#4. Insert an element at a specific index in a list.\n",
    "\n",
    "def main():\n",
    "    my_list = [1, 2,34,3,67,13,4, 51, 6, 7, 8, 9, 10,13]\n",
    "    element = input(\"enter the element to append in list : \")\n",
    "    index = int(input(\"Enter the index value : \"))\n",
    "    my_list.insert(index,element)\n",
    "    print(\"After appending : \",my_list)\n",
    "    \n",
    "if __name__ == '__main__':\n",
    "    main()      \n"
   ]
  },
  {
   "cell_type": "code",
   "execution_count": 2,
   "id": "524ffe84-cdc1-4031-8ad5-e12016c7818b",
   "metadata": {},
   "outputs": [
    {
     "name": "stdout",
     "output_type": "stream",
     "text": [
      "After Removing :  [1, 2, 34, 3, 67, 13, 4, 51, 6, 7, 8, 9, 10, 13]\n"
     ]
    }
   ],
   "source": [
    "#List Based Practice Problem :\n",
    "#5. Remove an element from a list by its value.\n",
    "\n",
    "def main():\n",
    "    my_list = [1, 2,34,3,67,13,4,\"science\",51, 6, 7, 8, 9, 10,13]\n",
    "    my_list.remove(\"science\")\n",
    "    print(\"After Removing : \",my_list)\n",
    "\n",
    "if __name__ == '__main__':\n",
    "    main()  "
   ]
  },
  {
   "cell_type": "code",
   "execution_count": 3,
   "id": "67f7d9c8-7fb6-4f4b-9ac6-d3508e18a98d",
   "metadata": {},
   "outputs": [
    {
     "name": "stdin",
     "output_type": "stream",
     "text": [
      "Enter the index value :  7\n"
     ]
    },
    {
     "name": "stdout",
     "output_type": "stream",
     "text": [
      "After Removing by index :  [1, 2, 34, 3, 67, 13, 4, 51, 6, 7, 8, 9, 10, 13]\n"
     ]
    }
   ],
   "source": [
    "#List Based Practice Problem :\n",
    "#6. Remove an element from a list by its index.\n",
    "\n",
    "def main():\n",
    "    my_list = [1, 2,34,3,67,13,4,\"science\",51, 6, 7, 8, 9, 10,13]\n",
    "    index = int(input(\"Enter the index value : \"))\n",
    "    my_list.pop(index)\n",
    "    print(\"After Removing by index : \",my_list)\n",
    "\n",
    "if __name__ == '__main__':\n",
    "    main()  \n"
   ]
  },
  {
   "cell_type": "code",
   "execution_count": 4,
   "id": "09114d28-6719-4ca6-b78e-08b2201c6105",
   "metadata": {},
   "outputs": [
    {
     "name": "stdin",
     "output_type": "stream",
     "text": [
      "Enter the element to check whether it exists or not :  science\n"
     ]
    },
    {
     "name": "stdout",
     "output_type": "stream",
     "text": [
      "YES, the element 'science' exist in list..\n"
     ]
    }
   ],
   "source": [
    "#List Based Practice Problem :\n",
    "#7. Check if an element exists in a list.\n",
    "\n",
    "def main():\n",
    "    my_list = [1, 2,34,3,67,13,4,\"science\",51, 6, 7, 8, 9, 10,13]\n",
    "    element = input(\"Enter the element to check whether it exists or not : \")\n",
    "    if element in my_list:\n",
    "        print(f\"YES, the element '{element}' exist in list..\")\n",
    "    else:\n",
    "         print(f\"NO, the element '{element}' exist in list..\")\n",
    "            \n",
    "if __name__ == '__main__':\n",
    "    main()  \n"
   ]
  },
  {
   "cell_type": "code",
   "execution_count": 5,
   "id": "92bebf19-11cf-4571-8439-e9173f3e2d59",
   "metadata": {},
   "outputs": [
    {
     "name": "stdout",
     "output_type": "stream",
     "text": [
      "First occurence of given '13' :  3\n"
     ]
    }
   ],
   "source": [
    "#List Based Practice Problem :\n",
    "#8. Find the index of the first occurrence of an element in a list.\n",
    "\n",
    "def main():\n",
    "    my_list = [1, 2,34,13,67,13,4,\"science\",51, 6, 7, 8, 9, 10,13]\n",
    "    element = 13\n",
    "    print(f\"First occurence of given '{element}' : \",my_list.index(element))\n",
    "    \n",
    "if __name__ == '__main__':\n",
    "    main()     "
   ]
  },
  {
   "cell_type": "code",
   "execution_count": 3,
   "id": "db2db80e-ad7f-4aaf-b899-a37b55bfb683",
   "metadata": {},
   "outputs": [
    {
     "name": "stdin",
     "output_type": "stream",
     "text": [
      "Enter the element to check occurance :  13\n"
     ]
    },
    {
     "name": "stdout",
     "output_type": "stream",
     "text": [
      "4\n"
     ]
    }
   ],
   "source": [
    "#List Based Practice Problem :\n",
    "#9. Count the occurrences of an element in a list.\n",
    "\n",
    "def count_occurance(my_list, element):\n",
    "    count = 0\n",
    "    for ele in my_list:\n",
    "        if (ele == element):\n",
    "            count = count + 1\n",
    "    return count\n",
    "\n",
    "def main():\n",
    "    my_list = [1,13,2,34,3,67,13,4,13,51, 6, 7, 8, 9, 10,13]\n",
    "    element = int(input(\"Enter the element to check occurance : \"))\n",
    "    print(count_occurance(my_list, element))\n",
    "    \n",
    "if __name__ == '__main__':\n",
    "    main()         "
   ]
  },
  {
   "cell_type": "code",
   "execution_count": 4,
   "id": "f652b342-1706-4de0-981f-5c01b16e52a7",
   "metadata": {},
   "outputs": [
    {
     "name": "stdout",
     "output_type": "stream",
     "text": [
      "[1, 13, 2, 34, 3, 67, 13, 4, 13, 51, 6, 7, 8, 9, 10, 13]\n",
      "Reverse : \n",
      " [13, 10, 9, 8, 7, 6, 51, 13, 4, 13, 67, 3, 34, 2, 13, 1]\n"
     ]
    }
   ],
   "source": [
    "#List Based Practice Problem :\n",
    "#10. Reverse the order of elements in a list.\n",
    "\n",
    "def main():\n",
    "    my_list = [1,13,2,34,3,67,13,4,13,51, 6, 7, 8, 9, 10,13]\n",
    "    print(my_list)\n",
    "    print(\"Reverse : \\n\",my_list[::-1])\n",
    "\n",
    "if __name__ == '__main__':\n",
    "    main()        "
   ]
  },
  {
   "cell_type": "code",
   "execution_count": 4,
   "id": "06468508-1f56-436d-8af1-f88d7a390414",
   "metadata": {},
   "outputs": [
    {
     "name": "stdout",
     "output_type": "stream",
     "text": [
      "[1, 13, 2, 34, 3, 67, 13, 4, 13, 51, 6, 7, 8, 9, 10, 13]\n",
      "Sorted : \n",
      " [1, 2, 3, 4, 6, 7, 8, 9, 10, 13, 13, 13, 13, 34, 51, 67]\n"
     ]
    }
   ],
   "source": [
    "#List Based Practice Problem :\n",
    "#11. Sort a list in ascending order.\n",
    "\n",
    "def main():\n",
    "    my_list = [1,13,2,34,3,67,13,4,13,51, 6, 7, 8, 9, 10,13]\n",
    "    print(my_list)\n",
    "    my_list.sort()\n",
    "    print(\"Sorted : \\n\",my_list)\n",
    "\n",
    "if __name__ == '__main__':\n",
    "    main()    "
   ]
  },
  {
   "cell_type": "code",
   "execution_count": 5,
   "id": "49540e9a-15de-46c5-8eb7-a2557baf9b86",
   "metadata": {},
   "outputs": [
    {
     "name": "stdout",
     "output_type": "stream",
     "text": [
      "[1, 13, 2, 34, 3, 67, 13, 4, 13, 51, 6, 7, 8, 9, 10, 13]\n",
      "Sorted : \n",
      " [67, 51, 34, 13, 13, 13, 13, 10, 9, 8, 7, 6, 4, 3, 2, 1]\n"
     ]
    }
   ],
   "source": [
    "#List Based Practice Problem :\n",
    "#12. Sort a list in descending order\n",
    "\n",
    "def main():\n",
    "    my_list = [1,13,2,34,3,67,13,4,13,51, 6, 7, 8, 9, 10,13]\n",
    "    print(my_list)\n",
    "    my_list.sort(reverse = True)\n",
    "    print(\"Sorted : \\n\",my_list)\n",
    "\n",
    "if __name__ == '__main__':\n",
    "    main()    "
   ]
  },
  {
   "cell_type": "code",
   "execution_count": 1,
   "id": "45935e0a-f573-40e4-92d3-737b5ba95c7b",
   "metadata": {},
   "outputs": [
    {
     "name": "stdout",
     "output_type": "stream",
     "text": [
      "List of even Numbers in range of 1 to 20 :\n",
      " [2, 4, 6, 8, 10, 12, 14, 16, 18, 20]\n"
     ]
    }
   ],
   "source": [
    "#List Based Practice Problem :\n",
    "#13. Create a list of even numbers from 1 to 20.\n",
    "\n",
    "def main():\n",
    "    even_list = []\n",
    "    for i in range(1,21):\n",
    "        if i%2 == 0:\n",
    "            even_list.append(i)\n",
    "    print(\"List of even Numbers in range of 1 to 20 :\\n\",even_list)\n",
    "    \n",
    "    \n",
    "if __name__ == '__main__':\n",
    "    main()    "
   ]
  },
  {
   "cell_type": "code",
   "execution_count": 2,
   "id": "d2058157-e4f4-4e49-9f04-3794909c98f8",
   "metadata": {},
   "outputs": [
    {
     "name": "stdout",
     "output_type": "stream",
     "text": [
      "List of odd Numbers in range of 1 to 20 :\n",
      " [1, 3, 5, 7, 9, 11, 13, 15, 17, 19]\n"
     ]
    }
   ],
   "source": [
    "#List Based Practice Problem :\n",
    "#14. Create a list of odd numbers from 1 to 20.\n",
    "\n",
    "def main():\n",
    "    odd_list = []\n",
    "    for i in range(1,21):\n",
    "        if i%2 != 0:\n",
    "            odd_list.append(i)\n",
    "    print(\"List of odd Numbers in range of 1 to 20 :\\n\",odd_list)\n",
    "    \n",
    "    \n",
    "if __name__ == '__main__':\n",
    "    main()    "
   ]
  },
  {
   "cell_type": "code",
   "execution_count": 2,
   "id": "86e54af6-f730-43cd-9541-9b23d8aaa8e3",
   "metadata": {},
   "outputs": [
    {
     "name": "stdout",
     "output_type": "stream",
     "text": [
      "Summation of all lists element : 100 \n",
      "100\n"
     ]
    }
   ],
   "source": [
    "#List Based Practice Problem :\n",
    "#15. Find the sum of all elements in a list.\n",
    "\n",
    "def main():\n",
    "    lst = [1, 3, 5, 7, 9, 11, 13, 15, 17, 19]\n",
    "    total = 0\n",
    "    \n",
    "    for ele in lst:\n",
    "        total += ele\n",
    "    \n",
    "    print(f\"Summation of all lists element : {total} \")\n",
    "    \n",
    "    \n",
    "    print(sum(lst))  #using in built function\n",
    "    \n",
    "if __name__ == '__main__':\n",
    "    main()        "
   ]
  },
  {
   "cell_type": "code",
   "execution_count": 3,
   "id": "c3bd58b0-5fbe-4ec0-810c-0e711210ec66",
   "metadata": {},
   "outputs": [
    {
     "name": "stdout",
     "output_type": "stream",
     "text": [
      "max num from list : 19\n",
      "19\n"
     ]
    }
   ],
   "source": [
    "#List Based Practice Problem :\n",
    "#16. Find the maximum value in a list.\n",
    "\n",
    "def max_value(lst):\n",
    "    maxnum = 0\n",
    "    for ele in lst:\n",
    "        if maxnum < ele:\n",
    "            maxnum = ele\n",
    "    return maxnum     \n",
    "\n",
    "def main():\n",
    "    lst = [1, 3, 5, 7, 9, 11, 13, 15, 17, 19]\n",
    "    print(f\"max num from list : {max_value(lst)}\")\n",
    "    \n",
    "    print(max(lst))#using in built function\n",
    "    \n",
    "if __name__ == '__main__':\n",
    "    main()      "
   ]
  },
  {
   "cell_type": "code",
   "execution_count": 1,
   "id": "300751f6-05c4-41bc-a998-a7db4d7f0dc4",
   "metadata": {},
   "outputs": [
    {
     "name": "stdout",
     "output_type": "stream",
     "text": [
      "Min num from list : 1\n",
      "1\n"
     ]
    }
   ],
   "source": [
    "#List Based Practice Problem :\n",
    "#17. Find the minimum value in a list.\n",
    "\n",
    "def min_value(lst):\n",
    "    minnum = lst[1]\n",
    "    for ele in lst:\n",
    "        if minnum > ele:\n",
    "            minnum = ele\n",
    "    return minnum     \n",
    "\n",
    "def main():\n",
    "    lst = [1, 3, 5, 7, 9, 11, 13, 15, 17, 19]\n",
    "    print(f\"Min num from list : {min_value(lst)}\")\n",
    "    \n",
    "    print(min(lst))#using in built function\n",
    "    \n",
    "if __name__ == '__main__':\n",
    "    main()      "
   ]
  },
  {
   "cell_type": "code",
   "execution_count": 2,
   "id": "257646d0-f296-4916-91b9-d976c0bff69f",
   "metadata": {},
   "outputs": [
    {
     "name": "stdout",
     "output_type": "stream",
     "text": [
      "Sqr List of range 1 to 10 : \n",
      " [1, 4, 9, 16, 25, 36, 49, 64, 81, 100]\n"
     ]
    }
   ],
   "source": [
    "#List Based Practice Problem :\n",
    "#18. Create a list of squares of numbers from 1 to 10.\n",
    "\n",
    "def main():\n",
    "    sqrlst = [num**2 for num in range(1,11)]\n",
    "    print(\"Sqr List of range 1 to 10 : \\n\",sqrlst)\n",
    "    \n",
    "if __name__ == '__main__':\n",
    "    main()      "
   ]
  },
  {
   "cell_type": "code",
   "execution_count": 3,
   "id": "bda898ac-dc9f-4c6d-8688-db5b926394c0",
   "metadata": {},
   "outputs": [
    {
     "name": "stdout",
     "output_type": "stream",
     "text": [
      "[30, 88, 86, 70, 81, 92, 5, 98, 85, 10]\n"
     ]
    }
   ],
   "source": [
    "#List Based Practice Problem :\n",
    "#19. Create a list of random numbers.\n",
    "\n",
    "import random\n",
    "\n",
    "def main():\n",
    "    min_value = 1  \n",
    "    max_value = 100  \n",
    "    list_size = 10  \n",
    "\n",
    "    random_numbers = [random.randint(min_value, max_value) for _ in range(list_size)]\n",
    "    print(random_numbers)\n",
    "    \n",
    "if __name__ == '__main__':\n",
    "    main()"
   ]
  },
  {
   "cell_type": "code",
   "execution_count": 5,
   "id": "44c2a0ff-429a-4f28-89ef-8d2de69ee086",
   "metadata": {},
   "outputs": [
    {
     "name": "stdout",
     "output_type": "stream",
     "text": [
      "before removing duplicates : [1, 3, 5, 8, 1, 7, 9, 11, 2, 15, 19, 4, 13, 15, 17, 19]\n",
      "After removing duplicates : [1, 2, 3, 4, 5, 7, 8, 9, 11, 13, 15, 17, 19]\n"
     ]
    }
   ],
   "source": [
    "#List Based Practice Problem :\n",
    "#20. Remove duplicates from a list.\n",
    "\n",
    "def main():\n",
    "    lst = [1, 3, 5,8,1, 7, 9, 11,2,15,19,4, 13, 15, 17, 19]\n",
    "    print(f\"before removing duplicates : {lst}\")\n",
    "    \n",
    "    lst1 = list(set(lst))\n",
    "    print(f\"After removing duplicates : {lst1}\")\n",
    "if __name__ == '__main__':\n",
    "    main()      \n"
   ]
  },
  {
   "cell_type": "code",
   "execution_count": 11,
   "id": "0c1e8850-1b44-4ec9-aa27-4bbedba5bacc",
   "metadata": {},
   "outputs": [
    {
     "name": "stdout",
     "output_type": "stream",
     "text": [
      "List 1-[34, 89, 45, 0, 7, 5, 32, 87, 4, 12, 8, 56, 98, 54, 45, 2]\n",
      "List 2-[34, 89, 11, 13, 12, 8, 15, 17, 19, 67, 35, 99, 100]\n",
      "Common element list : \n",
      " [8, 89, 34, 12]\n"
     ]
    }
   ],
   "source": [
    "#List Based Practice Problem :\n",
    "#21. Find the common elements between two lists.\n",
    "\n",
    "def common_finder(lst1, lst2):\n",
    "    commonlst = [ele for ele in lst1 if ele in lst2]\n",
    "    return list(set(commonlst))\n",
    "\n",
    "def main():\n",
    "    lst1 = [34,89,45,0,7,5,32,87,4,12,8,56,98,54,45,2]\n",
    "    lst2 = [34,89, 11, 13,12,8, 15, 17, 19,67,35,99,100]\n",
    "    print(\"List 1-{0}\\nList 2-{1}\".format(lst1,lst2))\n",
    "    print(\"Common element list : \\n\",common_finder(lst1, lst2))\n",
    "\n",
    "if __name__ == '__main__':\n",
    "    main()  \n",
    "    "
   ]
  },
  {
   "cell_type": "code",
   "execution_count": 16,
   "id": "5e8b9381-c850-45c7-89fc-577babe4c119",
   "metadata": {},
   "outputs": [
    {
     "name": "stdout",
     "output_type": "stream",
     "text": [
      "Before :\n",
      "lst1 = [34, 89, 45, 0, 7, 5, 32, 87, 4, 12, 8, 56, 98, 54, 45, 2]\n",
      "lst2 = [34, 89, 11, 13, 12, 8, 15, 17, 19, 67, 35, 99, 100]\n",
      "After :\n",
      "Elements tha are IN lst1 but NOT IN lst2 : [0, 32, 98, 2, 4, 5, 7, 45, 54, 87, 56]\n",
      "Elements tha are IN lst2 but NOT IN lst1 : [99, 35, 67, 100, 11, 13, 15, 17, 19]\n",
      "And Common element Lst :  [8, 89, 34, 12]\n"
     ]
    }
   ],
   "source": [
    "#List Based Practice Problem :\n",
    "#22. Find the difference between two lists.\n",
    "\n",
    "def common_finder(lst1, lst2):\n",
    "    commonlst = [ele for ele in lst1 if ele in lst2]\n",
    "    return list(set(commonlst))\n",
    "\n",
    "def diff_finder(lst1, lst2):\n",
    "    in1notin2_lst = list(set(lst1) - set(lst2))\n",
    "    in2notin1_lst = list(set(lst2) - set(lst1))\n",
    "    print(f\"Elements tha are IN lst1 but NOT IN lst2 : {in1notin2_lst}\\nElements tha are IN lst2 but NOT IN lst1 : {in2notin1_lst}\")\n",
    "    return common_finder(lst1, lst2)\n",
    "    \n",
    "def main():\n",
    "    lst1 = [34,89,45,0,7,5,32,87,4,12,8,56,98,54,45,2]\n",
    "    lst2 = [34,89, 11, 13,12,8, 15, 17, 19,67,35,99,100]\n",
    "    print(f\"Before :\\nlst1 = {lst1}\\nlst2 = {lst2}\\nAfter :\")\n",
    "    common = diff_finder(lst1, lst2)\n",
    "    print(\"And Common element Lst : \",common)\n",
    "\n",
    "if __name__ == '__main__':\n",
    "    main()  "
   ]
  },
  {
   "cell_type": "code",
   "execution_count": 19,
   "id": "7764779a-2722-467f-bfa3-535d949eb123",
   "metadata": {},
   "outputs": [
    {
     "name": "stdout",
     "output_type": "stream",
     "text": [
      "Before :\n",
      "lst1 = [34, 89, 45, 87, 19, 4, 12, 45, 2, 13]\n",
      "lst2 = [34, 13, 15, 17, 19, 67, 35, 89, 100]\n",
      "After :\n",
      "Merged List(duplicates removed){34, 2, 4, 67, 35, 100, 12, 45, 13, 15, 17, 19, 87, 89}\n"
     ]
    }
   ],
   "source": [
    "#List Based Practice Problem :\n",
    "#23. Merge two lists.\n",
    "\n",
    "def main():\n",
    "    lst1 = [34,89,45,87,19,4,12,45,2,13]\n",
    "    lst2 = [34,13,15,17,19,67,35,89,100]\n",
    "    mergedlst = lst1+lst2 #set is used to remove the duplicate elements\n",
    "    print(f\"Before :\\nlst1 = {lst1}\\nlst2 = {lst2}\\nAfter :\\nMerged List(duplicates removed){set(mergedlst)}\")\n",
    "    \n",
    "if __name__ == '__main__':\n",
    "    main()    "
   ]
  },
  {
   "cell_type": "code",
   "execution_count": 20,
   "id": "18fe4076-6e0a-4c90-835b-ae60fda7afc3",
   "metadata": {},
   "outputs": [
    {
     "name": "stdout",
     "output_type": "stream",
     "text": [
      "Original List : [1, 13, 2, 34, 3, 67, 9, 10, 13]\n",
      "New List : [2, 26, 4, 68, 6, 134, 18, 20, 26]\n"
     ]
    }
   ],
   "source": [
    "#List Based Practice Problem :\n",
    "#24. Multiply all elements in a list by 2.\n",
    "\n",
    "def main():\n",
    "    \n",
    "    my_list = [1,13,2,34,3,67,9, 10,13]\n",
    "    lst = [ele*2 for ele in my_list]\n",
    "    \n",
    "    print(f\"Original List : {my_list}\")\n",
    "    print(f\"New List : {lst}\")\n",
    "    \n",
    "if __name__ == '__main__':\n",
    "    main()         "
   ]
  },
  {
   "cell_type": "code",
   "execution_count": 29,
   "id": "dd2f1b5d-f396-4e2c-908c-f5e9ee4c1edd",
   "metadata": {},
   "outputs": [
    {
     "name": "stdout",
     "output_type": "stream",
     "text": [
      "Original List : [1, 13, 2, 34, 3, 67, 9, 10, 13]\n",
      "Filtered OUT EVEN element List : [1, 13, 3, 67, 9, 13]\n"
     ]
    }
   ],
   "source": [
    "#List Based Practice Problem :\n",
    "#25. Filter out all even numbers from a list.\n",
    "\n",
    "def main():\n",
    "    my_list = [1,13,2,34,3,67,9, 10,13]\n",
    "    odd_lst = [ele for ele in my_list if ele % 2 != 0]\n",
    "    \n",
    "    print(f\"Original List : {my_list}\")\n",
    "    print(f\"Filtered OUT EVEN element List : {odd_lst}\")\n",
    "    \n",
    "if __name__ == '__main__':\n",
    "    main()      "
   ]
  },
  {
   "cell_type": "code",
   "execution_count": 1,
   "id": "657b79bb-94d6-4bce-9289-323470bc5c39",
   "metadata": {},
   "outputs": [
    {
     "name": "stdout",
     "output_type": "stream",
     "text": [
      "Original string type List : ['1', '13', '2', '34', '3', '67', '9', '10', '13']\n",
      "converted int type element List : [1, 13, 2, 34, 3, 67, 9, 10, 13]\n"
     ]
    }
   ],
   "source": [
    "#List Based Practice Problem :\n",
    "#26. Convert a list of strings to a list of integers.\n",
    "\n",
    "def main():\n",
    "    my_list = [\"1\",\"13\",\"2\",\"34\",\"3\",\"67\",\"9\",\"10\",\"13\"]\n",
    "    int_lst = [int(ele) for ele in my_list]\n",
    "    \n",
    "    print(f\"Original string type List : {my_list}\")\n",
    "    print(f\"converted int type element List : {int_lst}\")\n",
    "    \n",
    "if __name__ == '__main__':\n",
    "    main()    "
   ]
  },
  {
   "cell_type": "code",
   "execution_count": 2,
   "id": "4d333794-df41-490a-a0a2-044f4772c2b4",
   "metadata": {},
   "outputs": [
    {
     "name": "stdout",
     "output_type": "stream",
     "text": [
      "Original int type List : [1, 13, 2, 34, 3, 67, 9, 10, 13]\n",
      "converted string type element List : ['1', '13', '2', '34', '3', '67', '9', '10', '13']\n"
     ]
    }
   ],
   "source": [
    "#List Based Practice Problem :\n",
    "#27. Convert a list of integers to a list of strings.\n",
    "\n",
    "def main():\n",
    "    my_list = [1, 13, 2, 34, 3, 67, 9, 10, 13]\n",
    "    str_lst = [str(ele) for ele in my_list]\n",
    "    \n",
    "    print(f\"Original int type List : {my_list}\")\n",
    "    print(f\"converted string type element List : {str_lst}\")\n",
    "    \n",
    "if __name__ == '__main__':\n",
    "    main()    "
   ]
  },
  {
   "cell_type": "code",
   "execution_count": 6,
   "id": "8b1dae76-6680-4e38-8ffa-6b81cc31364e",
   "metadata": {},
   "outputs": [
    {
     "name": "stdout",
     "output_type": "stream",
     "text": [
      "Original Nested List : [1, [2, 3], [4, [5, 6]], 7, [12, 56, [78, 4]]]\n",
      "converted flattened List : [1, 2, 3, 4, 5, 6, 7, 12, 56, 78, 4]\n"
     ]
    }
   ],
   "source": [
    "#List Based Practice Problem :\n",
    "#28. Flatten a nested list.\n",
    "\n",
    "def flatten_list(nested_list):\n",
    "    final_list = []\n",
    "    for item in nested_list:\n",
    "        if isinstance(item, list):\n",
    "            final_list.extend(flatten_list(item))\n",
    "        else:\n",
    "            final_list.append(item)\n",
    "    return final_list\n",
    "\n",
    "def main():\n",
    "    nested_list = [1, [2, 3], [4, [5, 6]], 7,[12,56,[78,4]]]\n",
    "    flattened_list = flatten_list(nested_list)\n",
    "    print(f\"Original Nested List : {nested_list}\")\n",
    "    print(f\"converted flattened List : {flattened_list}\")\n",
    "\n",
    "if __name__ == '__main__':\n",
    "    main()  "
   ]
  },
  {
   "cell_type": "code",
   "execution_count": 16,
   "id": "3df41862-8989-43d2-9c2b-e31b13f453ef",
   "metadata": {},
   "outputs": [
    {
     "name": "stdout",
     "output_type": "stream",
     "text": [
      "First 10 fibonacci Series :  [0, 1, 1, 2, 3, 5, 8, 13, 21, 34]\n"
     ]
    }
   ],
   "source": [
    "#List Based Practice Problem :\n",
    "#29. Create a list of the first 10 Fibonacci numbers.\n",
    "\n",
    "def main():\n",
    "    fibonaccilst = [] \n",
    "    for i in range(10):\n",
    "        if i < 2:\n",
    "            fibonaccilst.append(i)\n",
    "        else:\n",
    "            nextnum = fibonaccilst[-1] + fibonaccilst[-2]\n",
    "            fibonaccilst.append(nextnum)\n",
    "            \n",
    "            \n",
    "    print(\"First 10 fibonacci Series : \",fibonaccilst)    \n",
    "    \n",
    "if __name__ == '__main__':\n",
    "    main()     "
   ]
  },
  {
   "cell_type": "code",
   "execution_count": 10,
   "id": "af4506cd-c21e-47d5-9270-e2e9e0fa5eef",
   "metadata": {},
   "outputs": [
    {
     "name": "stdout",
     "output_type": "stream",
     "text": [
      "List 1 [1, 2, 3, 4, 5, 6, 8, 10, 22] :  Given List is Sorted\n",
      "List 2 [1, 3, 5, 7, 4, 3, 34, 67, 12] :  Given List is Unsorted\n"
     ]
    }
   ],
   "source": [
    "#List Based Practice Problem :\n",
    "#30. Check if a list is sorted.\n",
    "def checksort(lst):\n",
    "    sort = sorted(lst)\n",
    "    if lst != sort:\n",
    "        return \"Given List is Unsorted\"\n",
    "    else:\n",
    "        return \"Given List is Sorted\"\n",
    "            \n",
    "def main():\n",
    "    lst1 = [1,2,3,4,5,6,8,10,22]   #Sorted \n",
    "    lst2 = [1,3,5,7,4,3,34,67,12]  #Unsorted\n",
    "    print(f\"List 1 {lst1} : \",checksort(lst1))\n",
    "    print(f\"List 2 {lst2} : \",checksort(lst2))\n",
    "\n",
    "if __name__ == '__main__':\n",
    "    main()     \n",
    "    "
   ]
  },
  {
   "cell_type": "code",
   "execution_count": 32,
   "id": "ef8ed3d1-dcd5-4e33-b030-f4ae4f2b0247",
   "metadata": {},
   "outputs": [
    {
     "name": "stdout",
     "output_type": "stream",
     "text": [
      "List before rotating : [1, 2, 3, 4, 5, 6, 8, 10, 22]\n"
     ]
    },
    {
     "name": "stdin",
     "output_type": "stream",
     "text": [
      "Enter the shift position :  2\n"
     ]
    },
    {
     "name": "stdout",
     "output_type": "stream",
     "text": [
      "List after rotating left by 2 : [10, 22, 1, 2, 3, 4, 5, 6, 8]\n"
     ]
    }
   ],
   "source": [
    "#List Based Practice Problem :\n",
    "#31. Rotate a list to the left by `n` positions.\n",
    "\n",
    "def main():\n",
    "    lst = [1, 2, 3, 4, 5, 6, 8, 10, 22]\n",
    "    print(f\"List before rotating : {lst}\")\n",
    "    shift = int(input(\"Enter the shift position : \"))\n",
    "    for index in range (shift):\n",
    "        element = lst.pop()\n",
    "        lst.insert(0,element)\n",
    "    print(f\"List after rotating left by {shift} :\",lst)   \n",
    "if __name__ == '__main__':\n",
    "    main()         \n"
   ]
  },
  {
   "cell_type": "code",
   "execution_count": 34,
   "id": "97f1aaed-eeef-4aa7-80ee-37f1bdc4821f",
   "metadata": {},
   "outputs": [
    {
     "name": "stdout",
     "output_type": "stream",
     "text": [
      "List before rotating : [1, 2, 3, 4, 5, 6, 8, 10, 22]\n"
     ]
    },
    {
     "name": "stdin",
     "output_type": "stream",
     "text": [
      "Enter the shift position :  3\n"
     ]
    },
    {
     "name": "stdout",
     "output_type": "stream",
     "text": [
      "List after rotating right by 3 : [4, 5, 6, 8, 10, 22, 1, 2, 3]\n"
     ]
    }
   ],
   "source": [
    "#List Based Practice Problem :\n",
    "#32. Rotate a list to the right by `n` positions.\n",
    "\n",
    "def main():\n",
    "    lst = [1, 2, 3, 4, 5, 6, 8, 10, 22]\n",
    "    print(f\"List before rotating : {lst}\")\n",
    "    shift = int(input(\"Enter the shift position : \"))\n",
    "    for index in range (shift):\n",
    "        element = lst.pop(0)\n",
    "        lst.append(element)\n",
    "    print(f\"List after rotating right by {shift} :\",lst)   \n",
    "if __name__ == '__main__':\n",
    "    main()  \n",
    "    "
   ]
  },
  {
   "cell_type": "code",
   "execution_count": 4,
   "id": "960f5c91-4507-4180-9658-aa1f8f5f5eea",
   "metadata": {},
   "outputs": [
    {
     "name": "stdout",
     "output_type": "stream",
     "text": [
      "List of prime numbers up to 50 :\n",
      " [2, 3, 5, 7, 11, 13, 17, 19, 23, 29, 31, 37, 41, 43, 47]\n"
     ]
    }
   ],
   "source": [
    "#List Based Practice Problem :\n",
    "#33. Create a list of prime numbers up to 50\n",
    "\n",
    "def main():\n",
    "    primenum = []\n",
    "    for num in range(51):\n",
    "        if num > 1:\n",
    "            for div in range(2,num):\n",
    "                if num % div==0:\n",
    "                    break\n",
    "            else:\n",
    "                primenum.append(num)\n",
    "                \n",
    "    print(\"List of prime numbers up to 50 :\\n\",primenum) \n",
    "    \n",
    "if __name__ == '__main__':\n",
    "    main()     \n",
    "    "
   ]
  },
  {
   "cell_type": "code",
   "execution_count": 22,
   "id": "d4fdc64b-dce8-4601-b7b6-1c05cb9b1e64",
   "metadata": {},
   "outputs": [
    {
     "name": "stdin",
     "output_type": "stream",
     "text": [
      "Enter the chunks size :  3\n"
     ]
    },
    {
     "name": "stdout",
     "output_type": "stream",
     "text": [
      "Original List : [2, 3, 5, 7, 11, 13, 17, 19, 23, 29, 31, 37, 41, 43, 47, 45, 12]\n",
      "Chunked List [[2, 3, 5], [7, 11, 13], [17, 19, 23], [29, 31, 37], [41, 43, 47], [45, 12]]\n"
     ]
    }
   ],
   "source": [
    "#List Based Practice Problem :\n",
    "#34. Split a list into chunks of size `n`.\n",
    "\n",
    "\n",
    "def splitinchunks(lst,chunksize):\n",
    "    chunks_lst = []\n",
    "    for i in range(0, len(lst), chunksize):\n",
    "        chunk = lst[i:i + chunksize]\n",
    "        chunks_lst.append(chunk)\n",
    "            \n",
    "    return chunks_lst       \n",
    "    \n",
    "def main():\n",
    "    lst = [2, 3, 5, 7, 11, 13, 17, 19, 23, 29, 31, 37, 41, 43, 47,45,12]\n",
    "    chunks = int(input(\"Enter the chunks size : \"))\n",
    "    print(\"Original List :\",lst)\n",
    "    print(\"Chunked List\",splitinchunks(lst,chunks))\n",
    "    \n",
    "if __name__ == '__main__':\n",
    "    main()     \n",
    "        "
   ]
  },
  {
   "cell_type": "code",
   "execution_count": 32,
   "id": "25c014bb-cb71-4c72-a524-94b706021bc3",
   "metadata": {},
   "outputs": [
    {
     "name": "stdout",
     "output_type": "stream",
     "text": [
      "[2, 3, 5, 7, 11, 13, 17, 19, 23, 29, 31, 37, 41, 43, 47, 45, 12]\n",
      "Second largest No -  45\n"
     ]
    }
   ],
   "source": [
    "#List Based Practice Problem :\n",
    "#35. Find the second largest number in a list.\n",
    "\n",
    "def main():\n",
    "    lst = [2, 3, 5, 7, 11, 13, 17, 19, 23, 29, 31, 37, 41, 43, 47,45,12]\n",
    "    print(lst)\n",
    "    lst.remove(max(lst))\n",
    "    secondmax = max(lst)\n",
    "    print(\"Second largest No - \",secondmax)\n",
    "    \n",
    "if __name__ == '__main__':\n",
    "    main()   \n",
    "    "
   ]
  },
  {
   "cell_type": "code",
   "execution_count": 39,
   "id": "9d000ca5-e7d8-4fb4-9395-c2852eec1ce8",
   "metadata": {},
   "outputs": [
    {
     "name": "stdout",
     "output_type": "stream",
     "text": [
      "Original lst :  [4, 5, 6, 8, 10, 22, 1, 2, 3]\n",
      "Squared lst :  [16, 25, 36, 64, 100, 484, 1, 4, 9]\n"
     ]
    }
   ],
   "source": [
    "#List Based Practice Problem :\n",
    "#36. Replace every element in a list with its square.\n",
    "\n",
    "def main():\n",
    "    lst = [4, 5, 6, 8, 10, 22, 1, 2, 3]\n",
    "    print(\"Original lst : \",lst)\n",
    "    \n",
    "    # lst = [ele**2 for ele in lst]  #Alternat methode to get solution\n",
    "    for index in range(len(lst)):\n",
    "        lst[index] = lst[index]**2\n",
    "    \n",
    "    \n",
    "    print(\"Squared lst : \",lst)\n",
    "    \n",
    "if __name__ == '__main__':\n",
    "    main()      "
   ]
  },
  {
   "cell_type": "code",
   "execution_count": 42,
   "id": "afedb4d0-e39b-4117-b02b-dbb316dc109d",
   "metadata": {},
   "outputs": [
    {
     "name": "stdout",
     "output_type": "stream",
     "text": [
      "List :  [4, 5, 6, 8, 10, 22, 1, 2, 3]\n",
      "Dictonary :  {4: 0, 5: 1, 6: 2, 8: 3, 10: 4, 22: 5, 1: 6, 2: 7, 3: 8}\n"
     ]
    }
   ],
   "source": [
    "#List Based Practice Problem :\n",
    "#37. Convert a list to a dictionary where list elements become keys and their\n",
    "#    indices become values.\n",
    "\n",
    "\n",
    "def main():\n",
    "    lst = [4, 5, 6, 8, 10, 22, 1, 2, 3]\n",
    "    dic = {}\n",
    "    \n",
    "    for i in range(0 , len(lst)):\n",
    "        dic[lst[i]] = i\n",
    "    print(\"List : \",lst)    \n",
    "    print(\"Dictonary : \",dic)    \n",
    "if __name__ == '__main__':\n",
    "    main()     "
   ]
  },
  {
   "cell_type": "code",
   "execution_count": 47,
   "id": "00e3e08b-2b24-4555-8550-7a1fa925633d",
   "metadata": {},
   "outputs": [
    {
     "name": "stdout",
     "output_type": "stream",
     "text": [
      "Oringinal List :  [1, 2, 3, 4, 5, 6, 7, 8, 9, 10]\n",
      "Shuffled List :  [3, 6, 7, 9, 10, 2, 1, 8, 5, 4]\n"
     ]
    }
   ],
   "source": [
    "#List Based Practice Problem :\n",
    "#38. Shuffle the elements of a list randomly.\n",
    "\n",
    "import random\n",
    "\n",
    "def main():\n",
    "    lst = [1, 2, 3, 4, 5, 6, 7, 8, 9, 10]\n",
    "    print(\"Oringinal List : \",lst)\n",
    "    random.shuffle(lst) \n",
    "    print(\"Shuffled List : \",lst)       \n",
    "    \n",
    "if __name__ == '__main__':\n",
    "    main() "
   ]
  },
  {
   "cell_type": "code",
   "execution_count": 62,
   "id": "7be08188-8a31-4dce-9ee1-499e4a1670bf",
   "metadata": {},
   "outputs": [
    {
     "name": "stdout",
     "output_type": "stream",
     "text": [
      "fact of 1 = 1\n",
      "fact of 2 = 2\n",
      "fact of 3 = 6\n",
      "fact of 4 = 24\n",
      "fact of 5 = 120\n",
      "fact of 6 = 720\n",
      "fact of 7 = 5040\n",
      "fact of 8 = 40320\n",
      "fact of 9 = 362880\n",
      "fact of 10 = 3628800\n"
     ]
    }
   ],
   "source": [
    "#List Based Practice Problem :\n",
    "#39. Create a list of the first 10 factorial numbers.\n",
    "def factorial(num):\n",
    "    fact = 0\n",
    "    if num != 0:\n",
    "        return num*factorial(num-1) \n",
    "    else:\n",
    "        fact = 1\n",
    "    return fact  \n",
    "\n",
    "\n",
    "def main():\n",
    "    for i in range(1,11):\n",
    "        result = factorial(i)\n",
    "        print(f\"fact of {i} = {result}\")\n",
    "        \n",
    "if __name__ == '__main__':\n",
    "    main()         "
   ]
  },
  {
   "cell_type": "code",
   "execution_count": 65,
   "id": "a5cbf012-4cc4-45ab-a93d-0ae55b2bb5f1",
   "metadata": {},
   "outputs": [
    {
     "name": "stdout",
     "output_type": "stream",
     "text": [
      "List1 =  [4, 5, 6, 8, 10, 22, 1, 2, 3]\n",
      "List2 =  [16, 25, 36, 64, 100, 484, 1, 4, 9]\n",
      "Common element in both lists =  4\n"
     ]
    }
   ],
   "source": [
    "#List Based Practice Problem :\n",
    "#40. Check if two lists have at least one element in common.\n",
    "\n",
    "def main():\n",
    "    lst1 = [4, 5, 6, 8, 10, 22, 1, 2, 3]\n",
    "    lst2 =  [16, 25, 36, 64, 100, 484, 1, 4, 9]\n",
    "    print(\"List1 = \",lst1)\n",
    "    print(\"List2 = \",lst2)\n",
    "    \n",
    "    for i in lst1:\n",
    "        if i in lst2:\n",
    "            print(\"Common element in both lists = \",i)\n",
    "            break\n",
    "    else:\n",
    "        print(\"There is no common element in both lists..\")\n",
    "        \n",
    "if __name__ == '__main__':\n",
    "    main()          "
   ]
  },
  {
   "cell_type": "code",
   "execution_count": 68,
   "id": "9463f5fb-f6ed-42f0-8d34-fbd40beb022f",
   "metadata": {},
   "outputs": [
    {
     "name": "stdout",
     "output_type": "stream",
     "text": [
      "List =  [4, 5, 6, 8, 10, 22, 1, 2, 3]\n",
      "Cleared list: []\n"
     ]
    }
   ],
   "source": [
    "#List Based Practice Problem :\n",
    "#41. Remove all elements from a list.\n",
    "\n",
    "def main():\n",
    "    lst1 = [4, 5, 6, 8, 10, 22, 1, 2, 3]\n",
    "    print(\"List = \",lst1)\n",
    "    lst1.clear()\n",
    "    print(\"Cleared list:\",lst1)\n",
    "if __name__ == '__main__':\n",
    "    main()  \n",
    "    "
   ]
  },
  {
   "cell_type": "code",
   "execution_count": 70,
   "id": "daa1d898-a064-49e3-9b1d-f21dd4f038b6",
   "metadata": {},
   "outputs": [
    {
     "name": "stdout",
     "output_type": "stream",
     "text": [
      "Original List =  [4, 5, -6, 8, -10, 22, 1, -2, 3]\n",
      "New list :  [4, 5, 0, 8, 0, 22, 1, 0, 3]\n"
     ]
    }
   ],
   "source": [
    "#List Based Practice Problem :\n",
    "#42. Replace negative numbers in a list with 0.\n",
    "\n",
    "def main():\n",
    "    lst = [4, 5, -6, 8, -10, 22, 1, -2, 3]\n",
    "    print(\"Original List = \",lst)\n",
    "    for i in range(0,len(lst)):\n",
    "        if lst[i] <0 :\n",
    "            lst[i] = 0\n",
    "    print(\"New list : \",lst)    \n",
    "\n",
    "if __name__ == '__main__':\n",
    "    main() \n",
    "    "
   ]
  },
  {
   "cell_type": "code",
   "execution_count": 71,
   "id": "527dc483-db7b-4291-a4de-a4167daf952e",
   "metadata": {},
   "outputs": [
    {
     "name": "stdin",
     "output_type": "stream",
     "text": [
      "Enter the string :  Pwskills is the best platform to learn Data Science\n"
     ]
    },
    {
     "name": "stdout",
     "output_type": "stream",
     "text": [
      "List :  ['Pwskills', 'is', 'the', 'best', 'platform', 'to', 'learn', 'Data', 'Science']\n"
     ]
    }
   ],
   "source": [
    "#List Based Practice Problem :\n",
    "#43. Convert a string into a list of words.\n",
    "\n",
    "def main():\n",
    "    string  = input(\"Enter the string : \")\n",
    "    lst = string.split()\n",
    "    print(\"List : \",lst)\n",
    "\n",
    "if __name__ == '__main__':\n",
    "    main() \n",
    "        "
   ]
  },
  {
   "cell_type": "code",
   "execution_count": 72,
   "id": "4975abe8-7371-4014-82f1-e43d73068c66",
   "metadata": {},
   "outputs": [
    {
     "name": "stdout",
     "output_type": "stream",
     "text": [
      "List :  ['Pwskills', 'is', 'the', 'best', 'platform', 'to', 'learn', 'Data', 'Science']\n",
      "string :  Pwskills is the best platform to learn Data Science\n"
     ]
    }
   ],
   "source": [
    "#List Based Practice Problem :\n",
    "#44. Convert a list of words into a string.\n",
    "\n",
    "def main():\n",
    "    lst  = ['Pwskills', 'is', 'the', 'best', 'platform', 'to', 'learn', 'Data', 'Science']\n",
    "    string = \" \".join(lst)\n",
    "    print(\"List : \",lst)\n",
    "    print(\"string : \",string)\n",
    "\n",
    "if __name__ == '__main__':\n",
    "    main() "
   ]
  },
  {
   "cell_type": "code",
   "execution_count": 78,
   "id": "e273f78b-a09a-41e4-85e6-2737d247a5f1",
   "metadata": {},
   "outputs": [
    {
     "name": "stdin",
     "output_type": "stream",
     "text": [
      "Enter the number :  5\n"
     ]
    },
    {
     "name": "stdout",
     "output_type": "stream",
     "text": [
      "[1, 2, 4, 8, 16]\n"
     ]
    }
   ],
   "source": [
    "#List Based Practice Problem :\n",
    "#45. Create a list of the first `n` powers of 2.\n",
    "\n",
    "def powers_of_2(n):\n",
    "    powers = [2 ** i for i in range(n)]\n",
    "    return powers\n",
    "\n",
    "def main():\n",
    "    \n",
    "    n = int(input(\"Enter the number : \"))\n",
    "    result = powers_of_2(n)\n",
    "    print(result)\n",
    "\n",
    "if __name__ == '__main__':\n",
    "    main() "
   ]
  },
  {
   "cell_type": "code",
   "execution_count": 77,
   "id": "8d5fa2a2-340e-4818-aa82-d2a735828f36",
   "metadata": {},
   "outputs": [
    {
     "name": "stdin",
     "output_type": "stream",
     "text": [
      "Enter, of how many first element you want to create a list :  5\n"
     ]
    },
    {
     "name": "stdout",
     "output_type": "stream",
     "text": [
      "[16, 32, 64, 256, 1024]\n"
     ]
    }
   ],
   "source": [
    "#List Based Practice Problem :\n",
    "#45. Create a list of the first `n` powers of 2.\n",
    "\n",
    "def main():\n",
    "    List =  [4, 5, 6, 8, 10, 22, 1, 2, 3]\n",
    "    lst = []\n",
    "    num = int(input(\"Enter, of how many first element you want to create a list : \"))\n",
    "    \n",
    "    if num<=len(List):\n",
    "        for i in range(0,num):                        # Here first n element will be the power of  2 . \n",
    "            lst.append(2**List[i])\n",
    "    else:\n",
    "        print(\"Out of range\")\n",
    "    print(lst)   \n",
    "if __name__ == '__main__':\n",
    "    main()    "
   ]
  },
  {
   "cell_type": "code",
   "execution_count": 5,
   "id": "3bd50f26-f0ee-4910-9de4-4355e7f82b7b",
   "metadata": {},
   "outputs": [
    {
     "name": "stdout",
     "output_type": "stream",
     "text": [
      "Longest string : Full Stack Data_Science is best course in pwskills\n",
      "length = 50\n"
     ]
    }
   ],
   "source": [
    "#List Based Practice Problem :\n",
    "#46. Find the longest string in a list of strings.\n",
    "\n",
    "\n",
    "def main():\n",
    "    lst = [\"longest string\",\"element\",\"Practice\",\"Pwskills classes are best\",\"Full Stack Data_Science is best course in pwskills\",\"pw-labs\"]\n",
    "    maxlen = 0\n",
    "    mxlenstring = ''\n",
    "    for i in lst:\n",
    "        if len(i)>maxlen:\n",
    "            maxlen = len(i)\n",
    "            mxlenstring = i\n",
    "            \n",
    "            \n",
    "    print(f\"Longest string : {mxlenstring}\\nlength = {maxlen}\")\n",
    "    \n",
    "if __name__ == '__main__':\n",
    "    main()     "
   ]
  },
  {
   "cell_type": "code",
   "execution_count": 6,
   "id": "f38d681c-4952-4831-9d95-9cf0f7fa5a14",
   "metadata": {},
   "outputs": [
    {
     "name": "stdout",
     "output_type": "stream",
     "text": [
      "Shortest string : element\n",
      "length = 7\n"
     ]
    }
   ],
   "source": [
    "#List Based Practice Problem :\n",
    "#47. Find the shortest string in a list of strings.\n",
    "\n",
    "\n",
    "def main():\n",
    "    lst = [\"longest string\",\"element\",\"Practice\",\"Pwskills classes are best\",\"Full Stack Data_Science is best course in pwskills\",\"pw-labs\"]\n",
    "    minlen = len(lst[0])\n",
    "    mnlenstring = ''\n",
    "    for i in lst:\n",
    "        if len(i) < minlen:\n",
    "            minlen = len(i)\n",
    "            mnlenstring = i\n",
    "            \n",
    "            \n",
    "    print(f\"Shortest string : {mnlenstring}\\nlength = {minlen}\")\n",
    "    \n",
    "if __name__ == '__main__':\n",
    "    main()     "
   ]
  },
  {
   "cell_type": "code",
   "execution_count": 3,
   "id": "704040ee-0175-4955-9fec-d18af1b43818",
   "metadata": {},
   "outputs": [
    {
     "name": "stdout",
     "output_type": "stream",
     "text": [
      "The first 5 triangular numbers are: [1, 3, 6, 10, 15]\n"
     ]
    }
   ],
   "source": [
    "#List Based Practice Problem :\n",
    "#48. Create a list of the first `n` triangular numbers.\n",
    "\n",
    "def generate_triangular_numbers(n):\n",
    "    triangular_numbers = []\n",
    "    temp = 0\n",
    "    for i in range(1, n + 1):\n",
    "        triangular_numbers.append(temp+i)\n",
    "        temp = triangular_numbers[-1]\n",
    "    return triangular_numbers\n",
    "\n",
    "def main():\n",
    "    \n",
    "    n = 5\n",
    "    triangular_numbers = generate_triangular_numbers(n)\n",
    "    print(f\"The first {n} triangular numbers are: {triangular_numbers}\")\n",
    "    \n",
    "if __name__ == '__main__':\n",
    "    main()  "
   ]
  },
  {
   "cell_type": "code",
   "execution_count": 1,
   "id": "0b75eff5-7bf1-4b0b-ae06-4a7ea3b7350d",
   "metadata": {},
   "outputs": [
    {
     "name": "stdout",
     "output_type": "stream",
     "text": [
      "Main list contains the subsequence.\n"
     ]
    }
   ],
   "source": [
    "#List Based Practice Problem :\n",
    "#49. Check if a list contains another list as a subsequence.\n",
    "\n",
    "def is_subsequence(subsequence, main_list):\n",
    "    subseq_index = 0  \n",
    "    for element in main_list:\n",
    "        if element == subsequence[subseq_index]:\n",
    "            subseq_index += 1\n",
    "            if subseq_index == len(subsequence):\n",
    "                return True\n",
    "    return False\n",
    "\n",
    "def main():\n",
    "    main_list = [1, 2, 3, 4, 5, 6, 7, 8, 9, 10]\n",
    "    subsequence = [3, 5, 8]\n",
    "\n",
    "\n",
    "    if is_subsequence(subsequence, main_list):\n",
    "        print(\"Main list contains the subsequence.\")\n",
    "    else:\n",
    "        print(\"Main list does not contain the subsequence.\")\n",
    "        \n",
    "if __name__ == '__main__':\n",
    "    main()         "
   ]
  },
  {
   "cell_type": "code",
   "execution_count": 1,
   "id": "f92ede66-faf9-4d1b-87db-faf12645527c",
   "metadata": {},
   "outputs": [
    {
     "name": "stdout",
     "output_type": "stream",
     "text": [
      "List after swapping elements: [1, 4, 3, 2, 5]\n"
     ]
    }
   ],
   "source": [
    "#List Based Practice Problem :\n",
    "#50. Swap two elements in a list by their indices.\n",
    "\n",
    "def main():\n",
    "    \n",
    "    my_list = [1, 2, 3, 4, 5]\n",
    "\n",
    "    index1 = 1\n",
    "    index2 = 3\n",
    "\n",
    "    temp = my_list[index1]  \n",
    "    my_list[index1] = my_list[index2] \n",
    "    my_list[index2] = temp\n",
    "    print(\"List after swapping elements:\", my_list)\n",
    "    \n",
    "if __name__ == '__main__':\n",
    "    main()       "
   ]
  },
  {
   "cell_type": "code",
   "execution_count": 4,
   "id": "175f20a0-0a0c-4859-bd5c-21e3a8369164",
   "metadata": {},
   "outputs": [
    {
     "name": "stdout",
     "output_type": "stream",
     "text": [
      "(1, 2, 3, 4, 5)\n"
     ]
    }
   ],
   "source": [
    "#Tuple Based Practice Problem :\n",
    "#1. Create a tuple with integers from 1 to 5\n",
    "\n",
    "def main():\n",
    "    lst = []\n",
    "    \n",
    "    for i in range(1,6):\n",
    "        lst.append(i)\n",
    "        \n",
    "    tup1 = tuple(lst)    \n",
    "    print(tup1)    \n",
    "\n",
    "if __name__ == '__main__':\n",
    "    main()        "
   ]
  },
  {
   "cell_type": "code",
   "execution_count": 5,
   "id": "91becf30-69a3-41f8-9b82-b762a8129b10",
   "metadata": {},
   "outputs": [
    {
     "name": "stdout",
     "output_type": "stream",
     "text": [
      "3\n"
     ]
    }
   ],
   "source": [
    "#Tuple Based Practice Problem :\n",
    "#2. Access the third element of a tuple.\n",
    "\n",
    "def main():\n",
    "    tup1 = (1, 2, 3, 4, 5)\n",
    "    print(tup1[2])\n",
    "    \n",
    "if __name__ == '__main__':\n",
    "    main()      "
   ]
  },
  {
   "cell_type": "code",
   "execution_count": 6,
   "id": "d0b3be4d-30a4-429d-978b-3f97b8c07abb",
   "metadata": {},
   "outputs": [
    {
     "name": "stdout",
     "output_type": "stream",
     "text": [
      "Length =  5\n"
     ]
    }
   ],
   "source": [
    "#Tuple Based Practice Problem :\n",
    "#3. Find the length of a tuple without using the `len()` function.\n",
    "\n",
    "def main():\n",
    "    tup1 = (1, 2, 3, 4, 5)\n",
    "    count = 0\n",
    "    for ele in tup1:\n",
    "        count+=1\n",
    "        \n",
    "    print(\"Length = \",count)    \n",
    "    \n",
    "if __name__ == '__main__':\n",
    "    main()          "
   ]
  },
  {
   "cell_type": "code",
   "execution_count": 2,
   "id": "6ba1c4ec-c4b5-4301-9858-46caeb6660a0",
   "metadata": {},
   "outputs": [
    {
     "name": "stdout",
     "output_type": "stream",
     "text": [
      "Occurance of 3 in tuple = 4\n"
     ]
    }
   ],
   "source": [
    "#Tuple Based Practice Problem :\n",
    "#4. Count the occurrences of an element in a tuple.\n",
    "\n",
    "def main():\n",
    "    tup1 = (1, 2, 3, 4, 5,3,78,3,8,9,3)\n",
    "    occurance = tup1.count(3)\n",
    "    print(\"Occurance of 3 in tuple =\",occurance)\n",
    "    \n",
    "if __name__ == '__main__':\n",
    "    main()       "
   ]
  },
  {
   "cell_type": "code",
   "execution_count": null,
   "id": "7f9afe62-94c9-4799-8b66-e3affff68234",
   "metadata": {},
   "outputs": [],
   "source": [
    "#Tuple Based Practice Problem :\n",
    "#5. Find the index of the first occurrence of an element in a tuple.\n",
    "\n",
    "def main():\n",
    "    tup1 = (1, 2, 3, 4, 5,3,78,3,8,9,3)\n",
    "    index = tup1.index(3)\n",
    "    print(\"First Index of value 3 = \",index)\n",
    "    \n",
    "    \n",
    "if __name__ == '__main__':\n",
    "    main()       \n",
    "    \n",
    "    "
   ]
  },
  {
   "cell_type": "code",
   "execution_count": 3,
   "id": "91fc7d57-2d3e-4eb3-bdeb-2c3e2ba626dc",
   "metadata": {},
   "outputs": [
    {
     "name": "stdin",
     "output_type": "stream",
     "text": [
      "Enter the element from list :  5\n"
     ]
    },
    {
     "name": "stdout",
     "output_type": "stream",
     "text": [
      "Yes,5 exist in tuple\n"
     ]
    }
   ],
   "source": [
    "#Tuple Based Practice Problem :\n",
    "#6. Check if an element exists in a tuple.\n",
    "\n",
    "def main():\n",
    "    tup1 = (1,2,3,4,5,3,78,3,8,9,3)\n",
    "    element = int(input(\"Enter the element from list : \"))\n",
    "    if element in tup1:\n",
    "        print(f\"Yes,{element} exist in tuple\")\n",
    "        \n",
    "    else:\n",
    "        print(f\"No,{element} doesnt exist in tuple\")\n",
    "        \n",
    "if __name__ == '__main__':\n",
    "    main()       \n",
    "          \n",
    "        \n",
    "        "
   ]
  },
  {
   "cell_type": "code",
   "execution_count": 3,
   "id": "ff968bf8-2b29-4f5a-9f4a-fc486dbe2cff",
   "metadata": {},
   "outputs": [
    {
     "name": "stdout",
     "output_type": "stream",
     "text": [
      "List of Tuple : [1, 2, 3, 4, 5, 3, 78, 3, 8, 9, 3]\n"
     ]
    }
   ],
   "source": [
    "#Tuple Based Practice Problem :\n",
    "#7. Convert a tuple to a list.\n",
    "\n",
    "def main():\n",
    "    tup1 = (1, 2, 3, 4, 5,3,78,3,8,9,3)\n",
    "    lst = list(tup1)\n",
    "    print(\"List of Tuple :\",lst)\n",
    "    \n",
    "    \n",
    "if __name__ == '__main__':\n",
    "    main()           "
   ]
  },
  {
   "cell_type": "code",
   "execution_count": 2,
   "id": "9949c8bd-7ae3-4c21-89ec-64b3291d9439",
   "metadata": {},
   "outputs": [
    {
     "name": "stdout",
     "output_type": "stream",
     "text": [
      "Tuple of List  : (1, 2, 3, 4, 5, 3, 78, 3, 8, 9, 3)\n"
     ]
    }
   ],
   "source": [
    "#Tuple Based Practice Problem :\n",
    "#8. Convert a list to a tuple.\n",
    "\n",
    "def main():\n",
    "    lst = (1, 2, 3, 4, 5,3,78,3,8,9,3)\n",
    "    tup1 = tuple(lst)\n",
    "    print(\"Tuple of List  :\",tup1)\n",
    "    \n",
    "    \n",
    "if __name__ == '__main__':\n",
    "    main()         "
   ]
  },
  {
   "cell_type": "code",
   "execution_count": 1,
   "id": "8d035fc5-1984-427d-bfec-e8b738cf02ec",
   "metadata": {},
   "outputs": [
    {
     "name": "stdout",
     "output_type": "stream",
     "text": [
      "a = 12\n",
      "b = 45\n",
      "c = 78\n",
      "d = 3\n"
     ]
    }
   ],
   "source": [
    "#Tuple Based Practice Problem :\n",
    "#9. Unpack the elements of a tuple into variables.\n",
    "\n",
    "def main():\n",
    "    tup1 = (12,45,78,3)\n",
    "    a,b,c,d = tup1\n",
    "    print(f\"a = {a}\\nb = {b}\\nc = {c}\\nd = {d}\")\n",
    "    \n",
    "if __name__ == '__main__':\n",
    "    main()             "
   ]
  },
  {
   "cell_type": "code",
   "execution_count": 7,
   "id": "3587042c-b91a-4685-979e-0bacd8b6f58e",
   "metadata": {},
   "outputs": [
    {
     "name": "stdout",
     "output_type": "stream",
     "text": [
      "(2, 4, 6, 8, 10)\n"
     ]
    }
   ],
   "source": [
    "#Tuple Based Practice Problem :\n",
    "#10. Create a tuple of even numbers from 1 to 10.\n",
    "\n",
    "def main():\n",
    "    tup1 = tuple(x for x in range(1,11) if x%2==0)\n",
    "    print(tup1)\n",
    "    \n",
    "if __name__ == '__main__':\n",
    "    main()     "
   ]
  },
  {
   "cell_type": "code",
   "execution_count": 8,
   "id": "351f85d4-d8c1-40a3-96ab-faea313bf041",
   "metadata": {},
   "outputs": [
    {
     "name": "stdout",
     "output_type": "stream",
     "text": [
      "(1, 3, 5, 7, 9)\n"
     ]
    }
   ],
   "source": [
    "#Tuple Based Practice Problem :\n",
    "#11. Create a tuple of odd numbers from 1 to 10.\n",
    "\n",
    "def main():\n",
    "    tup1 = tuple(x for x in range(1,11) if x%2!=0)\n",
    "    print(tup1)\n",
    "    \n",
    "if __name__ == '__main__':\n",
    "    main()     "
   ]
  },
  {
   "cell_type": "code",
   "execution_count": 9,
   "id": "d5747066-9ee3-49d1-a633-d1f073672f28",
   "metadata": {},
   "outputs": [
    {
     "name": "stdout",
     "output_type": "stream",
     "text": [
      "(2, 4, 6, 8, 10, 1, 3, 5, 7, 9)\n"
     ]
    }
   ],
   "source": [
    "#Tuple Based Practice Problem :\n",
    "#12. Concatenate two tuples.\n",
    "\n",
    "def main():\n",
    "    tup1 = (2, 4, 6, 8, 10)\n",
    "    tup2 = (1, 3, 5, 7, 9)\n",
    "    tup3 = tup1+tup2\n",
    "    \n",
    "    print(tup3)\n",
    "    \n",
    "if __name__ == '__main__':\n",
    "    main()      "
   ]
  },
  {
   "cell_type": "code",
   "execution_count": 12,
   "id": "56c88a74-7ab5-4375-bf7a-fd382349e831",
   "metadata": {},
   "outputs": [
    {
     "name": "stdout",
     "output_type": "stream",
     "text": [
      "(2, 4, 6, 8, 10, 2, 4, 6, 8, 10, 2, 4, 6, 8, 10)\n"
     ]
    }
   ],
   "source": [
    "#Tuple Based Practice Problem :\n",
    "#13. Repeat a tuple three times.\n",
    "\n",
    "def main():\n",
    "    tup1 = (2, 4, 6, 8, 10)\n",
    "    tup2 = tup1*3\n",
    "    \n",
    "    print(tup2)\n",
    "    \n",
    "if __name__ == '__main__':\n",
    "    main()      "
   ]
  },
  {
   "cell_type": "code",
   "execution_count": 13,
   "id": "caa6b6b4-c779-409c-bb4d-06733c071836",
   "metadata": {},
   "outputs": [
    {
     "name": "stdout",
     "output_type": "stream",
     "text": [
      "(2, 4, 6, 8, 10) is non empty\n",
      "() is empty\n"
     ]
    }
   ],
   "source": [
    "#Tuple Based Practice Problem :\n",
    "#14. Check if a tuple is empty\n",
    "\n",
    "def main():\n",
    "    tup1 = (2, 4, 6, 8, 10)\n",
    "    tup2 = ()\n",
    "    lst = [tup1,tup2]\n",
    "    \n",
    "    for tup in lst:\n",
    "        if tup:\n",
    "            print(f\"{tup} is non empty\")\n",
    "            \n",
    "        else:\n",
    "            print(f\"{tup} is empty\")\n",
    "            \n",
    "if __name__ == '__main__':\n",
    "    main()        "
   ]
  },
  {
   "cell_type": "code",
   "execution_count": 14,
   "id": "a2b85e99-071f-4ac6-8e8b-41c0d768eb93",
   "metadata": {},
   "outputs": [
    {
     "name": "stdout",
     "output_type": "stream",
     "text": [
      "Nested Tuple =  (2, 4, (6, 8), (10, 45, 34, (3, 67, 80), 78))\n"
     ]
    }
   ],
   "source": [
    "#Tuple Based Practice Problem :\n",
    "#15. Create a nested tuple.\n",
    "\n",
    "def main():\n",
    "    tup1 = (2, 4, (6, 8),( 10,45,34,(3,67,80),78))\n",
    "    print(\"Nested Tuple = \",tup1)\n",
    "    \n",
    "if __name__ == '__main__':\n",
    "    main()            "
   ]
  },
  {
   "cell_type": "code",
   "execution_count": 3,
   "id": "d23d6a6e-7371-42f3-8a9a-f689068347b8",
   "metadata": {},
   "outputs": [
    {
     "name": "stdout",
     "output_type": "stream",
     "text": [
      "pwskills\n"
     ]
    }
   ],
   "source": [
    "#Tuple Based Practice Problem :\n",
    "#16. Access the first element of a nested tuple.\n",
    "\n",
    "def main():\n",
    "    tup1 = (3,5,(\"skills\",\"pwskills\"),(2, 4, 6, 8),( 10,45,34,(3,67,80),78))\n",
    "    print(tup1[2][1])    \n",
    "    \n",
    "if __name__ == '__main__':\n",
    "    main()     \n",
    "    "
   ]
  },
  {
   "cell_type": "code",
   "execution_count": 2,
   "id": "5c708903-10e5-41fd-a07e-4a7500bf263a",
   "metadata": {},
   "outputs": [
    {
     "name": "stdout",
     "output_type": "stream",
     "text": [
      "Tuple of single element : (12,)\n"
     ]
    }
   ],
   "source": [
    "#Tuple Based Practice Problem :\n",
    "#17. Create a tuple with a single element.\n",
    "\n",
    "def main():\n",
    "    tup = (12,)\n",
    "    print(f\"Tuple of single element : {tup}\")\n",
    "    \n",
    "if __name__ == '__main__':\n",
    "    main()     \n",
    "        "
   ]
  },
  {
   "cell_type": "code",
   "execution_count": 2,
   "id": "90713931-05c1-4738-ad8b-ff648f735c2f",
   "metadata": {},
   "outputs": [
    {
     "name": "stdout",
     "output_type": "stream",
     "text": [
      "Tup1 matches tup3 but not with tup2\n"
     ]
    }
   ],
   "source": [
    "#Tuple Based Practice Problem :\n",
    "#18. Compare two tuples.\n",
    "\n",
    "def main():\n",
    "    tup1 = (2, 4, 6, 8, 10)\n",
    "    tup2 = (1, 3, 5, 7, 9)\n",
    "    tup3 = (2, 4, 6, 8, 10)\n",
    "    \n",
    "    if tup2 == tup1 :\n",
    "        if tup2 == tup3:\n",
    "            print(\"tup2 matches tup1 and tup3\")\n",
    "        else:\n",
    "            print(\"tup2 matches tup1 but not tup3\")\n",
    "    elif tup1 == tup3:\n",
    "        if tup1 == tup2:\n",
    "            print(\"tup1 matches both tup2 and tup3\")\n",
    "        else:\n",
    "            print(\"Tup1 matches tup3 but not with tup2\")\n",
    "    else:\n",
    "        print(\"All three tuples are different\")\n",
    "\n",
    "if __name__ == '__main__':\n",
    "    main() \n",
    "    "
   ]
  },
  {
   "cell_type": "code",
   "execution_count": null,
   "id": "133b2e1e-8f28-4582-8f02-1ad008419cf8",
   "metadata": {},
   "outputs": [],
   "source": [
    "#Tuple Based Practice Problem :\n",
    "#19. Delete a tuple.\n",
    "\n",
    "def main():\n",
    "    tup1 = (2, 4, 6, 8, 10)\n",
    "    delete_element = 6\n",
    "    mtup = tuple(x for x in tup1 if x != delete_element)\n",
    "    print(mtup)\n",
    "    \n",
    "if __name__ == '__main__':\n",
    "    main()    "
   ]
  },
  {
   "cell_type": "code",
   "execution_count": 6,
   "id": "1bf716aa-7513-49e5-a595-fb183dc0dd70",
   "metadata": {},
   "outputs": [
    {
     "name": "stdout",
     "output_type": "stream",
     "text": [
      "(4, 6, 8)\n",
      "(2, 4, 6, 8, 10)\n"
     ]
    }
   ],
   "source": [
    "#Tuple Based Practice Problem :\n",
    "#20. Slice a tuple\n",
    "\n",
    "def main():\n",
    "    tup1 = (2, 4, 6, 8, 10)\n",
    "    print(tup1[1:4])\n",
    "    print(tup1)\n",
    "    \n",
    "if __name__ == '__main__':\n",
    "    main()        "
   ]
  },
  {
   "cell_type": "code",
   "execution_count": 1,
   "id": "98327e34-aecf-447c-adf2-dbb33cdf902a",
   "metadata": {},
   "outputs": [
    {
     "name": "stdout",
     "output_type": "stream",
     "text": [
      "10\n"
     ]
    }
   ],
   "source": [
    "#Tuple Based Practice Problem :\n",
    "#21. Find the maximum value in a tuple.\n",
    "\n",
    "def main():\n",
    "    tup1 = (2, 4, 6, 8, 10)\n",
    "    print(max(tup1))\n",
    "    \n",
    "if __name__ == '__main__':\n",
    "    main()   \n",
    "    "
   ]
  },
  {
   "cell_type": "code",
   "execution_count": 9,
   "id": "18a6023e-6413-464d-9fbc-2bca608a722f",
   "metadata": {},
   "outputs": [
    {
     "name": "stdout",
     "output_type": "stream",
     "text": [
      "2\n"
     ]
    }
   ],
   "source": [
    "#Tuple Based Practice Problem :\n",
    "#22. Find the minimum value in a tuple\n",
    "\n",
    "def main():\n",
    "    tup1 = (2, 4, 6, 8, 10)\n",
    "    print(min(tup1))\n",
    "    \n",
    "if __name__ == '__main__':\n",
    "    main()   \n",
    "    "
   ]
  },
  {
   "cell_type": "code",
   "execution_count": 10,
   "id": "aef11134-0188-43aa-81b6-2eb3484cdb52",
   "metadata": {},
   "outputs": [
    {
     "name": "stdout",
     "output_type": "stream",
     "text": [
      "('p', 'w', 's', 'k', 'i', 'l', 'l', 's', 'i', 's', 'b', 'e', 's', 't', 'p', 'l', 'a', 't', 'f', 'o', 'r', 'm', 't', 'o', 'l', 'e', 'a', 'r', 'n', 'd', 'a', 't', 'a', '-', 's', 'c', 'i', 'e', 'n', 'c', 'e')\n"
     ]
    }
   ],
   "source": [
    "#Tuple Based Practice Problem :\n",
    "#23. Convert a string to a tuple of characters.\n",
    "\n",
    "def main():\n",
    "    string = \"pwskills is best platform to learn data-science\"\n",
    "    tup = tuple(x for x in string if x != \" \")\n",
    "    print(tup)\n",
    "    \n",
    "if __name__ == '__main__':\n",
    "    main()   \n",
    "      "
   ]
  },
  {
   "cell_type": "code",
   "execution_count": 5,
   "id": "047e6b36-8ab9-4332-8cc1-4acf56d5c0d6",
   "metadata": {},
   "outputs": [
    {
     "name": "stdout",
     "output_type": "stream",
     "text": [
      "pwskills is best platform to learn data-science\n"
     ]
    }
   ],
   "source": [
    "#Tuple Based Practice Problem :\n",
    "#24. Convert a tuple of characters to a string.\n",
    "\n",
    "def main():\n",
    "    tup = ('p', 'w', 's', 'k', 'i', 'l', 'l', 's',',', 'i', 's',',', 'b', 'e', 's', 't',',', 'p', 'l', 'a', 't', 'f', 'o', 'r', 'm',',', 't', 'o',',', 'l', 'e', 'a', 'r', 'n',',', 'd', 'a', 't', 'a', '-', 's', 'c', 'i', 'e', 'n', 'c', 'e')\n",
    "    string =\"\"\n",
    "    for char in tup:\n",
    "        if char != \",\":\n",
    "            string = string+char\n",
    "        else:\n",
    "            string = string+\" \"\n",
    "    print(string)\n",
    "    \n",
    "if __name__ == '__main__':\n",
    "    main()   \n",
    "      \n",
    "    \n",
    "    \n",
    "    "
   ]
  },
  {
   "cell_type": "code",
   "execution_count": 6,
   "id": "dadd9d09-12c7-4a11-b571-b95266d3a4ce",
   "metadata": {},
   "outputs": [
    {
     "name": "stdout",
     "output_type": "stream",
     "text": [
      "(1, 'Hello', 3.14, True, [1, 2, 3])\n"
     ]
    }
   ],
   "source": [
    "#Tuple Based Practice Problem :\n",
    "#25. Create a tuple from multiple data types.\n",
    "\n",
    "def main():\n",
    "    mixed_tuple = (1, 'Hello', 3.14, True, [1, 2, 3])\n",
    "    print(mixed_tuple)\n",
    "\n",
    "if __name__ == '__main__':\n",
    "    main()   \n",
    "      "
   ]
  },
  {
   "cell_type": "code",
   "execution_count": 6,
   "id": "645e86f8-116f-4546-8dae-dd68b7e449e3",
   "metadata": {},
   "outputs": [
    {
     "name": "stdout",
     "output_type": "stream",
     "text": [
      "Comparision between tup1 and tup2\n",
      "tup1 and tup2 are Identicle\n",
      "\n",
      "Comparision between tup1 and tup3\n",
      "tup1 and tup3 are not Identicle\n"
     ]
    }
   ],
   "source": [
    "#Tuple Based Practice Problem :\n",
    "#26. Check if two tuples are identical.\n",
    "\n",
    "def main():\n",
    "    tup1 = (2, 4, 6, 8, 10)\n",
    "    tup2 = (2, 4, 6, 8, 10)\n",
    "    tup3 = ( 6, 8, 12, 4, 6)\n",
    "    \n",
    "    print(\"Comparision between tup1 and tup2\")\n",
    "    \n",
    "    if tup1 == tup2:\n",
    "        print(\"tup1 and tup2 are Identicle\\n\")\n",
    "    else:\n",
    "        print(\"tup1 and tup2 are not Identicle\\n\")\n",
    "        \n",
    "    \n",
    "    print(\"Comparision between tup1 and tup3\")\n",
    "    \n",
    "    if tup1 == tup3:\n",
    "        print(\"tup1 and tup3 are Identicle\")\n",
    "    else:\n",
    "        print(\"tup1 and tup3 are not Identicle\")\n",
    "        \n",
    "        \n",
    "if __name__ == '__main__':\n",
    "    main()   \n",
    "              "
   ]
  },
  {
   "cell_type": "code",
   "execution_count": 1,
   "id": "266204cc-bb6c-4a63-8b61-0a477f84d847",
   "metadata": {},
   "outputs": [
    {
     "name": "stdout",
     "output_type": "stream",
     "text": [
      "(4, 6, 6, 8, 12)\n"
     ]
    }
   ],
   "source": [
    "#Tuple Based Practice Problem :\n",
    "#27. Sort the elements of a tuple.\n",
    "\n",
    "def main():\n",
    "    tup3 = ( 6, 8, 12, 4, 6)\n",
    "    lst = list(tup3)\n",
    "    lst.sort()\n",
    "    \n",
    "    print(tuple(lst))\n",
    "    \n",
    "if __name__ == '__main__':\n",
    "    main()     "
   ]
  },
  {
   "cell_type": "code",
   "execution_count": 3,
   "id": "6755ca8a-0515-4e0a-a63d-409d51dcd65d",
   "metadata": {},
   "outputs": [
    {
     "name": "stdout",
     "output_type": "stream",
     "text": [
      "('2', '4', '6', '8', '10')\n"
     ]
    }
   ],
   "source": [
    "#Tuple Based Practice Problem :\n",
    "#28. Convert a tuple of integers to a tuple of strings.\n",
    "\n",
    "def main():\n",
    "    inttup = (2, 4, 6, 8, 10)\n",
    "    tup1 = tuple(str(x) for x in inttup)\n",
    "    print(tup1)\n",
    "    \n",
    "if __name__ == '__main__':\n",
    "    main()       "
   ]
  },
  {
   "cell_type": "code",
   "execution_count": 5,
   "id": "dde354dd-c60f-44ec-8fcd-ee52a753927a",
   "metadata": {},
   "outputs": [
    {
     "name": "stdout",
     "output_type": "stream",
     "text": [
      "(2, 4, 6, 8, 10)\n"
     ]
    }
   ],
   "source": [
    "#Tuple Based Practice Problem :\n",
    "#29. Convert a tuple of strings to a tuple of integers.\n",
    "\n",
    "def main():\n",
    "    strtup = ('2', '4', '6', '8', '10')\n",
    "    tup1 = tuple(int(x) for x in strtup)\n",
    "    print(tup1)\n",
    "    \n",
    "if __name__ == '__main__':\n",
    "    main()       "
   ]
  },
  {
   "cell_type": "code",
   "execution_count": 6,
   "id": "f91793eb-3f55-4c8c-a4f1-64aece5e65a3",
   "metadata": {},
   "outputs": [
    {
     "name": "stdout",
     "output_type": "stream",
     "text": [
      "(6, 8, 12, 4, 6, '2', '4', '6', '8', '10')\n"
     ]
    }
   ],
   "source": [
    "#Tuple Based Practice Problem :\n",
    "#30. Merge two tuples.\n",
    "\n",
    "def main():\n",
    "    tup3 = ( 6, 8, 12, 4, 6)\n",
    "    strtup = ('2', '4', '6', '8', '10')\n",
    "    mergetup = tup3 + strtup\n",
    "    print(mergetup)\n",
    "    \n",
    "if __name__ == \"__main__\":\n",
    "    main()"
   ]
  },
  {
   "cell_type": "code",
   "execution_count": 14,
   "id": "c2806ae6-3029-44c1-b446-cc7ac17f6978",
   "metadata": {},
   "outputs": [
    {
     "name": "stdout",
     "output_type": "stream",
     "text": [
      "(6, 8, 12, 4, 6, '2', 34, 67, 'pwskills', 'learn', '4', '6', '8', '10', 11, 5.9)\n"
     ]
    }
   ],
   "source": [
    "#Tuple Based Practice Problem :\n",
    "#31. Flatten a nested tuple.\n",
    "\n",
    "def flatten(flatten_tuple):\n",
    "    lst = []\n",
    "    for ele in flatten_tuple:\n",
    "        if isinstance(ele,tuple):\n",
    "            lst.extend(flatten(ele))\n",
    "        else:\n",
    "            lst.append(ele)\n",
    "    return tuple(lst)\n",
    "\n",
    "def main():\n",
    "    flatten_tuple = (6, 8,( 12, (4, 6, '2',(34,67,\"pwskills\",\"learn\"), '4'), '6'), '8',( '10',11,5.9))\n",
    "    print(flatten(flatten_tuple))   \n",
    "    \n",
    "if __name__ == \"__main__\":\n",
    "    main()    "
   ]
  },
  {
   "cell_type": "code",
   "execution_count": 4,
   "id": "c480dd11-ea52-45ec-946c-9f24b71203d9",
   "metadata": {},
   "outputs": [
    {
     "name": "stdout",
     "output_type": "stream",
     "text": [
      "(2, 3, 5, 7, 11, 13, 17, 19, 23, 29, 31, 37, 41, 43, 47, 53, 59, 61, 67, 71, 73, 79, 83, 89, 97)\n"
     ]
    }
   ],
   "source": [
    "#Tuple Based Practice Problem :\n",
    "#32. Create a tuple of the first 5 prime numbers.\n",
    "\n",
    "def check_prime(num):\n",
    "    if num<=1:\n",
    "        return False\n",
    "    else:\n",
    "        if num == 2:\n",
    "            return True\n",
    "        else:\n",
    "            for i in range(2,num):\n",
    "                if num%i==0:\n",
    "                    return False\n",
    "            else:\n",
    "                return True\n",
    "\n",
    "def main():\n",
    "    primelst = [x for x in range(1,100) if check_prime(x)][:5]\n",
    "    \n",
    "   \n",
    "            \n",
    "    print(tuple(primelst))       \n",
    "            \n",
    "if __name__ == \"__main__\":\n",
    "    main()      "
   ]
  },
  {
   "cell_type": "code",
   "execution_count": 3,
   "id": "6fd047e1-d80b-4ffb-bfa7-f58873abebf2",
   "metadata": {},
   "outputs": [
    {
     "name": "stdout",
     "output_type": "stream",
     "text": [
      "YES, Its palindrome tuple\n"
     ]
    }
   ],
   "source": [
    "#Tuple Based Practice Problem :\n",
    "#33. Check if a tuple is a palindrome.\n",
    "\n",
    "def is_palindrome(tup):\n",
    "    if tup == tup[::-1]:\n",
    "        return True\n",
    "    else:\n",
    "        return False\n",
    "\n",
    "def main():\n",
    "    tup1 = (1,2,3,4,3,2,1)\n",
    "    \n",
    "    if is_palindrome(tup1):\n",
    "        print(\"YES, Its palindrome tuple\")\n",
    "    else:\n",
    "        print(\"NO, Its not palindrome tuple\")\n",
    "        \n",
    "if __name__ == \"__main__\":\n",
    "    main()        \n"
   ]
  },
  {
   "cell_type": "code",
   "execution_count": 18,
   "id": "317f6fe7-f342-4ff5-a768-000f4bf07228",
   "metadata": {},
   "outputs": [
    {
     "name": "stdout",
     "output_type": "stream",
     "text": [
      "(1, 4, 9, 16, 25)\n"
     ]
    }
   ],
   "source": [
    "#Tuple Based Practice Problem :\n",
    "#34. Create a tuple of squares of numbers from 1 to 5.\n",
    "\n",
    "def main():\n",
    "    tup = tuple(x**2 for x in range(1,6))\n",
    "    print(tup)\n",
    "    \n",
    "if __name__ == \"__main__\":\n",
    "    main()\n",
    "    "
   ]
  },
  {
   "cell_type": "code",
   "execution_count": 23,
   "id": "29499482-0534-40e6-8aca-2872cfc3ac74",
   "metadata": {},
   "outputs": [
    {
     "name": "stdout",
     "output_type": "stream",
     "text": [
      "Filtered  tuple: (1, 3, 5, 7)\n"
     ]
    }
   ],
   "source": [
    "#Tuple Based Practice Problem :\n",
    "#35. Filter out all even numbers from a tuple.\n",
    "\n",
    "def  main():\n",
    "    tup1 = (1, 3, 5, 7, 92, 4, 6, 8, 10)\n",
    "    tup2 = tuple(x for x in tup1 if x%2!=0)\n",
    "    \n",
    "    print(\"Filtered  tuple:\",tup2)\n",
    "    \n",
    "if __name__ == \"__main__\":\n",
    "    main()    "
   ]
  },
  {
   "cell_type": "code",
   "execution_count": 21,
   "id": "75c044cb-d4e8-48b2-9353-3bd7a22955d1",
   "metadata": {},
   "outputs": [
    {
     "name": "stdout",
     "output_type": "stream",
     "text": [
      "Multiplied tuple: (2, 6, 10, 14, 184, 8, 12, 16, 20)\n"
     ]
    }
   ],
   "source": [
    "#Tuple Based Practice Problem :\n",
    "#36. Multiply all elements in a tuple by 2\n",
    "\n",
    "def  main():\n",
    "    tup1 = (1, 3, 5, 7, 92, 4, 6, 8, 10)\n",
    "    tup2 = tuple(x*2 for x in tup1)\n",
    "    \n",
    "    print(\"Multiplied tuple:\", tup2)\n",
    "    \n",
    "if __name__ == \"__main__\":\n",
    "    main()    "
   ]
  },
  {
   "cell_type": "code",
   "execution_count": 24,
   "id": "a206a562-022b-4dd0-acce-a5ae713394f7",
   "metadata": {},
   "outputs": [
    {
     "name": "stdout",
     "output_type": "stream",
     "text": [
      "random tuple :  (30, 68, 15, 62, 96, 57, 17, 66, 39, 24)\n"
     ]
    }
   ],
   "source": [
    "#Tuple Based Practice Problem :\n",
    "#37. Create a tuple of random numbers.\n",
    "\n",
    "import random\n",
    "\n",
    "def main():\n",
    "    tup1 = tuple(random.randint(1, 100) for _ in range(10))\n",
    "    \n",
    "    print(\"random tuple : \",tup1)\n",
    "    \n",
    "if __name__ == \"__main__\":\n",
    "    main()     "
   ]
  },
  {
   "cell_type": "code",
   "execution_count": 26,
   "id": "86e4057f-1b88-44e0-9d7f-fee222de57f6",
   "metadata": {},
   "outputs": [
    {
     "name": "stdout",
     "output_type": "stream",
     "text": [
      "Tuple 1 is sorted: True\n",
      "Tuple 2 is sorted: False\n"
     ]
    }
   ],
   "source": [
    "#Tuple Based Practice Problem :\n",
    "#38. Check if a tuple is sorted.\n",
    "\n",
    "def is_sorted(tup):\n",
    "    for i in range(len(tup)-1):\n",
    "        if tup[i] > tup[i+1]:\n",
    "            return False\n",
    "    return True   \n",
    "\n",
    "def main():\n",
    "    tup1 = (1,2,3,4,5,61)\n",
    "    tup2 = (2,1,3,42,5,61)\n",
    "    \n",
    "    print(\"Tuple 1 is sorted:\",is_sorted(tup1))\n",
    "    print(\"Tuple 2 is sorted:\",is_sorted(tup2))\n",
    "    \n",
    "if __name__ == \"__main__\":\n",
    "    main()    "
   ]
  },
  {
   "cell_type": "code",
   "execution_count": 27,
   "id": "64c1741b-c680-4b9c-8bd3-e78c250ae80a",
   "metadata": {},
   "outputs": [
    {
     "name": "stdout",
     "output_type": "stream",
     "text": [
      "(3, 4, 5, 1, 2)\n"
     ]
    }
   ],
   "source": [
    "#Tuple Based Practice Problem :\n",
    "#39. Rotate a tuple to the left by `n` positions.\n",
    "\n",
    "def rotate_tuple_left(tup, n):\n",
    "    n = n % len(tup)  \n",
    "    rotated_tuple = tup[n:] + tup[:n]  \n",
    "    return rotated_tuple\n",
    "\n",
    "def main():\n",
    "    my_tuple = (1, 2, 3, 4, 5)\n",
    "    n_positions = 2\n",
    "    result = rotate_tuple_left(my_tuple, n_positions)\n",
    "    print(result)\n",
    "    \n",
    "if __name__ == \"__main__\":\n",
    "    main()        "
   ]
  },
  {
   "cell_type": "code",
   "execution_count": 28,
   "id": "f39cec31-cc05-4496-90c5-e1e1c27258aa",
   "metadata": {},
   "outputs": [
    {
     "name": "stdout",
     "output_type": "stream",
     "text": [
      "(4, 5, 1, 2, 3)\n"
     ]
    }
   ],
   "source": [
    "#Tuple Based Practice Problem :\n",
    "#40. Rotate a tuple to the right by `n` positions.\n",
    "\n",
    "def rotate_tuple_right(tup, n):\n",
    "    n = n % len(tup)  \n",
    "    rotated_tuple = tup[-n:] + tup[:-n]\n",
    "    return rotated_tuple\n",
    "\n",
    "def main():\n",
    "    my_tuple = (1, 2, 3, 4, 5)\n",
    "    n_positions = 2\n",
    "    result = rotate_tuple_right(my_tuple, n_positions)\n",
    "    print(result)\n",
    "    \n",
    "if __name__ == \"__main__\":\n",
    "    main()    "
   ]
  },
  {
   "cell_type": "code",
   "execution_count": 1,
   "id": "e9f8f369-0c0b-4c3e-80df-10688af8087c",
   "metadata": {},
   "outputs": [
    {
     "name": "stdout",
     "output_type": "stream",
     "text": [
      "(0, 1, 1, 2, 3)\n"
     ]
    }
   ],
   "source": [
    "#Tuple Based Practice Problem :\n",
    "#41. Create a tuple of the first 5 Fibonacci numbers.\n",
    "\n",
    "def main():\n",
    "    lst = []\n",
    "    \n",
    "    for i in range(0,10):\n",
    "        if len(lst) !=5:\n",
    "            if i < 2:\n",
    "                lst.append(i)\n",
    "            else:\n",
    "                lst.append(lst[-1] + lst[-2])\n",
    "        else:\n",
    "            break\n",
    "    \n",
    "    fibonacci = tuple(lst)\n",
    "    print(fibonacci)       \n",
    "            \n",
    "if __name__ == \"__main__\":\n",
    "    main()      \n",
    "    "
   ]
  },
  {
   "cell_type": "code",
   "execution_count": 4,
   "id": "8d0c030f-0232-4bde-86bf-f8e5cdfca270",
   "metadata": {},
   "outputs": [
    {
     "name": "stdin",
     "output_type": "stream",
     "text": [
      "Enter the values of tuple  separated by commas :  w,f,5,7,fg,23,5.6,fg8,45\n"
     ]
    },
    {
     "name": "stdout",
     "output_type": "stream",
     "text": [
      "User Tuple : ('w', 'f', '5', '7', 'fg', '23', '5.6', 'fg8', '45')\n"
     ]
    }
   ],
   "source": [
    "#Tuple Based Practice Problem :\n",
    "#42. Create a tuple from user input.\n",
    "\n",
    "def main():\n",
    "    user_input = input(\"Enter the values of tuple  separated by commas : \")\n",
    "    user_tuple = tuple(user_input.split(','))\n",
    "    \n",
    "    print(\"User Tuple :\",user_tuple)\n",
    "\n",
    "if __name__ == \"__main__\":\n",
    "    main()      \n",
    "    \n"
   ]
  },
  {
   "cell_type": "code",
   "execution_count": 6,
   "id": "1f9fa4c8-0b91-4c40-bab8-e369eefb048c",
   "metadata": {},
   "outputs": [
    {
     "name": "stdout",
     "output_type": "stream",
     "text": [
      "Tuple after swapping elements: (1, 4, 3, 2, 5)\n"
     ]
    }
   ],
   "source": [
    "#Tuple Based Practice Problem :\n",
    "#43. Swap two elements in a tuple.\n",
    "\n",
    "def main():\n",
    "    \n",
    "    tuple1 = (1, 2, 3, 4, 5)\n",
    "    my_list = list(tuple1)\n",
    "\n",
    "    index1 = 1\n",
    "    index2 = 3\n",
    "\n",
    "    temp = my_list[index1]  \n",
    "    my_list[index1] = my_list[index2] \n",
    "    my_list[index2] = temp\n",
    "    print(\"Tuple after swapping elements:\", tuple(my_list))\n",
    "    \n",
    "if __name__ == '__main__':\n",
    "    main()       "
   ]
  },
  {
   "cell_type": "code",
   "execution_count": 7,
   "id": "614ff9c2-59ca-4fb1-af60-2c45cb022ff0",
   "metadata": {},
   "outputs": [
    {
     "name": "stdout",
     "output_type": "stream",
     "text": [
      "Reversed Tuple :  (5, 4, 3, 2, 1)\n"
     ]
    }
   ],
   "source": [
    "#Tuple Based Practice Problem :\n",
    "#44. Reverse the elements of a tuple.\n",
    "\n",
    "def main():\n",
    "    tuple1 = (1, 2, 3, 4, 5)\n",
    "    reversetuple = tuple(list(tuple1[::-1]))\n",
    "    print(\"Reversed Tuple : \",reversetuple)\n",
    "    \n",
    "if __name__ == '__main__':\n",
    "    main()     "
   ]
  },
  {
   "cell_type": "code",
   "execution_count": null,
   "id": "e1540944-77e9-4d47-987b-5830bc950c1b",
   "metadata": {},
   "outputs": [
    {
     "name": "stdin",
     "output_type": "stream",
     "text": [
      "Enter, of how many first element you want to create a tuple :  5\n"
     ]
    },
    {
     "name": "stdout",
     "output_type": "stream",
     "text": [
      "(4, 64, 1024, 16384, 262144)\n"
     ]
    }
   ],
   "source": [
    "#Tuple Based Practice Problem :\n",
    "#45. Create a tuple of the first `n` powers of 2.\n",
    "\n",
    "def main():\n",
    "    tup1 = (2, 6, 10, 14, 18, 8, 12, 16, 20)\n",
    "    lst = []\n",
    "    num = int(input(\"Enter, of how many first element you want to create a tuple : \"))\n",
    "    \n",
    "    if num<=len(tup1):\n",
    "        for i in range(0,num):                        # Here first n element will be the power of  2 . \n",
    "            lst.append(2**tup1[i])\n",
    "    else:\n",
    "        print(\"Out of range\")\n",
    "    print(tuple(lst))   \n",
    "if __name__ == '__main__':\n",
    "    main()    \n"
   ]
  },
  {
   "cell_type": "code",
   "execution_count": 12,
   "id": "10fcf27d-5465-498b-89f3-052bef7cae9b",
   "metadata": {},
   "outputs": [
    {
     "name": "stdout",
     "output_type": "stream",
     "text": [
      "Longest string in tuple :  Full Stack Data_Science is best course in pwskills\n",
      "Index of Longest =  4\n"
     ]
    }
   ],
   "source": [
    "#Tuple Based Practice Problem :\n",
    "#46. Find the longest string in a tuple of strings.\n",
    "\n",
    "def main():\n",
    "    tup1 = (\"longest string\",\"element\",\"Practice\",\"Pwskills classes are best\",\"Full Stack Data_Science is best course in pwskills\",\"pw-labs\")\n",
    "    longest = ''\n",
    "    index = 0\n",
    "    for string in tup1:\n",
    "        if len(string)>len(longest):\n",
    "            longest = string\n",
    "            index = tup1.index(string)\n",
    "        \n",
    "    print(\"Longest string in tuple : \",longest)\n",
    "    print(\"Index of Longest = \",index)\n",
    "    \n",
    "if __name__ == '__main__':\n",
    "    main()      \n",
    "            "
   ]
  },
  {
   "cell_type": "code",
   "execution_count": 13,
   "id": "dcf24e41-6385-429a-bd9d-fdc6c5d26ffc",
   "metadata": {},
   "outputs": [
    {
     "name": "stdout",
     "output_type": "stream",
     "text": [
      "Shortest string in tuple :  element\n",
      "Index of shortest =  1\n"
     ]
    }
   ],
   "source": [
    "#Tuple Based Practice Problem :\n",
    "#47. Find the shortest string in a tuple of strings.\n",
    "\n",
    "def main():\n",
    "    tup1 = (\"longest string\",\"element\",\"Practice\",\"Pwskills classes are best\",\"Full Stack Data_Science is best course in pwskills\",\"pw-labs\")\n",
    "    shortest = tup1[0]\n",
    "    index = 0\n",
    "    for string in tup1:\n",
    "        if len(string)<len(shortest):\n",
    "            shortest = string\n",
    "            index = tup1.index(string)\n",
    "        \n",
    "    print(\"Shortest string in tuple : \",shortest)\n",
    "    print(\"Index of shortest = \",index)\n",
    "    \n",
    "if __name__ == '__main__':\n",
    "    main()      \n",
    "    "
   ]
  },
  {
   "cell_type": "code",
   "execution_count": 1,
   "id": "7f1571a7-f91d-4b98-a37b-87da95a3740d",
   "metadata": {},
   "outputs": [
    {
     "name": "stdin",
     "output_type": "stream",
     "text": [
      "Enter the number to create tuple :  10\n"
     ]
    },
    {
     "name": "stdout",
     "output_type": "stream",
     "text": [
      "Tuple of first 10 triangular numbers are: (1, 3, 6, 10, 15, 21, 28, 36, 45, 55)\n"
     ]
    }
   ],
   "source": [
    "#Tuple Based Practice Problem :\n",
    "#48. Create a tuple of the first `n` triangular numbers.\n",
    "\n",
    "def generate_triangular_numbers(n):\n",
    "    triangular_numbers = []\n",
    "    temp = 0\n",
    "    for i in range(1, n + 1):\n",
    "        triangular_numbers.append(temp+i)\n",
    "        temp = triangular_numbers[-1]\n",
    "    return tuple(triangular_numbers)\n",
    "\n",
    "def main():\n",
    "    \n",
    "    n = int(input(\"Enter the number to create tuple : \"))\n",
    "    triangular_numbers = generate_triangular_numbers(n)\n",
    "    print(f\"Tuple of first {n} triangular numbers are: {triangular_numbers}\")\n",
    "    \n",
    "if __name__ == '__main__':\n",
    "    main()  \n",
    "    "
   ]
  },
  {
   "cell_type": "code",
   "execution_count": 1,
   "id": "2437b26d-c58e-45e0-8c37-5410a9dcda61",
   "metadata": {},
   "outputs": [
    {
     "name": "stdout",
     "output_type": "stream",
     "text": [
      "Main list contains the subsequence.\n"
     ]
    }
   ],
   "source": [
    "#Tuple Based Practice Problem :\n",
    "#49. Check if a tuple contains another tuple as a subsequence.\n",
    "\n",
    "def is_subsequence(subsequence, main_tuple):\n",
    "    subseq_index = 0  \n",
    "    for element in main_tuple:\n",
    "        if element == subsequence[subseq_index]:\n",
    "            subseq_index += 1\n",
    "            if subseq_index == len(subsequence):\n",
    "                return True\n",
    "    return False\n",
    "\n",
    "def main():\n",
    "    main_tuple = (1, 2, 3, 4, 5, 6, 7, 8, 9, 10)\n",
    "    subsequence = (3, 5, 8)\n",
    "\n",
    "\n",
    "    if is_subsequence(tuple(subsequence), tuple(main_tuple)):\n",
    "        print(\"Main list contains the subsequence.\")\n",
    "    else:\n",
    "        print(\"Main list does not contain the subsequence.\")\n",
    "        \n",
    "if __name__ == '__main__':\n",
    "    main()         "
   ]
  },
  {
   "cell_type": "code",
   "execution_count": 4,
   "id": "8554506c-5828-43d7-b49d-494f3c1c2ace",
   "metadata": {},
   "outputs": [
    {
     "name": "stdin",
     "output_type": "stream",
     "text": [
      "Enter the Number :  8\n"
     ]
    },
    {
     "name": "stdout",
     "output_type": "stream",
     "text": [
      "Tuple of 0 and 1 :  (0, 1, 0, 1, 0, 1, 0, 1)\n"
     ]
    }
   ],
   "source": [
    "#Tuple Based Practice Problem :\n",
    "#50. Create a tuple of alternating 1s and 0s of length `n`\n",
    "\n",
    "def main():\n",
    "    num = int(input(\"Enter the Number : \"))\n",
    "    lst = []\n",
    "    for i in range(0,num):\n",
    "        if len(lst) < 1:\n",
    "            lst.append(0)    \n",
    "            \n",
    "        else:\n",
    "            if lst[i-1] == 0:\n",
    "                lst.append(1)\n",
    "            else:\n",
    "                lst.append(0)\n",
    "    print(\"Tuple of 0 and 1 : \",tuple(lst))            \n",
    "            \n",
    "if __name__ == '__main__':\n",
    "    main()           "
   ]
  },
  {
   "cell_type": "code",
   "execution_count": 7,
   "id": "be1fa5f4-fca8-4abd-8842-96d8e4905f2d",
   "metadata": {},
   "outputs": [
    {
     "name": "stdout",
     "output_type": "stream",
     "text": [
      "{1, 2, 3, 4, 5}\n"
     ]
    }
   ],
   "source": [
    "#Set Based Practice Problem :\n",
    "#1. Create a set with integers from 1 to 5.\n",
    "\n",
    "def main():\n",
    "    set1 = set(i for i in range(1,6))\n",
    "    print(set1)\n",
    "\n",
    "    \n",
    "if __name__ == '__main__':\n",
    "    main()   "
   ]
  },
  {
   "cell_type": "code",
   "execution_count": 9,
   "id": "e54e831e-b11a-4a5b-a388-19d0915b3639",
   "metadata": {},
   "outputs": [
    {
     "name": "stdout",
     "output_type": "stream",
     "text": [
      "{1, 2, 3, 4, 5, 8}\n"
     ]
    }
   ],
   "source": [
    "#Set Based Practice Problem :\n",
    "#2. Add an element to a set.\n",
    "\n",
    "def main():\n",
    "    set1 = {1, 2, 3, 4, 5}\n",
    "    \n",
    "    set1.add(8)\n",
    "    print(set1)\n",
    "\n",
    "    \n",
    "if __name__ == '__main__':\n",
    "    main()  "
   ]
  },
  {
   "cell_type": "code",
   "execution_count": 10,
   "id": "f395e06d-67e1-40e0-9b22-3a7faacaab1b",
   "metadata": {},
   "outputs": [
    {
     "name": "stdout",
     "output_type": "stream",
     "text": [
      "{1, 2, 3, 4, 5}\n"
     ]
    }
   ],
   "source": [
    "#Set Based Practice Problem :\n",
    "#3. Remove an element from a set.\n",
    "\n",
    "def main():\n",
    "    set1 = {1, 2, 3, 4, 5,8}\n",
    "    \n",
    "    set1.remove(8)\n",
    "    print(set1)\n",
    "\n",
    "    \n",
    "if __name__ == '__main__':\n",
    "    main()  "
   ]
  },
  {
   "cell_type": "code",
   "execution_count": 11,
   "id": "fc416ef9-ae31-47ca-86cf-381057c64301",
   "metadata": {},
   "outputs": [
    {
     "name": "stdout",
     "output_type": "stream",
     "text": [
      "{1, 2, 3, 4, 5, 8}\n",
      "Element 2 exist in tuple\n"
     ]
    }
   ],
   "source": [
    "#Set Based Practice Problem :\n",
    "#4. Check if an element exists in a set.\n",
    "\n",
    "def main():\n",
    "    set1 = {1, 2, 3, 4, 5,8}\n",
    "    print(set1)\n",
    "    if 2 in set1:\n",
    "        print(\"Element 2 exist in tuple\")\n",
    "        \n",
    "    else:    \n",
    "        print(\"Element 2 does not exist in tuple\")\n",
    "if __name__ == '__main__':\n",
    "    main()  "
   ]
  },
  {
   "cell_type": "code",
   "execution_count": 13,
   "id": "a0ffc70f-f54e-4202-ab47-48f315f5c736",
   "metadata": {},
   "outputs": [
    {
     "name": "stdout",
     "output_type": "stream",
     "text": [
      "{1, 2, 3, 4, 5, 8}\n",
      "There are 6 element in set\n"
     ]
    }
   ],
   "source": [
    "#Set Based Practice Problem :\n",
    "#5. Find the length of a set without using the `len()` function.\n",
    "\n",
    "def main():\n",
    "    set1 = {1, 2, 3, 4, 5,8}\n",
    "    print(set1)\n",
    "    count = 0\n",
    "    for _ in set1:\n",
    "        count += 1\n",
    "    \n",
    "    print(f\"There are {count} element in set\")\n",
    "if __name__ == '__main__':\n",
    "    main()  "
   ]
  },
  {
   "cell_type": "code",
   "execution_count": 15,
   "id": "5872eb70-4191-4cb5-b342-012af9a9df71",
   "metadata": {},
   "outputs": [
    {
     "name": "stdout",
     "output_type": "stream",
     "text": [
      "Set :  {1, 2, 3, 4, 5, 8}\n",
      "set()\n"
     ]
    }
   ],
   "source": [
    "#Set Based Practice Problem :\n",
    "#6. Clear all elements from a set.\n",
    "\n",
    "def main():\n",
    "    set1 = {1, 2, 3, 4, 5,8}\n",
    "    print(\"Set : \",set1)\n",
    "    set1.clear()\n",
    "    print(set1)\n",
    "    \n",
    "if __name__ == '__main__':\n",
    "    main() "
   ]
  },
  {
   "cell_type": "code",
   "execution_count": 16,
   "id": "a5a395b3-7540-4890-a9c5-3483c866542b",
   "metadata": {},
   "outputs": [
    {
     "name": "stdout",
     "output_type": "stream",
     "text": [
      "{2, 4, 6, 8, 10}\n"
     ]
    }
   ],
   "source": [
    "#Set Based Practice Problem :\n",
    "#7. Create a set of even numbers from 1 to 10.\n",
    "\n",
    "def main():\n",
    "    set1 = set(i for i in range(1,11) if i%2==0)\n",
    "    print(set1)\n",
    "if __name__ == '__main__':\n",
    "    main() "
   ]
  },
  {
   "cell_type": "code",
   "execution_count": 17,
   "id": "435b803c-8761-4966-ac9a-ea514f15b6a2",
   "metadata": {},
   "outputs": [
    {
     "name": "stdout",
     "output_type": "stream",
     "text": [
      "{1, 3, 5, 7, 9}\n"
     ]
    }
   ],
   "source": [
    "#Set Based Practice Problem :\n",
    "#8. Create a set of odd numbers from 1 to 10.\n",
    "\n",
    "def main():\n",
    "    set1 = set(i for i in range(1,11) if i%2!=0)\n",
    "    print(set1)\n",
    "if __name__ == '__main__':\n",
    "    main() "
   ]
  },
  {
   "cell_type": "code",
   "execution_count": 1,
   "id": "f5dd564a-9283-4058-8a72-32f435ab9794",
   "metadata": {},
   "outputs": [
    {
     "name": "stdout",
     "output_type": "stream",
     "text": [
      "Set 1: {1, 2, 3}\n",
      "Set 2: {3, 4, 5}\n",
      "Union of Set 1 and Set 2: {1, 2, 3, 4, 5}\n"
     ]
    }
   ],
   "source": [
    "#Set Based Practice Problem :\n",
    "#9. Find the union of two sets.\n",
    "\n",
    "def main():\n",
    "   \n",
    "    set1 = {1, 2, 3}\n",
    "    set2 = {3, 4, 5}\n",
    "\n",
    "    union_set = set1.union(set2)\n",
    "    print(\"Set 1:\", set1)\n",
    "    print(\"Set 2:\", set2)\n",
    "    print(\"Union of Set 1 and Set 2:\", union_set)\n",
    "\n",
    "if __name__ == '__main__':\n",
    "    main()    "
   ]
  },
  {
   "cell_type": "code",
   "execution_count": 2,
   "id": "87f56520-7475-41cb-ace2-384b8c86010b",
   "metadata": {},
   "outputs": [
    {
     "name": "stdout",
     "output_type": "stream",
     "text": [
      "Set 1: {1, 2, 3}\n",
      "Set 2: {3, 4, 5}\n",
      "Intersection of Set 1 and Set 2: {3}\n"
     ]
    }
   ],
   "source": [
    "#Set Based Practice Problem :\n",
    "#10. Find the intersection of two sets.\n",
    "\n",
    "def main():\n",
    "   \n",
    "    set1 = {1, 2, 3}\n",
    "    set2 = {3, 4, 5}\n",
    "\n",
    "    intersection_set = set1.intersection(set2)\n",
    "    print(\"Set 1:\", set1)\n",
    "    print(\"Set 2:\", set2)\n",
    "    print(\"Intersection of Set 1 and Set 2:\", intersection_set)\n",
    "\n",
    "if __name__ == '__main__':\n",
    "    main()    \n"
   ]
  },
  {
   "cell_type": "code",
   "execution_count": 3,
   "id": "14d852b1-e969-4cc3-b564-aaa318e7fbe3",
   "metadata": {},
   "outputs": [
    {
     "name": "stdout",
     "output_type": "stream",
     "text": [
      "Set 1: {1, 2, 3}\n",
      "Set 2: {3, 4, 5}\n",
      "Difference of Set 1 and Set 2: {1, 2}\n"
     ]
    }
   ],
   "source": [
    "#Set Based Practice Problem :\n",
    "#11. Find the difference between two sets.\n",
    "\n",
    "def main():\n",
    "   \n",
    "    set1 = {1, 2, 3}\n",
    "    set2 = {3, 4, 5}\n",
    "\n",
    "    Difference_set = set1.difference(set2)\n",
    "    print(\"Set 1:\", set1)\n",
    "    print(\"Set 2:\", set2)\n",
    "    print(\"Difference of Set 1 and Set 2:\", Difference_set)\n",
    "\n",
    "if __name__ == '__main__':\n",
    "    main()    \n"
   ]
  },
  {
   "cell_type": "code",
   "execution_count": 5,
   "id": "15ffdb5f-e8b8-4d0c-abd1-fde1be492cfd",
   "metadata": {},
   "outputs": [
    {
     "name": "stdout",
     "output_type": "stream",
     "text": [
      "Set 1: {1, 2, 3}\n",
      "Set 2: {1, 2, 3, 4, 5}\n",
      "Is set1 a subset of set2: True\n"
     ]
    }
   ],
   "source": [
    "#Set Based Practice Problem :\n",
    "#12. Check if a set is a subset of another set.\n",
    "\n",
    "def main():\n",
    "   \n",
    "    set1 = {1, 2, 3}\n",
    "    set2 = {1, 2, 3, 4, 5}\n",
    "    \n",
    "\n",
    "    sub_set = set1.issubset(set2)\n",
    "    print(\"Set 1:\", set1)\n",
    "    print(\"Set 2:\", set2)\n",
    "    print(\"Is set1 a subset of set2:\", sub_set)\n",
    "\n",
    "if __name__ == '__main__':\n",
    "    main()   \n"
   ]
  },
  {
   "cell_type": "code",
   "execution_count": 6,
   "id": "f177a098-438b-4352-850b-8e947e43e5bb",
   "metadata": {},
   "outputs": [
    {
     "name": "stdout",
     "output_type": "stream",
     "text": [
      "Set 1: {1, 2, 3}\n",
      "Set 2: {1, 2, 3, 4, 5}\n",
      "Is set1 a subset of set2: True\n"
     ]
    }
   ],
   "source": [
    "#Set Based Practice Problem :\n",
    "#13. Check if a set is a superset of another set.\n",
    "def main():\n",
    "   \n",
    "    set1 = {1, 2, 3}\n",
    "    set2 = {1, 2, 3, 4, 5}\n",
    "    \n",
    "\n",
    "    super_setresult = set2.issuperset(set1)\n",
    "    print(\"Set 1:\", set1)\n",
    "    print(\"Set 2:\", set2)\n",
    "    print(\"Is set1 a subset of set2:\", super_setresult)\n",
    "\n",
    "if __name__ == '__main__':\n",
    "    main()   \n"
   ]
  },
  {
   "cell_type": "code",
   "execution_count": 9,
   "id": "0c3fa177-9c2a-4a0c-bb01-15da32472cbc",
   "metadata": {},
   "outputs": [
    {
     "name": "stdout",
     "output_type": "stream",
     "text": [
      "List :  [1, 2, 3, 4, 5]\n",
      "Set : {1, 2, 3, 4, 5}\n"
     ]
    }
   ],
   "source": [
    "#Set Based Practice Problem :\n",
    "#14. Create a set from a list.\n",
    "\n",
    "def main():\n",
    "   \n",
    "    lst = [1, 2, 3, 4, 5]\n",
    "    print(\"List : \",lst)\n",
    "    set2 = set(lst)\n",
    "    print(\"Set :\",set2)\n",
    "\n",
    "if __name__ == '__main__':\n",
    "    main()   \n"
   ]
  },
  {
   "cell_type": "code",
   "execution_count": 11,
   "id": "a197c5d5-ccae-4e8d-bb36-3b7014a9b533",
   "metadata": {},
   "outputs": [
    {
     "name": "stdout",
     "output_type": "stream",
     "text": [
      "Set :  {1, 2, 3, 4, 5}\n",
      "List : [1, 2, 3, 4, 5]\n"
     ]
    }
   ],
   "source": [
    "#Set Based Practice Problem :\n",
    "#15. Convert a set to a list.\n",
    "\n",
    "def main():\n",
    "   \n",
    "    set1 = {1, 2, 3, 4, 5}\n",
    "    print(\"Set : \",set1)\n",
    "    lst = list(set1)\n",
    "    print(\"List :\",lst)\n",
    "\n",
    "if __name__ == '__main__':\n",
    "    main()   \n"
   ]
  },
  {
   "cell_type": "code",
   "execution_count": 1,
   "id": "b16b801e-8c52-4525-9a67-1a2e0d37881f",
   "metadata": {},
   "outputs": [
    {
     "name": "stdout",
     "output_type": "stream",
     "text": [
      "Original set: {1, 2, 3, 4, 5}\n",
      "Updated set after removing 3 : {1, 2, 4, 5}\n"
     ]
    }
   ],
   "source": [
    "#Set Based Practice Problem :\n",
    "#16. Remove a random element from a set.\n",
    "\n",
    "import random  \n",
    "def main():\n",
    "    my_set = {1, 2, 3, 4, 5}\n",
    "\n",
    "    print(\"Original set:\", my_set)\n",
    "    random_element = random.choice(list(my_set))\n",
    "    my_set.remove(random_element)\n",
    "    print(\"Updated set after removing\", random_element, \":\", my_set)\n",
    "    \n",
    "if __name__ == '__main__':\n",
    "    main()   \n",
    "    "
   ]
  },
  {
   "cell_type": "code",
   "execution_count": 1,
   "id": "78d052e6-bf4c-447c-bcc2-30fa41954747",
   "metadata": {},
   "outputs": [
    {
     "name": "stdout",
     "output_type": "stream",
     "text": [
      "Original Set : {1, 2, 3, 4, 5, 67, 45, 55}\n",
      "Removed random first :  {2, 3, 4, 5, 67, 45, 55}\n",
      "Removed random second :  {3, 4, 5, 67, 45, 55}\n",
      "Removed random third :  {4, 5, 67, 45, 55}\n"
     ]
    }
   ],
   "source": [
    "#Set Based Practice Problem :\n",
    "#17. Pop an element from a set.\n",
    "\n",
    "def main():\n",
    "   \n",
    "    set1 = {1, 2, 3, 4, 5,45,3,67,2,55}\n",
    "    print(\"Original Set :\",set1)\n",
    "    set1.pop()\n",
    "    print(\"Removed random first : \",set1)\n",
    "    \n",
    "    set1.pop()\n",
    "    print(\"Removed random second : \",set1)\n",
    "    \n",
    "    set1.pop()\n",
    "    print(\"Removed random third : \",set1)\n",
    "\n",
    "if __name__ == '__main__':\n",
    "    main()     "
   ]
  },
  {
   "cell_type": "code",
   "execution_count": null,
   "id": "17b7cfea-8e3b-4b19-b33a-359039c84efc",
   "metadata": {},
   "outputs": [],
   "source": [
    "#Set Based Practice Problem :\n",
    "#18. Check if two sets have no elements in common.\n",
    "\n",
    "def main():\n",
    "    set1 = {1, 2, 3, 4}\n",
    "    set2 = {5, 6, 7, 8}\n",
    "\n",
    "    common_elements = set1.intersection(set2)\n",
    "    \n",
    "    if not common_elements:\n",
    "        print(\"The two sets have no elements in common.\")\n",
    "    else:\n",
    "        print(\"The two sets have common elements:\", common_elements)\n",
    "        \n",
    "if __name__ == '__main__':\n",
    "    main()      \n",
    "        "
   ]
  },
  {
   "cell_type": "code",
   "execution_count": 1,
   "id": "420002c6-620f-443f-83f5-0f4a0f556f89",
   "metadata": {},
   "outputs": [
    {
     "name": "stdout",
     "output_type": "stream",
     "text": [
      "{1, 2, 3, 6, 7, 8}\n"
     ]
    }
   ],
   "source": [
    "#Set Based Practice Problem :\n",
    "#19. Find the symmetric difference between two sets.\n",
    "\n",
    "def main():\n",
    "    \n",
    "    set1 = {1, 2, 3, 4, 5}\n",
    "    set2 = {4, 5, 6, 7, 8}\n",
    "    \n",
    "    symmetric_diff = set1.symmetric_difference(set2)\n",
    "    print(symmetric_diff)\n",
    "    \n",
    "if __name__ == '__main__':\n",
    "    main()  "
   ]
  },
  {
   "cell_type": "code",
   "execution_count": 2,
   "id": "f9cd23c4-f4a7-42ff-b88f-c2862bf4ac1e",
   "metadata": {},
   "outputs": [
    {
     "name": "stdout",
     "output_type": "stream",
     "text": [
      "{1, 2, 3, 4, 5}\n",
      "{4, 5, 6, 7, 8}\n",
      "{1, 2, 3, 4, 5, 6, 7, 8}\n"
     ]
    }
   ],
   "source": [
    "#Set Based Practice Problem :\n",
    "#20. Update a set with elements from another set.\n",
    "\n",
    "def  main():\n",
    "    set1 = {1, 2, 3, 4, 5}\n",
    "    set2 = {4, 5, 6, 7, 8}\n",
    "    \n",
    "    print(set1)\n",
    "    print(set2)\n",
    "    set1.update(set2)\n",
    "    print(set1)\n",
    "    \n",
    "if __name__ == '__main__':\n",
    "    main()\n",
    "    "
   ]
  },
  {
   "cell_type": "code",
   "execution_count": 4,
   "id": "d9a1a0a7-182c-479f-aab3-8bc9a22fe990",
   "metadata": {},
   "outputs": [
    {
     "name": "stdout",
     "output_type": "stream",
     "text": [
      "Set of first 5 element :  {2, 3, 5, 7, 11}\n"
     ]
    }
   ],
   "source": [
    "#Set Based Practice Problem :\n",
    "#21. Create a set of the first 5 prime numbers.\n",
    "\n",
    "def check_prime(num):\n",
    "    if num<=1:\n",
    "        return False\n",
    "    else:\n",
    "        if num == 2:\n",
    "            return True\n",
    "        else:\n",
    "            for i in range(2,num):\n",
    "                if num%i==0:\n",
    "                    return False\n",
    "            else:\n",
    "                return True\n",
    "\n",
    "def main():\n",
    "    primeset = set(list(x for x in range(1,100) if check_prime(x))[:5])\n",
    "    \n",
    "    print(\"Set of first 5 element : \",primeset)\n",
    "        \n",
    "if __name__ == '__main__':\n",
    "    main()        "
   ]
  },
  {
   "cell_type": "code",
   "execution_count": 6,
   "id": "773c9458-f61e-408f-a007-78d65b6304e9",
   "metadata": {},
   "outputs": [
    {
     "name": "stdout",
     "output_type": "stream",
     "text": [
      "Set1 = {1, 2, 3, 4, 5, 6}\n",
      "Set2 = {1, 2, 3, 4, 5, 6}\n",
      "Set1 and Set2 are Indeticle..\n"
     ]
    }
   ],
   "source": [
    "#Set Based Practice Problem :\n",
    "#22. Check if two sets are identical.\n",
    "\n",
    "def main():\n",
    "    set1 = {1,2,4,3,5,6}\n",
    "    set2 = {2,1,4,3,6,5}\n",
    "    print(f\"Set1 = {set1}\\nSet2 = {set2}\")\n",
    "    \n",
    "    if set1 == set2:\n",
    "        print(\"Set1 and Set2 are Indeticle..\")\n",
    "    else:\n",
    "        print(\"Set1 and Set2 are Indeticle..\")\n",
    "        \n",
    "if __name__ == '__main__':\n",
    "    main()         "
   ]
  },
  {
   "cell_type": "code",
   "execution_count": 7,
   "id": "b011428c-5bcc-45cb-910d-10de74cc9179",
   "metadata": {},
   "outputs": [
    {
     "name": "stdout",
     "output_type": "stream",
     "text": [
      "Frozen Set: frozenset({1, 2, 3, 4, 5})\n"
     ]
    }
   ],
   "source": [
    "#Set Based Practice Problem :\n",
    "#23. Create a frozen set.\n",
    "\n",
    "def main():\n",
    "    elements = [1, 2, 3, 4, 5]\n",
    "    my_frozen_set = frozenset(elements)\n",
    "    print(\"Frozen Set:\", my_frozen_set)\n",
    "    \n",
    "if __name__ == '__main__':\n",
    "    main()     "
   ]
  },
  {
   "cell_type": "code",
   "execution_count": 8,
   "id": "b2881c5f-718a-4bd0-bca9-ab00559be7e0",
   "metadata": {},
   "outputs": [
    {
     "name": "stdout",
     "output_type": "stream",
     "text": [
      "Are the sets disjoint? False\n"
     ]
    }
   ],
   "source": [
    "#Set Based Practice Problem :\n",
    "#24. Check if a set is disjoint with another set.\n",
    "\n",
    "def main():\n",
    "    set1 = {1,2,4,3,5,6}\n",
    "    set2 = {2,1,4,3,6,5}\n",
    "    \n",
    "    disjoint_status = set1.isdisjoint(set2)\n",
    "    print(\"Are the sets disjoint?\", disjoint_status)\n",
    "    \n",
    "if __name__ == '__main__':\n",
    "    main()      "
   ]
  },
  {
   "cell_type": "code",
   "execution_count": 9,
   "id": "dd2831e1-3f0c-4954-a5a3-922b7d311bd3",
   "metadata": {},
   "outputs": [
    {
     "name": "stdout",
     "output_type": "stream",
     "text": [
      "Square Set :  {1, 4, 9, 16, 25}\n"
     ]
    }
   ],
   "source": [
    "#Set Based Practice Problem :\n",
    "#25. Create a set of squares of numbers from 1 to 5.\n",
    "\n",
    "def main():\n",
    "    squareset = set(list(x**2 for x in range(1,6)))\n",
    "    print(\"Square Set : \",squareset)\n",
    "    \n",
    "if __name__ == '__main__':\n",
    "    main()        "
   ]
  },
  {
   "cell_type": "code",
   "execution_count": 10,
   "id": "f2714496-c49b-49f4-a179-d11c8b0f5c81",
   "metadata": {},
   "outputs": [
    {
     "name": "stdout",
     "output_type": "stream",
     "text": [
      "Original Set :  {1, 2, 3, 34, 5, 7, 8, 40, 56, 89}\n",
      "Filtered Set :  {1, 3, 5, 7, 89}\n"
     ]
    }
   ],
   "source": [
    "#Set Based Practice Problem :\n",
    "#26. Filter out all even numbers from a set.\n",
    "\n",
    "def main():\n",
    "    set1 = {2,1,5,3,7,8,56,34,2,89,40}\n",
    "    filteredset = set(list(x for x in list(set1) if x%2!=0))\n",
    "    \n",
    "    print(\"Original Set : \",set1)\n",
    "    print(\"Filtered Set : \",filteredset)\n",
    "    \n",
    "if __name__ == '__main__':\n",
    "    main()    "
   ]
  },
  {
   "cell_type": "code",
   "execution_count": 1,
   "id": "d5c138dd-5074-4fc3-b78e-d3a58dc5decf",
   "metadata": {},
   "outputs": [
    {
     "name": "stdout",
     "output_type": "stream",
     "text": [
      "Original Set :  {1, 2, 3, 34, 5, 7, 8, 40, 56, 89}\n",
      "Multipliedset Set :  {2, 4, 68, 6, 10, 14, 16, 80, 112, 178}\n"
     ]
    }
   ],
   "source": [
    "#Set Based Practice Problem :\n",
    "#27. Multiply all elements in a set by 2.\n",
    "\n",
    "def main():\n",
    "    set1 = {2,1,5,3,7,8,56,34,2,89,40}\n",
    "    multipliedset = set(list(x*2 for x in list(set1)))\n",
    "    \n",
    "    print(\"Original Set : \",set1)\n",
    "    print(\"Multipliedset Set : \",multipliedset)\n",
    "    \n",
    "if __name__ == '__main__':\n",
    "    main()     "
   ]
  },
  {
   "cell_type": "code",
   "execution_count": 5,
   "id": "86c3ad7d-9bcc-48ec-b25e-39ae860f478b",
   "metadata": {},
   "outputs": [
    {
     "name": "stdout",
     "output_type": "stream",
     "text": [
      "{0, 1, 2, 3, 4, 5, 6, 7, 8, 9, 10, 11, 12, 13, 14, 15, 16, 17, 18, 19, 20, 21, 22, 23, 24, 25, 26, 27, 28, 29, 30, 31, 32, 33, 34, 35, 36, 37, 38, 39, 40, 41, 42, 43, 44, 45, 46, 47, 48, 49, 50}\n"
     ]
    }
   ],
   "source": [
    "#Set Based Practice Problem :\n",
    "#28. Create a set of random numbers.\n",
    "\n",
    "import random\n",
    "\n",
    "def main():\n",
    "    randomset = set(list(x for x in range(random.randint(1,100))))\n",
    "    print(\"Random Set : \"randomset)\n",
    "    \n",
    "if __name__ == '__main__':\n",
    "    main()       "
   ]
  },
  {
   "cell_type": "code",
   "execution_count": 2,
   "id": "a1de25fb-a3ee-4231-bc63-eaa4df919709",
   "metadata": {},
   "outputs": [
    {
     "name": "stdout",
     "output_type": "stream",
     "text": [
      "Set :  {1, 2, 3, 34, 5, 7, 8, 40, 56, 89}\n",
      "The Set is not Empty..\n"
     ]
    }
   ],
   "source": [
    "#Set Based Practice Problem :\n",
    "#29. Check if a set is empty.\n",
    "\n",
    "def main():\n",
    "    set1 = {1, 2, 3, 34, 5, 7, 8, 40, 56, 89}\n",
    "    print(\"Set : \",set1)\n",
    "    if not set1:\n",
    "        print(\"The Set is Empty..\")\n",
    "    else:\n",
    "        print(\"The Set is not Empty..\")\n",
    "        \n",
    "if __name__ == '__main__':\n",
    "    main() \n",
    "    "
   ]
  },
  {
   "cell_type": "code",
   "execution_count": 1,
   "id": "15039227-7896-4d70-a9ac-890512142080",
   "metadata": {},
   "outputs": [
    {
     "name": "stdout",
     "output_type": "stream",
     "text": [
      "Frozen Set : \n",
      " {frozenset({19}), frozenset({13, 14, 15}), frozenset({16, 17, 18}), frozenset({1, 2, 3}), frozenset({4, 5, 6}), frozenset({8, 9, 7}), frozenset({10, 11, 12})}\n"
     ]
    }
   ],
   "source": [
    "#Set Based Practice Problem :\n",
    "#30. Create a nested set (hint: use frozenset).\n",
    "\n",
    "def main():\n",
    "    set1 = set()\n",
    "    lst = []\n",
    "    \n",
    "    for i in range(1,20):\n",
    "        if len(lst)<3:\n",
    "            lst.append(i)\n",
    "        else:\n",
    "            set1.add(frozenset(lst))\n",
    "            lst.clear()\n",
    "            lst.append(i)\n",
    "    set1.add(frozenset(lst))\n",
    "    \n",
    "    print(\"Frozen Set : \\n\",set1)\n",
    "    \n",
    "if __name__ == '__main__':\n",
    "    main() "
   ]
  },
  {
   "cell_type": "code",
   "execution_count": 5,
   "id": "21201057-f89f-4b81-a928-59f0f86d72d1",
   "metadata": {},
   "outputs": [
    {
     "name": "stdout",
     "output_type": "stream",
     "text": [
      "Set :  {1, 2, 3, 34, 5, 7, 8, 40, 56, 89}\n",
      "After Discard : {1, 2, 3, 5, 7, 8, 40, 56, 89}\n"
     ]
    }
   ],
   "source": [
    "#Set Based Practice Problem :\n",
    "#31. Remove an element from a set using the discard method.\n",
    "\n",
    "def main():\n",
    "    set1 = {1, 2, 3, 34, 5, 7, 8, 40, 56, 89}\n",
    "    print(\"Set : \",set1)\n",
    "    set1.discard(34)\n",
    "    print(\"After Discard :\",set1)\n",
    "    \n",
    "if __name__ == '__main__':\n",
    "    main()     "
   ]
  },
  {
   "cell_type": "code",
   "execution_count": 1,
   "id": "70d90a4b-88ea-4952-a173-88b4f6a75c83",
   "metadata": {},
   "outputs": [
    {
     "name": "stdout",
     "output_type": "stream",
     "text": [
      "Set 1: {1, 2, 3, 4, 5}\n",
      "Set 2: {4, 5, 6, 7, 8}\n",
      "Is set1 a subset of set2? False\n",
      "Is set2 a superset of set1? False\n",
      "Intersection: {4, 5}\n",
      "Union: {1, 2, 3, 4, 5, 6, 7, 8}\n",
      "Elements in set1 but not in set2: {1, 2, 3}\n",
      "Elements in set2 but not in set1: {8, 6, 7}\n"
     ]
    }
   ],
   "source": [
    "#Set Based Practice Problem :\n",
    "#32. Compare two sets.\n",
    "\n",
    "def main():\n",
    "    \n",
    "    set1 = {1, 2, 3, 4, 5}\n",
    "    set2 = {4, 5, 6, 7, 8}\n",
    "\n",
    "    is_subset = set1.issubset(set2)\n",
    "    is_superset = set1.issuperset(set2)\n",
    "    intersection = set1.intersection(set2)\n",
    "    union = set1.union(set2)\n",
    "    difference1 = set1.difference(set2)\n",
    "    difference2 = set2.difference(set1)\n",
    "\n",
    "    print(\"Set 1:\", set1)\n",
    "    print(\"Set 2:\", set2)\n",
    "    print(\"Is set1 a subset of set2?\", is_subset)\n",
    "    print(\"Is set2 a superset of set1?\", is_superset)\n",
    "    print(\"Intersection:\", intersection)\n",
    "    print(\"Union:\", union)\n",
    "    print(\"Elements in set1 but not in set2:\", difference1)\n",
    "    print(\"Elements in set2 but not in set1:\", difference2)\n",
    "        \n",
    "if __name__ == '__main__':\n",
    "    main()         "
   ]
  },
  {
   "cell_type": "code",
   "execution_count": 3,
   "id": "c5208c2d-6a7b-404c-849e-cdb013014cf8",
   "metadata": {},
   "outputs": [
    {
     "name": "stdout",
     "output_type": "stream",
     "text": [
      "{'learn', 'is', 'Data-Science..', 'to', 'best', 'pw-skills', 'platform'}\n"
     ]
    }
   ],
   "source": [
    "#Set Based Practice Problem :\n",
    "#33. Create a set from a string.\n",
    "\n",
    "def main():\n",
    "    string = \"pw-skills is best platform to learn Data-Science..\"\n",
    "    set1 = set(string.split())\n",
    "    print(set1)\n",
    "    \n",
    "if __name__ == '__main__':\n",
    "    main()       "
   ]
  },
  {
   "cell_type": "code",
   "execution_count": 2,
   "id": "2aec3c5a-3d47-4c43-86a7-f4a7cc37bb50",
   "metadata": {},
   "outputs": [
    {
     "name": "stdout",
     "output_type": "stream",
     "text": [
      "{34, 2, 4, 6, 9, 56, 89}\n"
     ]
    }
   ],
   "source": [
    "#Set Based Practice Problem :\n",
    "#34. Convert a set of strings to a set of integers.\n",
    "\n",
    "def main():\n",
    "    stringset = {'2','4','34','6','9','89','56'}\n",
    "    intset = {int(_) for _ in stringset}\n",
    "    print(intset)\n",
    "\n",
    "if __name__ == '__main__':\n",
    "    main() "
   ]
  },
  {
   "cell_type": "code",
   "execution_count": 4,
   "id": "6caf2e88-53cb-43f0-9ce7-d23a3c4a238e",
   "metadata": {},
   "outputs": [
    {
     "name": "stdout",
     "output_type": "stream",
     "text": [
      "{'6', '56', '34', '9', '89', '4', '2'}\n"
     ]
    }
   ],
   "source": [
    "#Set Based Practice Problem :\n",
    "#35. Convert a set of integers to a set of strings.\n",
    "\n",
    "def main():\n",
    "    intset = {34, 2, 4, 6, 9, 56, 89}\n",
    "    stringset = {str(_) for _ in intset}\n",
    "    print(stringset)\n",
    "\n",
    "if __name__ == '__main__':\n",
    "    main() "
   ]
  },
  {
   "cell_type": "code",
   "execution_count": 5,
   "id": "7e9c7310-a25d-4263-a87c-e1fe096295bd",
   "metadata": {},
   "outputs": [
    {
     "name": "stdout",
     "output_type": "stream",
     "text": [
      "{1, 2, 3, 4, 5, 'pwskills', 'lab'}\n"
     ]
    }
   ],
   "source": [
    "#Set Based Practice Problem :\n",
    "#36. Create a set from a tuple.\n",
    "\n",
    "def main():\n",
    "    tup1 = (1, 2, 3,\"pwskills\",4, 5,\"lab\")\n",
    "    set1 = set(tup1)\n",
    "    print(set1)\n",
    "    \n",
    "if __name__ == '__main__':\n",
    "    main()     "
   ]
  },
  {
   "cell_type": "code",
   "execution_count": 6,
   "id": "66b5d42e-c03a-4654-b58a-35ff1a124e84",
   "metadata": {},
   "outputs": [
    {
     "name": "stdout",
     "output_type": "stream",
     "text": [
      "(1, 2, 3, 4, 5, 'pwskills', 'lab')\n"
     ]
    }
   ],
   "source": [
    "#Set Based Practice Problem :\n",
    "#37. Convert a set to a tuple.\n",
    "\n",
    "def main():\n",
    "    set1 = {1, 2, 3,\"pwskills\",4, 5,\"lab\"}\n",
    "    tup1 = tuple(set1)\n",
    "    print(tup1)\n",
    "    \n",
    "if __name__ == '__main__':\n",
    "    main()     "
   ]
  },
  {
   "cell_type": "code",
   "execution_count": 3,
   "id": "e67b3a84-fcd4-488b-bca5-c1a98394c94f",
   "metadata": {},
   "outputs": [
    {
     "name": "stdout",
     "output_type": "stream",
     "text": [
      "{89, 34, 2, 4, 6, 56, 9}\n",
      "89\n"
     ]
    }
   ],
   "source": [
    "#Set Based Practice Problem :\n",
    "#38. Find the maximum value in a set.\n",
    "\n",
    "def main():\n",
    "    set1 = {34, 2, 4, 6, 9, 56, 89}\n",
    "    print(set1)\n",
    "    maximum_value = max(set1)\n",
    "    print(maximum_value)\n",
    "    \n",
    "if __name__ == '__main__':\n",
    "    main()     "
   ]
  },
  {
   "cell_type": "code",
   "execution_count": 5,
   "id": "a7004f49-236f-40b9-bfd9-4d85df0d868d",
   "metadata": {},
   "outputs": [
    {
     "name": "stdout",
     "output_type": "stream",
     "text": [
      "{89, 34, 2, 4, 6, 56, 9}\n",
      "2\n"
     ]
    }
   ],
   "source": [
    "#Set Based Practice Problem :\n",
    "#39. Find the minimum value in a set\n",
    "\n",
    "def main():\n",
    "    set1 = {34, 2, 4, 6, 9, 56, 89}\n",
    "    print(set1)\n",
    "    minimum_value = min(set1)\n",
    "    print(minimum_value)\n",
    "    \n",
    "if __name__ == '__main__':\n",
    "    main()    "
   ]
  },
  {
   "cell_type": "code",
   "execution_count": 3,
   "id": "669d9474-a928-479a-845d-fe732ceaa5ed",
   "metadata": {},
   "outputs": [
    {
     "name": "stdin",
     "output_type": "stream",
     "text": [
      "Enter the values separated by Commas :  12,45,sagar,56,4\n"
     ]
    },
    {
     "name": "stdout",
     "output_type": "stream",
     "text": [
      "{'12', '56', '4', 'sagar', '45'}\n"
     ]
    }
   ],
   "source": [
    "#Set Based Practice Problem :\n",
    "#40. Create a set from user input.\n",
    "\n",
    "def main():\n",
    "    user_input = input(\"Enter the values separated by Commas : \")\n",
    "    set1 = set(user_input.split(','))\n",
    "    \n",
    "    print(set1)\n",
    "    \n",
    "if __name__ == '__main__':\n",
    "    main()      "
   ]
  },
  {
   "cell_type": "code",
   "execution_count": 6,
   "id": "ed5e636b-5f1d-41b2-8cf7-1759a6d7e2a4",
   "metadata": {},
   "outputs": [
    {
     "name": "stdout",
     "output_type": "stream",
     "text": [
      "Set1 : {1, 2, 3, 4, 5, 6}\n",
      "Set2 : {1, 3, 5, 6, 7, 9}\n",
      "Set3 : {53, 23, 56, 11, 44}\n",
      "\n",
      "Comparison between Set1 and Set2 :\n",
      "Set1 and Set2 intersection set = {1, 3, 5, 6}\n",
      "\n",
      "Comparison between Set2 and Set3 :\n",
      "Set2 and Set3 does not intersect to each other\n"
     ]
    }
   ],
   "source": [
    "#Set Based Practice Problem :\n",
    "#41. Check if the intersection of two sets is empty\n",
    "\n",
    "def main():\n",
    "    set1 = {1,2,3,4,5,6}\n",
    "    set2 = {5,6,7,3,9,1}\n",
    "    set3 = {11,23,44,53,56}\n",
    "\n",
    "    intersect1to2 = set1.intersection(set2)\n",
    "    intersect2to3 = set2.intersection(set3)\n",
    "    print(f\"Set1 : {set1}\\nSet2 : {set2}\\nSet3 : {set3}\")\n",
    "    \n",
    "    print(\"\\nComparison between Set1 and Set2 :\")\n",
    "    if set1.intersection(set2):\n",
    "        print(f\"Set1 and Set2 intersection set = {intersect1to2}\")\n",
    "    \n",
    "    else:\n",
    "        print(\"Set1 and Set2 does not intersect to each other\")\n",
    "        \n",
    "    print(\"\\nComparison between Set2 and Set3 :\")\n",
    "    if set2.intersection(set3):\n",
    "        print(f\"Set2 and Set3 intersection set = {intersect1to2}\") \n",
    "    else:\n",
    "        print(\"Set2 and Set3 does not intersect to each other\")                \n",
    "    \n",
    "                         \n",
    "if __name__ == '__main__':\n",
    "    main() \n",
    "                         \n",
    "                         "
   ]
  },
  {
   "cell_type": "code",
   "execution_count": 8,
   "id": "97f2a9dc-b306-4355-af35-29abd9418b44",
   "metadata": {},
   "outputs": [
    {
     "name": "stdout",
     "output_type": "stream",
     "text": [
      "Fibonacci set : {0, 1, 2, 3, 5}\n"
     ]
    }
   ],
   "source": [
    "#Set Based Practice Problem :\n",
    "#42. Create a set of the first 5 Fibonacci numbers.\n",
    "\n",
    "def main():\n",
    "    lst  = []\n",
    "    \n",
    "    for i in range(6):\n",
    "        if i <= 1:\n",
    "            lst.append(i)\n",
    "        else:\n",
    "            lst.append(lst[-1] + lst[-2])\n",
    "            \n",
    "    fibonacci_set = set(lst)        \n",
    "    print(f\"Fibonacci set : {fibonacci_set}\") \n",
    "    \n",
    "if __name__ == '__main__':\n",
    "    main() \n",
    "                   "
   ]
  },
  {
   "cell_type": "code",
   "execution_count": 17,
   "id": "c6b04b72-ca7f-4bae-b2e7-7dda1c855b1a",
   "metadata": {},
   "outputs": [
    {
     "name": "stdout",
     "output_type": "stream",
     "text": [
      "Original List: [1, 2, 5, 3, 6, 4, 6, 3, 7, 1, 3, 3]\n",
      "List with Duplicates Removed: [1, 2, 3, 4, 5, 6, 7]\n"
     ]
    }
   ],
   "source": [
    "#Set Based Practice Problem :\n",
    "#43. Remove duplicates from a list using sets.\n",
    "\n",
    "def main():\n",
    "    \n",
    "    original_lst = [1,2,5,3,6,4,6,3,7,1,3,3]\n",
    "    \n",
    "    set1 = set(original_lst)\n",
    "    unique_lst = list(set1)\n",
    "    \n",
    "\n",
    "    print(\"Original List:\", original_lst)\n",
    "    print(\"List with Duplicates Removed:\", unique_lst)\n",
    "    \n",
    "if __name__ == '__main__':\n",
    "    main() \n",
    "    \n",
    "    "
   ]
  },
  {
   "cell_type": "code",
   "execution_count": 26,
   "id": "8a4d29fc-96c7-4a32-8655-7cbdc794e4ad",
   "metadata": {},
   "outputs": [
    {
     "name": "stdout",
     "output_type": "stream",
     "text": [
      "Set1 = {1, 2, 3, 4, 5}\n",
      "Set2 = {1, 2, 3, 4, 5}\n",
      "\n",
      "Yes!! Set1 and Set2 have Same values or elements\n"
     ]
    }
   ],
   "source": [
    "#Set Based Practice Problem :\n",
    "#44. Check if two sets have the same elements, regardless of their count.\n",
    "\n",
    "def have_same_values(set1, set2):\n",
    "    return True if sorted(list(set1)) == sorted(list(set2)) else False\n",
    "\n",
    "def main():\n",
    "    set1 = {1, 2, 3, 4, 5}\n",
    "    set2 = {4, 5, 2, 3, 1,3}\n",
    "    print(f\"Set1 = {set1}\\nSet2 = {set2}\\n\")\n",
    "    \n",
    "    print(\"Yes!! Set1 and Set2 have Same values or elements\" if have_same_values(set1, set2) else \"No!! Set1 and Set2 doesn't have Same values or elements\" )\n",
    "    \n",
    "if __name__ == '__main__':\n",
    "    main() "
   ]
  },
  {
   "cell_type": "code",
   "execution_count": 29,
   "id": "8af36fab-862f-4672-98ea-4756cdb4e6a1",
   "metadata": {},
   "outputs": [
    {
     "name": "stdin",
     "output_type": "stream",
     "text": [
      "Enter The Number :  7\n"
     ]
    },
    {
     "name": "stdout",
     "output_type": "stream",
     "text": [
      "Set =  {32, 64, 2, 128, 4, 8, 16}\n"
     ]
    }
   ],
   "source": [
    "#Set Based Practice Problem :\n",
    "#45. Create a set of the first `n` powers of 2.\n",
    "\n",
    "def main():\n",
    "    \n",
    "    num = int(input(\"Enter The Number : \"))\n",
    "    set1 = set(2**x for x in range(1,num+1))\n",
    "    print(\"Set = \",set1)\n",
    "    \n",
    "    \n",
    "if __name__ == '__main__':\n",
    "    main()     "
   ]
  },
  {
   "cell_type": "code",
   "execution_count": 32,
   "id": "8b124c5a-8471-4dda-9a37-b361f6866d1d",
   "metadata": {},
   "outputs": [
    {
     "name": "stdout",
     "output_type": "stream",
     "text": [
      "List = [1, 2, 3, 4, 5, 6, 7]\n",
      "Set = {66, 3, 4, 5, 6, 34, 7, 11, 80, 82}\n",
      "\n",
      "Yes, List and set have some Common Elements [3, 4, 5, 6, 7]\n"
     ]
    }
   ],
   "source": [
    "#Set Based Practice Problem :\n",
    "#46. Find the common elements between a set and a list.\n",
    "\n",
    "def main():\n",
    "    lst = [1, 2, 3, 4, 5, 6, 7]\n",
    "    set1 ={5, 3, 6, 4,11,82,66,34,7,80}\n",
    "    same_elements = []\n",
    "    for ele in lst:\n",
    "        if ele in set1:\n",
    "            same_elements.append(ele)\n",
    "    print(f\"List = {lst}\\nSet = {set1}\\n\")        \n",
    "    print(f\"Yes, List and set have some Common Elements {same_elements}\" if same_elements else \"No, List and set doesnt have any Common Elements...\" )   \n",
    "    \n",
    "    \n",
    "    \n",
    "if __name__ == '__main__':\n",
    "    main()  "
   ]
  },
  {
   "cell_type": "code",
   "execution_count": 34,
   "id": "80141628-3a4d-4320-9dd5-de1f81f083e8",
   "metadata": {},
   "outputs": [
    {
     "name": "stdin",
     "output_type": "stream",
     "text": [
      "Enter The number :  7\n"
     ]
    },
    {
     "name": "stdout",
     "output_type": "stream",
     "text": [
      "Triangular number set = {0, 1, 3, 6, 10, 15, 21, 28}\n"
     ]
    }
   ],
   "source": [
    "#Set Based Practice Problem :\n",
    "#47. Create a set of the first `n` triangular numbers.\n",
    "\n",
    "def main():\n",
    "    num = int(input(\"Enter The number : \"))\n",
    "    \n",
    "    lst = []\n",
    "    for i in range(0,num+1):\n",
    "        if i <=1:\n",
    "            lst.append(i)\n",
    "        else:    \n",
    "            lst.append(lst[i-1]+i)\n",
    "            \n",
    "    set1 = set(lst)\n",
    "    print(f\"Triangular number set = {set1}\")\n",
    "    \n",
    "    \n",
    "if __name__ == '__main__':\n",
    "    main()      "
   ]
  },
  {
   "cell_type": "code",
   "execution_count": 38,
   "id": "aac2d853-c1c4-4108-b4b9-0c0c5b2f239a",
   "metadata": {},
   "outputs": [
    {
     "name": "stdout",
     "output_type": "stream",
     "text": [
      "Set1 = {1, 2, 3, 4, 5, 6, 7}\n",
      "Set2 = {1, 34, 3, 4, 5, 6, 7, 8, 2, 78}\n",
      "\n",
      "Set1 is subset of Set2\n"
     ]
    }
   ],
   "source": [
    "#Set Based Practice Problem :\n",
    "#48. Check if a set contains another set as a subset.\n",
    "\n",
    "def main():\n",
    "    set1 = {1, 2, 3, 4, 5, 6, 7}\n",
    "    set2 = {1,3,5,8,34,78,7,4, 5, 6,2} \n",
    "    print(f\"Set1 = {set1}\\nSet2 = {set2}\\n\")\n",
    "    \n",
    "    print(\"Set1 is subset of Set2\" if set1.issubset(set2) else \"Set1 is not subset of Set2\" )\n",
    "    \n",
    "    \n",
    "    \n",
    "if __name__ == '__main__':\n",
    "    main()     "
   ]
  },
  {
   "cell_type": "code",
   "execution_count": 1,
   "id": "cbdd7fcb-ec00-4881-abfb-d5c29c415254",
   "metadata": {},
   "outputs": [
    {
     "name": "stdin",
     "output_type": "stream",
     "text": [
      "Enter the length :  5\n"
     ]
    },
    {
     "name": "stdout",
     "output_type": "stream",
     "text": [
      "List of 0 and 1 =  [0, 1, 0, 1, 0]\n",
      "Set of 0 and 1 =  {0, 1}\n"
     ]
    }
   ],
   "source": [
    "#Set Based Practice Problem :\n",
    "#49. Create a set of alternating 1s and 0s of length `n`.\n",
    "\n",
    "def main():\n",
    "    lst = []\n",
    "    num = int(input(\"Enter the length : \"))\n",
    "    \n",
    "    while len(lst) != num:\n",
    "        if len(lst) == 0:\n",
    "            lst.append(0)\n",
    "        if lst[-1] == 0:\n",
    "            lst.append(1)\n",
    "        else:\n",
    "            lst.append(0)\n",
    "\n",
    "    set1 = set(lst)\n",
    "    print(f\"List of 0 and 1 = \",lst)\n",
    "    print(f\"Set of 0 and 1 = \",set1)\n",
    "    \n",
    "if __name__ == '__main__':\n",
    "    main()     "
   ]
  },
  {
   "cell_type": "code",
   "execution_count": 1,
   "id": "b4568a77-a027-4965-9e63-cc5d5ba1413b",
   "metadata": {},
   "outputs": [
    {
     "name": "stdout",
     "output_type": "stream",
     "text": [
      "Merged Set: {1, 2, 3, 4, 5, 6, 7}\n"
     ]
    }
   ],
   "source": [
    "#Set Based Practice Problem :\n",
    "#50. Merge multiple sets into one.\n",
    "\n",
    "\n",
    "def main():\n",
    "    set1 = {1, 2, 3}\n",
    "    set2 = {3, 4, 5}\n",
    "    set3 = {5, 6, 7}\n",
    "\n",
    "    merged_set = set1.union(set2, set3)\n",
    "    print(\"Merged Set:\", merged_set)\n",
    "\n",
    "if __name__ == '__main__':\n",
    "    main()     "
   ]
  },
  {
   "cell_type": "code",
   "execution_count": null,
   "id": "411d8450-578c-49d7-8369-065e76c2a3a3",
   "metadata": {},
   "outputs": [],
   "source": []
  }
 ],
 "metadata": {
  "kernelspec": {
   "display_name": "Python 3 (ipykernel)",
   "language": "python",
   "name": "python3"
  },
  "language_info": {
   "codemirror_mode": {
    "name": "ipython",
    "version": 3
   },
   "file_extension": ".py",
   "mimetype": "text/x-python",
   "name": "python",
   "nbconvert_exporter": "python",
   "pygments_lexer": "ipython3",
   "version": "3.10.8"
  }
 },
 "nbformat": 4,
 "nbformat_minor": 5
}
